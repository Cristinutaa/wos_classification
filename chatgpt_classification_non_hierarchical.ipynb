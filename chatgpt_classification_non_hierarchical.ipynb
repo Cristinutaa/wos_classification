{
 "cells": [
  {
   "cell_type": "code",
   "execution_count": 1,
   "metadata": {
    "colab": {
     "base_uri": "https://localhost:8080/"
    },
    "id": "nFUjaeFwMT-c",
    "outputId": "be1cdd6a-c84d-4586-d66b-089d082d32a8"
   },
   "outputs": [],
   "source": [
    "import time\n",
    "from tqdm import tqdm\n",
    "import json\n",
    "import tiktoken\n",
    "import pandas as pd"
   ]
  },
  {
   "cell_type": "code",
   "execution_count": 2,
   "metadata": {},
   "outputs": [],
   "source": [
    "def gpt_with_retry(prompt, api_key='api key'):\n",
    "    # Define the API endpoint for GPT-3.5 Turbo\n",
    "    api_url = \"https://api.openai.com/v1/chat/completions\"\n",
    "\n",
    "    # Set up the headers with your OpenAI API key\n",
    "    headers = {\n",
    "        \"Authorization\": f\"Bearer {api_key}\",\n",
    "        \"Content-Type\": \"application/json\"\n",
    "    }\n",
    "\n",
    "    # Define the data payload for the API request\n",
    "    data = {\n",
    "        \"model\": \"gpt-3.5-turbo\",\n",
    "        \"messages\": [{\"role\": \"user\",\n",
    "                      \"content\": prompt}],\n",
    "    }\n",
    "\n",
    "    attempts = 0\n",
    "    max_attempts = 10  # Maximum number of attempts\n",
    "    while attempts < max_attempts:\n",
    "        try:\n",
    "            response = requests.post(api_url, headers=headers, json=data, timeout=180)  # 60-second timeout\n",
    "            if response.status_code == 200:\n",
    "                response = response.json()['choices'][0]['message']['content'].strip(' .,').lower()\n",
    "                return response\n",
    "            else:\n",
    "                attempts += 1\n",
    "                print('Status code {}'.format(response.status_code))\n",
    "                time.sleep(60 if str(response.status_code) == '429' else 5)  # Wait for 5 seconds before retrying\n",
    "        except requests.exceptions.Timeout as e:\n",
    "            attempts += 1  # Retry if the request times out\n",
    "            time.sleep(5)\n",
    "            print(attempts, e)\n",
    "        except requests.exceptions.RequestException as e:\n",
    "            attempts += 1\n",
    "            time.sleep(5)  # Wait for 5 seconds before retrying\n",
    "            print(attempts, e)\n",
    "    print(prompt)\n",
    "    raise Exception('max_attempts exceeded')\n",
    "    return None  # Return None if all attempts fail"
   ]
  },
  {
   "cell_type": "code",
   "execution_count": 3,
   "metadata": {
    "id": "rB36iWMqIVG3"
   },
   "outputs": [],
   "source": [
    "test_data = pd.read_csv('H:/data/WoS_data/data_gpt50.csv', usecols=['PUBID', 'ABSTRACT', 'final_disciplines'], dtype=str)"
   ]
  },
  {
   "cell_type": "code",
   "execution_count": 4,
   "metadata": {
    "colab": {
     "base_uri": "https://localhost:8080/",
     "height": 423
    },
    "id": "inDW8QokIaoD",
    "outputId": "2e781d05-ae89-498a-80d3-67dfc9c83aa4"
   },
   "outputs": [],
   "source": [
    "test_dict = test_data.set_index('PUBID').ABSTRACT.to_dict()"
   ]
  },
  {
   "cell_type": "code",
   "execution_count": 5,
   "metadata": {
    "colab": {
     "base_uri": "https://localhost:8080/",
     "height": 53
    },
    "id": "hIonPIXj0mS0",
    "outputId": "78c9ff38-9b77-4fc9-b9be-5332f0e92d13"
   },
   "outputs": [],
   "source": [
    "prompt = open('prompts/non-hierarchical/description.txt', 'r').read()"
   ]
  },
  {
   "cell_type": "code",
   "execution_count": 6,
   "metadata": {},
   "outputs": [],
   "source": [
    "disciplines = []\n",
    "with open('discipline_structure.json', 'r') as f:\n",
    "    data = json.load(f)\n",
    "for _, value in data.items():\n",
    "    disciplines.extend(list(value.keys()))"
   ]
  },
  {
   "cell_type": "code",
   "execution_count": 7,
   "metadata": {},
   "outputs": [
    {
     "data": {
      "text/plain": [
       "['agriculture, forestry, and fisheries',\n",
       " 'animal and dairy science',\n",
       " 'veterinary science',\n",
       " 'agricultural biotechnology',\n",
       " 'other agricultural sciences',\n",
       " 'civil engineering',\n",
       " 'electrical engineering, electronic engineering, information engineering',\n",
       " 'mechanical engineering',\n",
       " 'chemical engineering',\n",
       " 'materials engineering',\n",
       " 'medical engineering',\n",
       " 'environmental engineering',\n",
       " 'environmental biotechnology',\n",
       " 'industrial biotechnology',\n",
       " 'nano-technology',\n",
       " 'other engineering and technologies',\n",
       " 'history',\n",
       " 'archaeology',\n",
       " 'languages and linguistics',\n",
       " 'literature',\n",
       " 'philosophy and ethics',\n",
       " 'religion',\n",
       " 'arts (arts, history of arts, performing arts, music)',\n",
       " 'other humanities',\n",
       " 'basic medicine',\n",
       " 'clinical medicine',\n",
       " 'health sciences',\n",
       " 'health biotechnology',\n",
       " 'other medical sciences',\n",
       " 'mathematics',\n",
       " 'computer and information sciences',\n",
       " 'physical sciences',\n",
       " 'chemical sciences',\n",
       " 'earth and related environmental sciences',\n",
       " 'biological sciences',\n",
       " 'other natural sciences',\n",
       " 'psychology',\n",
       " 'economics and business',\n",
       " 'educational sciences',\n",
       " 'sociology',\n",
       " 'law',\n",
       " 'political science',\n",
       " 'social and economic geography',\n",
       " 'media and communications',\n",
       " 'other social sciences']"
      ]
     },
     "execution_count": 7,
     "metadata": {},
     "output_type": "execute_result"
    }
   ],
   "source": [
    "disciplines"
   ]
  },
  {
   "cell_type": "code",
   "execution_count": 8,
   "metadata": {},
   "outputs": [],
   "source": [
    "import re\n",
    "def check_result_structure(result):\n",
    "    pattern = re.compile(\"^(([a-z,\\-()\\s]+):\\s?[0-9]*\\s?&?)+$\")\n",
    "    return bool(pattern.match(result))"
   ]
  },
  {
   "cell_type": "code",
   "execution_count": 9,
   "metadata": {},
   "outputs": [
    {
     "data": {
      "text/plain": [
       "True"
      ]
     },
     "execution_count": 9,
     "metadata": {},
     "output_type": "execute_result"
    }
   ],
   "source": [
    "check_result_structure('languages and linguistics: 85&social and economic geography: 80&history: 75&arts (arts, history of arts, performing arts, music): 70&education sciences: 65')"
   ]
  },
  {
   "cell_type": "code",
   "execution_count": 10,
   "metadata": {},
   "outputs": [],
   "source": [
    "def get_check_results(result):\n",
    "    check_result_structure(result)\n",
    "    if all(any(item.split(':')[0].strip() in discipline and item.split(':')[1].strip().isnumeric() for discipline in disciplines) for item in result.split('&')):\n",
    "        return {y: int(item.split(':')[1].strip()) for item in result.split('&') for y in disciplines if y == item.split(':')[0].strip()}\n",
    "    return False"
   ]
  },
  {
   "cell_type": "code",
   "execution_count": 11,
   "metadata": {},
   "outputs": [
    {
     "data": {
      "text/plain": [
       "{'history': 30, 'law': 50, 'economics and business': 60}"
      ]
     },
     "execution_count": 11,
     "metadata": {},
     "output_type": "execute_result"
    }
   ],
   "source": [
    "get_check_results('history:30&law:50&economics and business:60')"
   ]
  },
  {
   "cell_type": "code",
   "execution_count": 44,
   "metadata": {},
   "outputs": [
    {
     "name": "stderr",
     "output_type": "stream",
     "text": [
      "\r",
      "  0%|                                                                                         | 0/1582 [00:00<?, ?it/s]"
     ]
    },
    {
     "name": "stdout",
     "output_type": "stream",
     "text": [
      "Manual input required. Current answer: physical sciences:80&materials engineering:70&nanotechnology:60&engineering and technologies:50&medical engineering:40. Possible answers: ['agriculture, forestry, and fisheries', 'animal and dairy science', 'veterinary science', 'agricultural biotechnology', 'other agricultural sciences', 'civil engineering', 'electrical engineering, electronic engineering, information engineering', 'mechanical engineering', 'chemical engineering', 'materials engineering', 'medical engineering', 'environmental engineering', 'environmental biotechnology', 'industrial biotechnology', 'nano-technology', 'other engineering and technologies', 'history', 'archaeology', 'languages and linguistics', 'literature', 'philosophy and ethics', 'religion', 'arts (arts, history of arts, performing arts, music)', 'other humanities', 'basic medicine', 'clinical medicine', 'health sciences', 'health biotechnology', 'other medical sciences', 'mathematics', 'computer and information sciences', 'physical sciences', 'chemical sciences', 'earth and related environmental sciences', 'biological sciences', 'other natural sciences', 'psychology', 'economics and business', 'educational sciences', 'sociology', 'law', 'political science', 'social and economic geography', 'media and communications', 'other social sciences']\n",
      "Please enter the corrected format: physical sciences:80&materials engineering:70&nano-technology:60&engineering and technologies:50&medical engineering:40\n"
     ]
    },
    {
     "name": "stderr",
     "output_type": "stream",
     "text": [
      "\r",
      "  9%|███████▏                                                                       | 145/1582 [00:31<05:17,  4.53it/s]"
     ]
    },
    {
     "name": "stdout",
     "output_type": "stream",
     "text": [
      "Manual input required. Current answer: economics and business: 75&social and economic geography: 65&statistics and probability: 60&computer and information sciences: 55&mathematics: 50. Possible answers: ['agriculture, forestry, and fisheries', 'animal and dairy science', 'veterinary science', 'agricultural biotechnology', 'other agricultural sciences', 'civil engineering', 'electrical engineering, electronic engineering, information engineering', 'mechanical engineering', 'chemical engineering', 'materials engineering', 'medical engineering', 'environmental engineering', 'environmental biotechnology', 'industrial biotechnology', 'nano-technology', 'other engineering and technologies', 'history', 'archaeology', 'languages and linguistics', 'literature', 'philosophy and ethics', 'religion', 'arts (arts, history of arts, performing arts, music)', 'other humanities', 'basic medicine', 'clinical medicine', 'health sciences', 'health biotechnology', 'other medical sciences', 'mathematics', 'computer and information sciences', 'physical sciences', 'chemical sciences', 'earth and related environmental sciences', 'biological sciences', 'other natural sciences', 'psychology', 'economics and business', 'educational sciences', 'sociology', 'law', 'political science', 'social and economic geography', 'media and communications', 'other social sciences']\n",
      "Please enter the corrected format: economics and business: 75&social and economic geography: 65&mathematics: 60&computer and information sciences: 55\n"
     ]
    },
    {
     "name": "stderr",
     "output_type": "stream",
     "text": [
      "\r",
      " 10%|███████▊                                                                       | 156/1582 [01:07<12:07,  1.96it/s]"
     ]
    },
    {
     "name": "stdout",
     "output_type": "stream",
     "text": [
      "Manual input required. Current answer: clinical medicine:100&pharmacology and pharmacy:90&basic medicine:80&medical engineering:70&health sciences:60. Possible answers: ['agriculture, forestry, and fisheries', 'animal and dairy science', 'veterinary science', 'agricultural biotechnology', 'other agricultural sciences', 'civil engineering', 'electrical engineering, electronic engineering, information engineering', 'mechanical engineering', 'chemical engineering', 'materials engineering', 'medical engineering', 'environmental engineering', 'environmental biotechnology', 'industrial biotechnology', 'nano-technology', 'other engineering and technologies', 'history', 'archaeology', 'languages and linguistics', 'literature', 'philosophy and ethics', 'religion', 'arts (arts, history of arts, performing arts, music)', 'other humanities', 'basic medicine', 'clinical medicine', 'health sciences', 'health biotechnology', 'other medical sciences', 'mathematics', 'computer and information sciences', 'physical sciences', 'chemical sciences', 'earth and related environmental sciences', 'biological sciences', 'other natural sciences', 'psychology', 'economics and business', 'educational sciences', 'sociology', 'law', 'political science', 'social and economic geography', 'media and communications', 'other social sciences']\n",
      "Please enter the corrected format: clinical medicine:100&basic medicine:80&medical engineering:70&health sciences:60\n"
     ]
    },
    {
     "name": "stderr",
     "output_type": "stream",
     "text": [
      "100%|██████████████████████████████████████████████████████████████████████████████| 1582/1582 [01:41<00:00, 15.55it/s]\n"
     ]
    }
   ],
   "source": [
    "import json\n",
    "from tqdm import tqdm\n",
    "manual_input = False # Change to True to allow manual correction of the gpt-3.5-turbo response\n",
    "try:\n",
    "    with open('results_subsample/chatgpt_results_non_hierarchical.json', 'r+') as f:\n",
    "        results = json.load(f)\n",
    "except FileNotFoundError:\n",
    "    results = {}\n",
    "for code, abstract in tqdm(test_dict.items()):\n",
    "    if code in results:\n",
    "        continue\n",
    "    answer = gpt_with_retry(prompt.format(abstract))\n",
    "    attempt = 0\n",
    "    answer = get_check_results(answer)\n",
    "    while not answer:\n",
    "        answer = gpt_with_retry(prompt.format(abstract))\n",
    "        temp_answer = answer\n",
    "        answer = get_check_results(answer)\n",
    "        attempt += 1\n",
    "        if attempt >= 5 and not answer:  # Limit attempts to prevent infinite loops\n",
    "            if manual_input:\n",
    "                    print(f\"Manual input required. Current answer: {temp_answer}. Possible answers: {disciplines}\")\n",
    "                    # Allow the user to input the correct format\n",
    "                    corrected_answer = input(\"Please enter the corrected format: \")\n",
    "                    answer = {x.split(':')[0].strip(): x.split(':')[1].strip() for x in corrected_answer.split('&') if x.split(':')[0].strip() in disciplines}\n",
    "            else:\n",
    "                print(f\"Max attempts reached for {code}\")\n",
    "                break\n",
    "    if answer:\n",
    "        results[code] = answer\n",
    "        with open('results_subsample/chatgpt_results_non_hierarchical.json', 'w+') as f:\n",
    "            json.dump(results, f)\n",
    "            "
   ]
  },
  {
   "cell_type": "code",
   "execution_count": 41,
   "metadata": {},
   "outputs": [
    {
     "data": {
      "text/plain": [
       "{'earth and related environmental sciences': 100,\n",
       " 'physical sciences': 90,\n",
       " 'materials engineering': 80,\n",
       " 'chemical engineering': 70,\n",
       " 'medical engineering': 60}"
      ]
     },
     "execution_count": 41,
     "metadata": {},
     "output_type": "execute_result"
    }
   ],
   "source": [
    "get_check_results('earth and related environmental sciences:100&physical sciences:90&materials engineering:80&chemical engineering:70&medical engineering:60')"
   ]
  },
  {
   "cell_type": "code",
   "execution_count": null,
   "metadata": {},
   "outputs": [],
   "source": []
  }
 ],
 "metadata": {
  "colab": {
   "provenance": []
  },
  "kernelspec": {
   "display_name": "Python 3",
   "language": "python",
   "name": "python3"
  },
  "language_info": {
   "codemirror_mode": {
    "name": "ipython",
    "version": 3
   },
   "file_extension": ".py",
   "mimetype": "text/x-python",
   "name": "python",
   "nbconvert_exporter": "python",
   "pygments_lexer": "ipython3",
   "version": "3.9.1"
  }
 },
 "nbformat": 4,
 "nbformat_minor": 1
}
