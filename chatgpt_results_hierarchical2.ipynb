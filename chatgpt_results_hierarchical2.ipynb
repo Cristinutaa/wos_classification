{
 "cells": [
  {
   "cell_type": "code",
   "execution_count": 30,
   "id": "initial-amendment",
   "metadata": {},
   "outputs": [],
   "source": [
    "import json\n",
    "import pandas as pd\n",
    "\n",
    "# Load the JSON data\n",
    "with open('results/ChatGPT/intermediate_results/chatgpt_results_hierarchical2_description_title.json', 'r') as file:\n",
    "    data = json.load(file)"
   ]
  },
  {
   "cell_type": "markdown",
   "id": "documented-windows",
   "metadata": {},
   "source": [
    "### Option 1: total score > 0.5 and max 3 disciplines per area"
   ]
  },
  {
   "cell_type": "code",
   "execution_count": 33,
   "id": "fifty-collaboration",
   "metadata": {},
   "outputs": [],
   "source": [
    "import json\n",
    "import pandas as pd\n",
    "\n",
    "# Assuming the JSON data is loaded as shown previously\n",
    "\n",
    "# Initialize a list to store the results\n",
    "results = []\n",
    "\n",
    "# Iterate through each PUBID and its categories\n",
    "for pubid, categories in data.items():\n",
    "    all_disciplines = []\n",
    "    highest_score_discipline = (None, 0)  # Tuple to track the discipline with the highest score and its score\n",
    "\n",
    "    # Process each category\n",
    "    for category, details in categories.items():\n",
    "        category_score = float(details['score']) / 100\n",
    "        sorted_disciplines = sorted(details['disciplines'].items(), key=lambda x: category_score * float(x[1]) / 100, reverse=True)\n",
    "\n",
    "        added_per_category = 0\n",
    "        for discipline, score in sorted_disciplines:\n",
    "            final_score = category_score * float(score) / 100\n",
    "            if final_score > highest_score_discipline[1]:  # Update the highest scoring discipline if needed\n",
    "                highest_score_discipline = (discipline, final_score)\n",
    "            if final_score > 0.5 and added_per_category < 3:\n",
    "                all_disciplines.append((discipline, final_score, category))\n",
    "                added_per_category += 1\n",
    "\n",
    "    # Enforce the total limit of 5 disciplines per PUBID\n",
    "    all_disciplines_sorted = sorted(all_disciplines, key=lambda x: x[1], reverse=True)\n",
    "\n",
    "    retained_disciplines = []\n",
    "    category_counts = {}\n",
    "    for discipline, _, category in all_disciplines_sorted:\n",
    "        if len(retained_disciplines) < 5:\n",
    "            if category_counts.get(category, 0) < 3:\n",
    "                retained_disciplines.append(discipline)\n",
    "                category_counts[category] = category_counts.get(category, 0) + 1\n",
    "\n",
    "    # If no discipline passes the threshold, add the one with the highest score\n",
    "    if not retained_disciplines and highest_score_discipline[0]:\n",
    "        retained_disciplines.append(highest_score_discipline[0])\n",
    "\n",
    "    # Append the result\n",
    "    results.append({'PUBID': pubid, 'chatgpt': retained_disciplines})\n",
    "\n",
    "# Convert the results to a DataFrame\n",
    "results_df = pd.DataFrame(results)"
   ]
  },
  {
   "cell_type": "markdown",
   "id": "coupled-female",
   "metadata": {},
   "source": [
    "### Option 2. If area score > 0.7, retain the top discipline of the area independent of its score."
   ]
  },
  {
   "cell_type": "code",
   "execution_count": 5,
   "id": "sexual-electron",
   "metadata": {},
   "outputs": [
    {
     "data": {
      "text/html": [
       "<div>\n",
       "<style scoped>\n",
       "    .dataframe tbody tr th:only-of-type {\n",
       "        vertical-align: middle;\n",
       "    }\n",
       "\n",
       "    .dataframe tbody tr th {\n",
       "        vertical-align: top;\n",
       "    }\n",
       "\n",
       "    .dataframe thead th {\n",
       "        text-align: right;\n",
       "    }\n",
       "</style>\n",
       "<table border=\"1\" class=\"dataframe\">\n",
       "  <thead>\n",
       "    <tr style=\"text-align: right;\">\n",
       "      <th></th>\n",
       "      <th>PUBID</th>\n",
       "      <th>chatgpt</th>\n",
       "    </tr>\n",
       "  </thead>\n",
       "  <tbody>\n",
       "    <tr>\n",
       "      <th>0</th>\n",
       "      <td>486688800001</td>\n",
       "      <td>[mathematics]</td>\n",
       "    </tr>\n",
       "    <tr>\n",
       "      <th>1</th>\n",
       "      <td>490689400001</td>\n",
       "      <td>[agriculture, forestry, and fisheries, earth a...</td>\n",
       "    </tr>\n",
       "    <tr>\n",
       "      <th>2</th>\n",
       "      <td>494013500001</td>\n",
       "      <td>[political science]</td>\n",
       "    </tr>\n",
       "    <tr>\n",
       "      <th>3</th>\n",
       "      <td>497937300001</td>\n",
       "      <td>[biological sciences, animal and dairy science...</td>\n",
       "    </tr>\n",
       "    <tr>\n",
       "      <th>4</th>\n",
       "      <td>500234900001</td>\n",
       "      <td>[literature, other engineering and technologie...</td>\n",
       "    </tr>\n",
       "    <tr>\n",
       "      <th>...</th>\n",
       "      <td>...</td>\n",
       "      <td>...</td>\n",
       "    </tr>\n",
       "    <tr>\n",
       "      <th>185</th>\n",
       "      <td>843237200001</td>\n",
       "      <td>[educational sciences, psychology, health scie...</td>\n",
       "    </tr>\n",
       "    <tr>\n",
       "      <th>186</th>\n",
       "      <td>866351500058</td>\n",
       "      <td>[clinical medicine]</td>\n",
       "    </tr>\n",
       "    <tr>\n",
       "      <th>187</th>\n",
       "      <td>871947700028</td>\n",
       "      <td>[other social sciences, archaeology, sociology]</td>\n",
       "    </tr>\n",
       "    <tr>\n",
       "      <th>188</th>\n",
       "      <td>693728100001</td>\n",
       "      <td>[economics and business, history, social and e...</td>\n",
       "    </tr>\n",
       "    <tr>\n",
       "      <th>189</th>\n",
       "      <td>711249000001</td>\n",
       "      <td>[clinical medicine]</td>\n",
       "    </tr>\n",
       "  </tbody>\n",
       "</table>\n",
       "<p>190 rows × 2 columns</p>\n",
       "</div>"
      ],
      "text/plain": [
       "            PUBID                                            chatgpt\n",
       "0    486688800001                                      [mathematics]\n",
       "1    490689400001  [agriculture, forestry, and fisheries, earth a...\n",
       "2    494013500001                                [political science]\n",
       "3    497937300001  [biological sciences, animal and dairy science...\n",
       "4    500234900001  [literature, other engineering and technologie...\n",
       "..            ...                                                ...\n",
       "185  843237200001  [educational sciences, psychology, health scie...\n",
       "186  866351500058                                [clinical medicine]\n",
       "187  871947700028    [other social sciences, archaeology, sociology]\n",
       "188  693728100001  [economics and business, history, social and e...\n",
       "189  711249000001                                [clinical medicine]\n",
       "\n",
       "[190 rows x 2 columns]"
      ]
     },
     "execution_count": 5,
     "metadata": {},
     "output_type": "execute_result"
    }
   ],
   "source": [
    "import json\n",
    "import pandas as pd\n",
    "\n",
    "# Initialize a list to store the results\n",
    "results = []\n",
    "\n",
    "# Iterate through each PUBID and its categories\n",
    "for pubid, categories in data.items():\n",
    "    all_disciplines = []\n",
    "    highest_score_discipline_backup = (None, 0)  # Backup: highest score overall\n",
    "    highest_score_disciplines_per_category = []  # For categories with score > 0.7\n",
    "\n",
    "    # Process each category\n",
    "    for category, details in categories.items():\n",
    "        category_score = float(details['score']) / 100\n",
    "\n",
    "        # Identify the discipline with the highest score in this category\n",
    "        highest_score_discipline_in_category = max(details['disciplines'].items(), key=lambda x: float(x[1]), default=(None, 0))\n",
    "\n",
    "        # Calculate the combined score for the highest score discipline in this category\n",
    "        discipline_score = float(highest_score_discipline_in_category[1]) / 100 if highest_score_discipline_in_category[0] else 0\n",
    "        combined_score_highest_discipline = category_score * discipline_score\n",
    "        \n",
    "        # Update backup discipline if this one has the highest combined score so far\n",
    "        if combined_score_highest_discipline > highest_score_discipline_backup[1]:\n",
    "            highest_score_discipline_backup = (highest_score_discipline_in_category[0], combined_score_highest_discipline)\n",
    "\n",
    "        # Keep the discipline if category score > 0.7\n",
    "        if category_score > 0.7:\n",
    "            highest_score_disciplines_per_category.append((highest_score_discipline_in_category[0], combined_score_highest_discipline))\n",
    "\n",
    "        # Additionally, add all disciplines with a combined score > 0.7\n",
    "        for discipline, score in details['disciplines'].items():\n",
    "            final_score = category_score * float(score) / 100\n",
    "            if final_score > 0.6:\n",
    "                all_disciplines.append((discipline, final_score))\n",
    "\n",
    "    # Combine the selected disciplines, prioritizing unique entries\n",
    "    selected_disciplines = set([discipline for discipline, _ in highest_score_disciplines_per_category])\n",
    "    selected_disciplines.update([discipline for discipline, _ in all_disciplines if discipline not in selected_disciplines])\n",
    "\n",
    "    # If no discipline is selected based on the criteria, use the backup discipline\n",
    "    if not selected_disciplines and highest_score_discipline_backup[0]:\n",
    "        selected_disciplines.add(highest_score_discipline_backup[0])\n",
    "\n",
    "    # Limit to 5 disciplines at most\n",
    "    selected_disciplines = list(selected_disciplines)[:5]\n",
    "\n",
    "    # Append the result\n",
    "    results.append({'PUBID': pubid, 'chatgpt': list(selected_disciplines)})\n",
    "\n",
    "# Convert the results to a DataFrame\n",
    "results_df = pd.DataFrame(results)\n",
    "results_df"
   ]
  },
  {
   "cell_type": "code",
   "execution_count": 6,
   "id": "divine-proportion",
   "metadata": {},
   "outputs": [],
   "source": [
    "results_df['prediction_length'] = results_df.chatgpt.apply(len)"
   ]
  },
  {
   "cell_type": "code",
   "execution_count": 7,
   "id": "crazy-fiction",
   "metadata": {},
   "outputs": [
    {
     "data": {
      "text/plain": [
       "prediction_length\n",
       "1    62\n",
       "2    44\n",
       "3    31\n",
       "5    29\n",
       "4    24\n",
       "Name: count, dtype: int64"
      ]
     },
     "execution_count": 7,
     "metadata": {},
     "output_type": "execute_result"
    }
   ],
   "source": [
    "results_df.prediction_length.value_counts()"
   ]
  },
  {
   "cell_type": "code",
   "execution_count": 8,
   "id": "dedicated-glance",
   "metadata": {},
   "outputs": [],
   "source": [
    "import pandas as pd\n",
    "test_data = pd.read_csv('H:/data/WoS_data/data_gpt50.csv', usecols=['PUBID', 'ABSTRACT', 'final_disciplines'], dtype=str)"
   ]
  },
  {
   "cell_type": "code",
   "execution_count": 9,
   "id": "superb-basement",
   "metadata": {},
   "outputs": [
    {
     "data": {
      "text/html": [
       "<div>\n",
       "<style scoped>\n",
       "    .dataframe tbody tr th:only-of-type {\n",
       "        vertical-align: middle;\n",
       "    }\n",
       "\n",
       "    .dataframe tbody tr th {\n",
       "        vertical-align: top;\n",
       "    }\n",
       "\n",
       "    .dataframe thead th {\n",
       "        text-align: right;\n",
       "    }\n",
       "</style>\n",
       "<table border=\"1\" class=\"dataframe\">\n",
       "  <thead>\n",
       "    <tr style=\"text-align: right;\">\n",
       "      <th></th>\n",
       "      <th>PUBID</th>\n",
       "      <th>ABSTRACT</th>\n",
       "      <th>final_disciplines</th>\n",
       "    </tr>\n",
       "  </thead>\n",
       "  <tbody>\n",
       "    <tr>\n",
       "      <th>0</th>\n",
       "      <td>485845700001</td>\n",
       "      <td>Over the past three decades, along with the ex...</td>\n",
       "      <td>Other humanities</td>\n",
       "    </tr>\n",
       "    <tr>\n",
       "      <th>1</th>\n",
       "      <td>490797000001</td>\n",
       "      <td>This paper reports on CFD simulations of in-cy...</td>\n",
       "      <td>Environmental engineering;Chemical engineering...</td>\n",
       "    </tr>\n",
       "    <tr>\n",
       "      <th>2</th>\n",
       "      <td>494419600001</td>\n",
       "      <td>The demand for lean protein is the main reason...</td>\n",
       "      <td>Electrical engineering, electronic engineering...</td>\n",
       "    </tr>\n",
       "    <tr>\n",
       "      <th>3</th>\n",
       "      <td>513452400001</td>\n",
       "      <td>In this article, 119 faculty members from 10 S...</td>\n",
       "      <td>Educational sciences</td>\n",
       "    </tr>\n",
       "    <tr>\n",
       "      <th>4</th>\n",
       "      <td>514500800001</td>\n",
       "      <td>Co-teaching is a widely used service delivery ...</td>\n",
       "      <td>Educational sciences;Health sciences</td>\n",
       "    </tr>\n",
       "    <tr>\n",
       "      <th>5</th>\n",
       "      <td>534713700004</td>\n",
       "      <td>Mindfulness has shown beneficial relationships...</td>\n",
       "      <td>Psychology;Basic medicine</td>\n",
       "    </tr>\n",
       "    <tr>\n",
       "      <th>6</th>\n",
       "      <td>536595900001</td>\n",
       "      <td>We examine public perceptions of the police co...</td>\n",
       "      <td>Law</td>\n",
       "    </tr>\n",
       "    <tr>\n",
       "      <th>7</th>\n",
       "      <td>548588800001</td>\n",
       "      <td>This study explores how televised football in ...</td>\n",
       "      <td>Media and communications;Sociology;Other socia...</td>\n",
       "    </tr>\n",
       "    <tr>\n",
       "      <th>8</th>\n",
       "      <td>549312100001</td>\n",
       "      <td>Petrographic analysis was conducted on pottery...</td>\n",
       "      <td>Archaeology;Other social sciences</td>\n",
       "    </tr>\n",
       "    <tr>\n",
       "      <th>9</th>\n",
       "      <td>550529800001</td>\n",
       "      <td>Local governments nationwide have been adoptin...</td>\n",
       "      <td>Economics and business;Social and economic geo...</td>\n",
       "    </tr>\n",
       "    <tr>\n",
       "      <th>10</th>\n",
       "      <td>557118000001</td>\n",
       "      <td>This paper proposes an account of natural anal...</td>\n",
       "      <td>Psychology;History</td>\n",
       "    </tr>\n",
       "    <tr>\n",
       "      <th>11</th>\n",
       "      <td>568579200001</td>\n",
       "      <td>In welfare-state urban renewal programs, playg...</td>\n",
       "      <td>Social and economic geography;History</td>\n",
       "    </tr>\n",
       "    <tr>\n",
       "      <th>12</th>\n",
       "      <td>568642800002</td>\n",
       "      <td>The defensibility of the extended mind thesis ...</td>\n",
       "      <td>Philosophy and ethics;Psychology;History</td>\n",
       "    </tr>\n",
       "    <tr>\n",
       "      <th>13</th>\n",
       "      <td>576785200001</td>\n",
       "      <td>Although many Indigenous peoples demonstrate r...</td>\n",
       "      <td>Sociology;Health sciences</td>\n",
       "    </tr>\n",
       "    <tr>\n",
       "      <th>14</th>\n",
       "      <td>579418100001</td>\n",
       "      <td>Objective The study aimed to assess the associ...</td>\n",
       "      <td>Clinical medicine</td>\n",
       "    </tr>\n",
       "    <tr>\n",
       "      <th>15</th>\n",
       "      <td>579654000001</td>\n",
       "      <td>Tourism research on the LGBTIQ + communities h...</td>\n",
       "      <td>Other social sciences;Sociology</td>\n",
       "    </tr>\n",
       "    <tr>\n",
       "      <th>16</th>\n",
       "      <td>588799300001</td>\n",
       "      <td>In recent years, recycling has been an attract...</td>\n",
       "      <td>Materials engineering;Civil engineering</td>\n",
       "    </tr>\n",
       "    <tr>\n",
       "      <th>17</th>\n",
       "      <td>589552300001</td>\n",
       "      <td>The 2012 gangrape of a young woman in Delhi, k...</td>\n",
       "      <td>Social and economic geography;Sociology</td>\n",
       "    </tr>\n",
       "    <tr>\n",
       "      <th>18</th>\n",
       "      <td>600162100001</td>\n",
       "      <td>This article argues for a theoretical synergy ...</td>\n",
       "      <td>Sociology;Art (arts, history of arts, performi...</td>\n",
       "    </tr>\n",
       "    <tr>\n",
       "      <th>19</th>\n",
       "      <td>600537600001</td>\n",
       "      <td>The relationship between politicians and burea...</td>\n",
       "      <td>Political Science</td>\n",
       "    </tr>\n",
       "  </tbody>\n",
       "</table>\n",
       "</div>"
      ],
      "text/plain": [
       "           PUBID                                           ABSTRACT  \\\n",
       "0   485845700001  Over the past three decades, along with the ex...   \n",
       "1   490797000001  This paper reports on CFD simulations of in-cy...   \n",
       "2   494419600001  The demand for lean protein is the main reason...   \n",
       "3   513452400001  In this article, 119 faculty members from 10 S...   \n",
       "4   514500800001  Co-teaching is a widely used service delivery ...   \n",
       "5   534713700004  Mindfulness has shown beneficial relationships...   \n",
       "6   536595900001  We examine public perceptions of the police co...   \n",
       "7   548588800001  This study explores how televised football in ...   \n",
       "8   549312100001  Petrographic analysis was conducted on pottery...   \n",
       "9   550529800001  Local governments nationwide have been adoptin...   \n",
       "10  557118000001  This paper proposes an account of natural anal...   \n",
       "11  568579200001  In welfare-state urban renewal programs, playg...   \n",
       "12  568642800002  The defensibility of the extended mind thesis ...   \n",
       "13  576785200001  Although many Indigenous peoples demonstrate r...   \n",
       "14  579418100001  Objective The study aimed to assess the associ...   \n",
       "15  579654000001  Tourism research on the LGBTIQ + communities h...   \n",
       "16  588799300001  In recent years, recycling has been an attract...   \n",
       "17  589552300001  The 2012 gangrape of a young woman in Delhi, k...   \n",
       "18  600162100001  This article argues for a theoretical synergy ...   \n",
       "19  600537600001  The relationship between politicians and burea...   \n",
       "\n",
       "                                    final_disciplines  \n",
       "0                                    Other humanities  \n",
       "1   Environmental engineering;Chemical engineering...  \n",
       "2   Electrical engineering, electronic engineering...  \n",
       "3                                Educational sciences  \n",
       "4                Educational sciences;Health sciences  \n",
       "5                           Psychology;Basic medicine  \n",
       "6                                                 Law  \n",
       "7   Media and communications;Sociology;Other socia...  \n",
       "8                   Archaeology;Other social sciences  \n",
       "9   Economics and business;Social and economic geo...  \n",
       "10                                 Psychology;History  \n",
       "11              Social and economic geography;History  \n",
       "12           Philosophy and ethics;Psychology;History  \n",
       "13                          Sociology;Health sciences  \n",
       "14                                  Clinical medicine  \n",
       "15                    Other social sciences;Sociology  \n",
       "16            Materials engineering;Civil engineering  \n",
       "17            Social and economic geography;Sociology  \n",
       "18  Sociology;Art (arts, history of arts, performi...  \n",
       "19                                  Political Science  "
      ]
     },
     "execution_count": 9,
     "metadata": {},
     "output_type": "execute_result"
    }
   ],
   "source": [
    "test_data.head(20)"
   ]
  },
  {
   "cell_type": "code",
   "execution_count": 10,
   "id": "existing-myrtle",
   "metadata": {},
   "outputs": [
    {
     "data": {
      "text/plain": [
       "array(['Tourism research on the LGBTIQ + communities has grown over the years, entering mainstream discussions as a segment of interest. This growing focus reflects greater societal acceptance and acknowledgement of the systemic inequalities that challenge their rights. The landscape of current scholarship, though important to academic literature, policy and practice, has not been explored. On this premise, and under the umbrella of social sustainability, a systematic qualitative review of scholarship on the LGBTIQ + community and tourism was conducted with Q1- and Q2-ranked travel and tourism journals (Scimago Journal & Country Rank) as a basis. Articles were analysed to identify the sampling parameters and their topic foci. The findings suggest the literature focuses on sexually diverse groups (gays and lesbians) who are open about their identity, with limited consideration given to bisexual or gender diverse travellers (intersex and transgender). The topics and language used have also evolved in recent years, transforming from earlier fixations on the sexual, to the exploration of other experiences related to the LGBTIQ + communities. This research reflects on this evolution, the implications for the broader queer communities, and proposes a research agenda for more robust inquiry concerning LGBTIQ + travel and leisure.'],\n",
       "      dtype=object)"
      ]
     },
     "execution_count": 10,
     "metadata": {},
     "output_type": "execute_result"
    }
   ],
   "source": [
    "test_data[test_data.PUBID == '579654000001'].ABSTRACT.values"
   ]
  },
  {
   "cell_type": "code",
   "execution_count": 11,
   "id": "visible-memorial",
   "metadata": {},
   "outputs": [],
   "source": [
    "test_data = test_data.merge(results_df, on='PUBID')"
   ]
  },
  {
   "cell_type": "code",
   "execution_count": 22,
   "id": "central-career",
   "metadata": {},
   "outputs": [],
   "source": [
    "test_data['final_disciplines'] = test_data.final_disciplines.str.lower()\n",
    "replace_dict = {\n",
    "    'arts (arts, history of arts, performing arts, music)':'art (arts, history of arts, performing arts, music)'\n",
    "}\n",
    "test_data['chatgpt'] = test_data.chatgpt.apply(lambda x: list(set(replace_dict.get(y,y) for y in x)))\n",
    "data = test_data"
   ]
  },
  {
   "cell_type": "code",
   "execution_count": 23,
   "id": "worldwide-question",
   "metadata": {},
   "outputs": [
    {
     "ename": "AttributeError",
     "evalue": "'float' object has no attribute 'split'",
     "output_type": "error",
     "traceback": [
      "\u001b[1;31m---------------------------------------------------------------------------\u001b[0m",
      "\u001b[1;31mAttributeError\u001b[0m                            Traceback (most recent call last)",
      "\u001b[1;32m<ipython-input-23-413047e4154a>\u001b[0m in \u001b[0;36m<module>\u001b[1;34m\u001b[0m\n\u001b[1;32m----> 1\u001b[1;33m \u001b[0mdata\u001b[0m\u001b[1;33m[\u001b[0m\u001b[1;34m'final_disciplines'\u001b[0m\u001b[1;33m]\u001b[0m \u001b[1;33m=\u001b[0m \u001b[0mdata\u001b[0m\u001b[1;33m.\u001b[0m\u001b[0mfinal_disciplines\u001b[0m\u001b[1;33m.\u001b[0m\u001b[0mapply\u001b[0m\u001b[1;33m(\u001b[0m\u001b[1;32mlambda\u001b[0m \u001b[0mx\u001b[0m\u001b[1;33m:\u001b[0m \u001b[0mx\u001b[0m\u001b[1;33m.\u001b[0m\u001b[0msplit\u001b[0m\u001b[1;33m(\u001b[0m\u001b[1;34m';'\u001b[0m\u001b[1;33m)\u001b[0m\u001b[1;33m)\u001b[0m\u001b[1;33m\u001b[0m\u001b[1;33m\u001b[0m\u001b[0m\n\u001b[0m",
      "\u001b[1;32m~\\Anaconda3\\envs\\univer\\lib\\site-packages\\pandas\\core\\series.py\u001b[0m in \u001b[0;36mapply\u001b[1;34m(self, func, convert_dtype, args, by_row, **kwargs)\u001b[0m\n\u001b[0;32m   4751\u001b[0m         \u001b[0mdtype\u001b[0m\u001b[1;33m:\u001b[0m \u001b[0mfloat64\u001b[0m\u001b[1;33m\u001b[0m\u001b[1;33m\u001b[0m\u001b[0m\n\u001b[0;32m   4752\u001b[0m         \"\"\"\n\u001b[1;32m-> 4753\u001b[1;33m         return SeriesApply(\n\u001b[0m\u001b[0;32m   4754\u001b[0m             \u001b[0mself\u001b[0m\u001b[1;33m,\u001b[0m\u001b[1;33m\u001b[0m\u001b[1;33m\u001b[0m\u001b[0m\n\u001b[0;32m   4755\u001b[0m             \u001b[0mfunc\u001b[0m\u001b[1;33m,\u001b[0m\u001b[1;33m\u001b[0m\u001b[1;33m\u001b[0m\u001b[0m\n",
      "\u001b[1;32m~\\Anaconda3\\envs\\univer\\lib\\site-packages\\pandas\\core\\apply.py\u001b[0m in \u001b[0;36mapply\u001b[1;34m(self)\u001b[0m\n\u001b[0;32m   1205\u001b[0m \u001b[1;33m\u001b[0m\u001b[0m\n\u001b[0;32m   1206\u001b[0m         \u001b[1;31m# self.func is Callable\u001b[0m\u001b[1;33m\u001b[0m\u001b[1;33m\u001b[0m\u001b[1;33m\u001b[0m\u001b[0m\n\u001b[1;32m-> 1207\u001b[1;33m         \u001b[1;32mreturn\u001b[0m \u001b[0mself\u001b[0m\u001b[1;33m.\u001b[0m\u001b[0mapply_standard\u001b[0m\u001b[1;33m(\u001b[0m\u001b[1;33m)\u001b[0m\u001b[1;33m\u001b[0m\u001b[1;33m\u001b[0m\u001b[0m\n\u001b[0m\u001b[0;32m   1208\u001b[0m \u001b[1;33m\u001b[0m\u001b[0m\n\u001b[0;32m   1209\u001b[0m     \u001b[1;32mdef\u001b[0m \u001b[0magg\u001b[0m\u001b[1;33m(\u001b[0m\u001b[0mself\u001b[0m\u001b[1;33m)\u001b[0m\u001b[1;33m:\u001b[0m\u001b[1;33m\u001b[0m\u001b[1;33m\u001b[0m\u001b[0m\n",
      "\u001b[1;32m~\\Anaconda3\\envs\\univer\\lib\\site-packages\\pandas\\core\\apply.py\u001b[0m in \u001b[0;36mapply_standard\u001b[1;34m(self)\u001b[0m\n\u001b[0;32m   1285\u001b[0m         \u001b[1;31m#  Categorical (GH51645).\u001b[0m\u001b[1;33m\u001b[0m\u001b[1;33m\u001b[0m\u001b[1;33m\u001b[0m\u001b[0m\n\u001b[0;32m   1286\u001b[0m         \u001b[0maction\u001b[0m \u001b[1;33m=\u001b[0m \u001b[1;34m\"ignore\"\u001b[0m \u001b[1;32mif\u001b[0m \u001b[0misinstance\u001b[0m\u001b[1;33m(\u001b[0m\u001b[0mobj\u001b[0m\u001b[1;33m.\u001b[0m\u001b[0mdtype\u001b[0m\u001b[1;33m,\u001b[0m \u001b[0mCategoricalDtype\u001b[0m\u001b[1;33m)\u001b[0m \u001b[1;32melse\u001b[0m \u001b[1;32mNone\u001b[0m\u001b[1;33m\u001b[0m\u001b[1;33m\u001b[0m\u001b[0m\n\u001b[1;32m-> 1287\u001b[1;33m         mapped = obj._map_values(\n\u001b[0m\u001b[0;32m   1288\u001b[0m             \u001b[0mmapper\u001b[0m\u001b[1;33m=\u001b[0m\u001b[0mcurried\u001b[0m\u001b[1;33m,\u001b[0m \u001b[0mna_action\u001b[0m\u001b[1;33m=\u001b[0m\u001b[0maction\u001b[0m\u001b[1;33m,\u001b[0m \u001b[0mconvert\u001b[0m\u001b[1;33m=\u001b[0m\u001b[0mself\u001b[0m\u001b[1;33m.\u001b[0m\u001b[0mconvert_dtype\u001b[0m\u001b[1;33m\u001b[0m\u001b[1;33m\u001b[0m\u001b[0m\n\u001b[0;32m   1289\u001b[0m         )\n",
      "\u001b[1;32m~\\Anaconda3\\envs\\univer\\lib\\site-packages\\pandas\\core\\base.py\u001b[0m in \u001b[0;36m_map_values\u001b[1;34m(self, mapper, na_action, convert)\u001b[0m\n\u001b[0;32m    919\u001b[0m             \u001b[1;32mreturn\u001b[0m \u001b[0marr\u001b[0m\u001b[1;33m.\u001b[0m\u001b[0mmap\u001b[0m\u001b[1;33m(\u001b[0m\u001b[0mmapper\u001b[0m\u001b[1;33m,\u001b[0m \u001b[0mna_action\u001b[0m\u001b[1;33m=\u001b[0m\u001b[0mna_action\u001b[0m\u001b[1;33m)\u001b[0m\u001b[1;33m\u001b[0m\u001b[1;33m\u001b[0m\u001b[0m\n\u001b[0;32m    920\u001b[0m \u001b[1;33m\u001b[0m\u001b[0m\n\u001b[1;32m--> 921\u001b[1;33m         \u001b[1;32mreturn\u001b[0m \u001b[0malgorithms\u001b[0m\u001b[1;33m.\u001b[0m\u001b[0mmap_array\u001b[0m\u001b[1;33m(\u001b[0m\u001b[0marr\u001b[0m\u001b[1;33m,\u001b[0m \u001b[0mmapper\u001b[0m\u001b[1;33m,\u001b[0m \u001b[0mna_action\u001b[0m\u001b[1;33m=\u001b[0m\u001b[0mna_action\u001b[0m\u001b[1;33m,\u001b[0m \u001b[0mconvert\u001b[0m\u001b[1;33m=\u001b[0m\u001b[0mconvert\u001b[0m\u001b[1;33m)\u001b[0m\u001b[1;33m\u001b[0m\u001b[1;33m\u001b[0m\u001b[0m\n\u001b[0m\u001b[0;32m    922\u001b[0m \u001b[1;33m\u001b[0m\u001b[0m\n\u001b[0;32m    923\u001b[0m     \u001b[1;33m@\u001b[0m\u001b[0mfinal\u001b[0m\u001b[1;33m\u001b[0m\u001b[1;33m\u001b[0m\u001b[0m\n",
      "\u001b[1;32m~\\Anaconda3\\envs\\univer\\lib\\site-packages\\pandas\\core\\algorithms.py\u001b[0m in \u001b[0;36mmap_array\u001b[1;34m(arr, mapper, na_action, convert)\u001b[0m\n\u001b[0;32m   1812\u001b[0m     \u001b[0mvalues\u001b[0m \u001b[1;33m=\u001b[0m \u001b[0marr\u001b[0m\u001b[1;33m.\u001b[0m\u001b[0mastype\u001b[0m\u001b[1;33m(\u001b[0m\u001b[0mobject\u001b[0m\u001b[1;33m,\u001b[0m \u001b[0mcopy\u001b[0m\u001b[1;33m=\u001b[0m\u001b[1;32mFalse\u001b[0m\u001b[1;33m)\u001b[0m\u001b[1;33m\u001b[0m\u001b[1;33m\u001b[0m\u001b[0m\n\u001b[0;32m   1813\u001b[0m     \u001b[1;32mif\u001b[0m \u001b[0mna_action\u001b[0m \u001b[1;32mis\u001b[0m \u001b[1;32mNone\u001b[0m\u001b[1;33m:\u001b[0m\u001b[1;33m\u001b[0m\u001b[1;33m\u001b[0m\u001b[0m\n\u001b[1;32m-> 1814\u001b[1;33m         \u001b[1;32mreturn\u001b[0m \u001b[0mlib\u001b[0m\u001b[1;33m.\u001b[0m\u001b[0mmap_infer\u001b[0m\u001b[1;33m(\u001b[0m\u001b[0mvalues\u001b[0m\u001b[1;33m,\u001b[0m \u001b[0mmapper\u001b[0m\u001b[1;33m,\u001b[0m \u001b[0mconvert\u001b[0m\u001b[1;33m=\u001b[0m\u001b[0mconvert\u001b[0m\u001b[1;33m)\u001b[0m\u001b[1;33m\u001b[0m\u001b[1;33m\u001b[0m\u001b[0m\n\u001b[0m\u001b[0;32m   1815\u001b[0m     \u001b[1;32melse\u001b[0m\u001b[1;33m:\u001b[0m\u001b[1;33m\u001b[0m\u001b[1;33m\u001b[0m\u001b[0m\n\u001b[0;32m   1816\u001b[0m         return lib.map_infer_mask(\n",
      "\u001b[1;32mlib.pyx\u001b[0m in \u001b[0;36mpandas._libs.lib.map_infer\u001b[1;34m()\u001b[0m\n",
      "\u001b[1;32m<ipython-input-23-413047e4154a>\u001b[0m in \u001b[0;36m<lambda>\u001b[1;34m(x)\u001b[0m\n\u001b[1;32m----> 1\u001b[1;33m \u001b[0mdata\u001b[0m\u001b[1;33m[\u001b[0m\u001b[1;34m'final_disciplines'\u001b[0m\u001b[1;33m]\u001b[0m \u001b[1;33m=\u001b[0m \u001b[0mdata\u001b[0m\u001b[1;33m.\u001b[0m\u001b[0mfinal_disciplines\u001b[0m\u001b[1;33m.\u001b[0m\u001b[0mapply\u001b[0m\u001b[1;33m(\u001b[0m\u001b[1;32mlambda\u001b[0m \u001b[0mx\u001b[0m\u001b[1;33m:\u001b[0m \u001b[0mx\u001b[0m\u001b[1;33m.\u001b[0m\u001b[0msplit\u001b[0m\u001b[1;33m(\u001b[0m\u001b[1;34m';'\u001b[0m\u001b[1;33m)\u001b[0m\u001b[1;33m)\u001b[0m\u001b[1;33m\u001b[0m\u001b[1;33m\u001b[0m\u001b[0m\n\u001b[0m",
      "\u001b[1;31mAttributeError\u001b[0m: 'float' object has no attribute 'split'"
     ]
    }
   ],
   "source": [
    "data['final_disciplines'] = data.final_disciplines.apply(lambda x: x.split(';'))"
   ]
  },
  {
   "cell_type": "code",
   "execution_count": 24,
   "id": "extended-simon",
   "metadata": {},
   "outputs": [],
   "source": [
    "data['arts'] = data.chatgpt.apply(lambda x: any(el.startswith('art') for el in x))"
   ]
  },
  {
   "cell_type": "code",
   "execution_count": 25,
   "id": "acceptable-implementation",
   "metadata": {},
   "outputs": [
    {
     "data": {
      "text/html": [
       "<div>\n",
       "<style scoped>\n",
       "    .dataframe tbody tr th:only-of-type {\n",
       "        vertical-align: middle;\n",
       "    }\n",
       "\n",
       "    .dataframe tbody tr th {\n",
       "        vertical-align: top;\n",
       "    }\n",
       "\n",
       "    .dataframe thead th {\n",
       "        text-align: right;\n",
       "    }\n",
       "</style>\n",
       "<table border=\"1\" class=\"dataframe\">\n",
       "  <thead>\n",
       "    <tr style=\"text-align: right;\">\n",
       "      <th></th>\n",
       "      <th>PUBID</th>\n",
       "      <th>ABSTRACT</th>\n",
       "      <th>final_disciplines</th>\n",
       "      <th>chatgpt</th>\n",
       "      <th>prediction_length</th>\n",
       "      <th>arts</th>\n",
       "    </tr>\n",
       "  </thead>\n",
       "  <tbody>\n",
       "  </tbody>\n",
       "</table>\n",
       "</div>"
      ],
      "text/plain": [
       "Empty DataFrame\n",
       "Columns: [PUBID, ABSTRACT, final_disciplines, chatgpt, prediction_length, arts]\n",
       "Index: []"
      ]
     },
     "execution_count": 25,
     "metadata": {},
     "output_type": "execute_result"
    }
   ],
   "source": [
    "data[data.arts]"
   ]
  },
  {
   "cell_type": "code",
   "execution_count": 26,
   "id": "alone-concern",
   "metadata": {},
   "outputs": [
    {
     "ename": "TypeError",
     "evalue": "'float' object is not iterable",
     "output_type": "error",
     "traceback": [
      "\u001b[1;31m---------------------------------------------------------------------------\u001b[0m",
      "\u001b[1;31mTypeError\u001b[0m                                 Traceback (most recent call last)",
      "\u001b[1;32m<ipython-input-26-986c0e1fe776>\u001b[0m in \u001b[0;36m<module>\u001b[1;34m\u001b[0m\n\u001b[0;32m      3\u001b[0m \u001b[0mpredicted_labels\u001b[0m \u001b[1;33m=\u001b[0m \u001b[0mlist\u001b[0m\u001b[1;33m(\u001b[0m\u001b[0mdata\u001b[0m\u001b[1;33m.\u001b[0m\u001b[0mchatgpt\u001b[0m\u001b[1;33m)\u001b[0m\u001b[1;33m\u001b[0m\u001b[1;33m\u001b[0m\u001b[0m\n\u001b[0;32m      4\u001b[0m \u001b[0mmlb\u001b[0m \u001b[1;33m=\u001b[0m \u001b[0mMultiLabelBinarizer\u001b[0m\u001b[1;33m(\u001b[0m\u001b[1;33m)\u001b[0m\u001b[1;33m\u001b[0m\u001b[1;33m\u001b[0m\u001b[0m\n\u001b[1;32m----> 5\u001b[1;33m \u001b[0mtrue_label_binarized\u001b[0m \u001b[1;33m=\u001b[0m \u001b[0mmlb\u001b[0m\u001b[1;33m.\u001b[0m\u001b[0mfit_transform\u001b[0m\u001b[1;33m(\u001b[0m\u001b[0mtrue_labels\u001b[0m\u001b[1;33m)\u001b[0m\u001b[1;33m\u001b[0m\u001b[1;33m\u001b[0m\u001b[0m\n\u001b[0m\u001b[0;32m      6\u001b[0m \u001b[0mpredicted_labels_binarized\u001b[0m \u001b[1;33m=\u001b[0m \u001b[0mmlb\u001b[0m\u001b[1;33m.\u001b[0m\u001b[0mtransform\u001b[0m\u001b[1;33m(\u001b[0m\u001b[0mpredicted_labels\u001b[0m\u001b[1;33m)\u001b[0m\u001b[1;33m\u001b[0m\u001b[1;33m\u001b[0m\u001b[0m\n\u001b[0;32m      7\u001b[0m \u001b[1;32mfrom\u001b[0m \u001b[0msklearn\u001b[0m\u001b[1;33m.\u001b[0m\u001b[0mmetrics\u001b[0m \u001b[1;32mimport\u001b[0m \u001b[0mclassification_report\u001b[0m\u001b[1;33m\u001b[0m\u001b[1;33m\u001b[0m\u001b[0m\n",
      "\u001b[1;32m~\\Anaconda3\\envs\\univer\\lib\\site-packages\\sklearn\\base.py\u001b[0m in \u001b[0;36mwrapper\u001b[1;34m(estimator, *args, **kwargs)\u001b[0m\n\u001b[0;32m   1472\u001b[0m                 )\n\u001b[0;32m   1473\u001b[0m             ):\n\u001b[1;32m-> 1474\u001b[1;33m                 \u001b[1;32mreturn\u001b[0m \u001b[0mfit_method\u001b[0m\u001b[1;33m(\u001b[0m\u001b[0mestimator\u001b[0m\u001b[1;33m,\u001b[0m \u001b[1;33m*\u001b[0m\u001b[0margs\u001b[0m\u001b[1;33m,\u001b[0m \u001b[1;33m**\u001b[0m\u001b[0mkwargs\u001b[0m\u001b[1;33m)\u001b[0m\u001b[1;33m\u001b[0m\u001b[1;33m\u001b[0m\u001b[0m\n\u001b[0m\u001b[0;32m   1475\u001b[0m \u001b[1;33m\u001b[0m\u001b[0m\n\u001b[0;32m   1476\u001b[0m         \u001b[1;32mreturn\u001b[0m \u001b[0mwrapper\u001b[0m\u001b[1;33m\u001b[0m\u001b[1;33m\u001b[0m\u001b[0m\n",
      "\u001b[1;32m~\\Anaconda3\\envs\\univer\\lib\\site-packages\\sklearn\\preprocessing\\_label.py\u001b[0m in \u001b[0;36mfit_transform\u001b[1;34m(self, y)\u001b[0m\n\u001b[0;32m    817\u001b[0m         \u001b[0mclass_mapping\u001b[0m \u001b[1;33m=\u001b[0m \u001b[0mdefaultdict\u001b[0m\u001b[1;33m(\u001b[0m\u001b[0mint\u001b[0m\u001b[1;33m)\u001b[0m\u001b[1;33m\u001b[0m\u001b[1;33m\u001b[0m\u001b[0m\n\u001b[0;32m    818\u001b[0m         \u001b[0mclass_mapping\u001b[0m\u001b[1;33m.\u001b[0m\u001b[0mdefault_factory\u001b[0m \u001b[1;33m=\u001b[0m \u001b[0mclass_mapping\u001b[0m\u001b[1;33m.\u001b[0m\u001b[0m__len__\u001b[0m\u001b[1;33m\u001b[0m\u001b[1;33m\u001b[0m\u001b[0m\n\u001b[1;32m--> 819\u001b[1;33m         \u001b[0myt\u001b[0m \u001b[1;33m=\u001b[0m \u001b[0mself\u001b[0m\u001b[1;33m.\u001b[0m\u001b[0m_transform\u001b[0m\u001b[1;33m(\u001b[0m\u001b[0my\u001b[0m\u001b[1;33m,\u001b[0m \u001b[0mclass_mapping\u001b[0m\u001b[1;33m)\u001b[0m\u001b[1;33m\u001b[0m\u001b[1;33m\u001b[0m\u001b[0m\n\u001b[0m\u001b[0;32m    820\u001b[0m \u001b[1;33m\u001b[0m\u001b[0m\n\u001b[0;32m    821\u001b[0m         \u001b[1;31m# sort classes and reorder columns\u001b[0m\u001b[1;33m\u001b[0m\u001b[1;33m\u001b[0m\u001b[1;33m\u001b[0m\u001b[0m\n",
      "\u001b[1;32m~\\Anaconda3\\envs\\univer\\lib\\site-packages\\sklearn\\preprocessing\\_label.py\u001b[0m in \u001b[0;36m_transform\u001b[1;34m(self, y, class_mapping)\u001b[0m\n\u001b[0;32m    890\u001b[0m         \u001b[1;32mfor\u001b[0m \u001b[0mlabels\u001b[0m \u001b[1;32min\u001b[0m \u001b[0my\u001b[0m\u001b[1;33m:\u001b[0m\u001b[1;33m\u001b[0m\u001b[1;33m\u001b[0m\u001b[0m\n\u001b[0;32m    891\u001b[0m             \u001b[0mindex\u001b[0m \u001b[1;33m=\u001b[0m \u001b[0mset\u001b[0m\u001b[1;33m(\u001b[0m\u001b[1;33m)\u001b[0m\u001b[1;33m\u001b[0m\u001b[1;33m\u001b[0m\u001b[0m\n\u001b[1;32m--> 892\u001b[1;33m             \u001b[1;32mfor\u001b[0m \u001b[0mlabel\u001b[0m \u001b[1;32min\u001b[0m \u001b[0mlabels\u001b[0m\u001b[1;33m:\u001b[0m\u001b[1;33m\u001b[0m\u001b[1;33m\u001b[0m\u001b[0m\n\u001b[0m\u001b[0;32m    893\u001b[0m                 \u001b[1;32mtry\u001b[0m\u001b[1;33m:\u001b[0m\u001b[1;33m\u001b[0m\u001b[1;33m\u001b[0m\u001b[0m\n\u001b[0;32m    894\u001b[0m                     \u001b[0mindex\u001b[0m\u001b[1;33m.\u001b[0m\u001b[0madd\u001b[0m\u001b[1;33m(\u001b[0m\u001b[0mclass_mapping\u001b[0m\u001b[1;33m[\u001b[0m\u001b[0mlabel\u001b[0m\u001b[1;33m]\u001b[0m\u001b[1;33m)\u001b[0m\u001b[1;33m\u001b[0m\u001b[1;33m\u001b[0m\u001b[0m\n",
      "\u001b[1;31mTypeError\u001b[0m: 'float' object is not iterable"
     ]
    }
   ],
   "source": [
    "from sklearn.preprocessing import MultiLabelBinarizer\n",
    "true_labels = list(data.final_disciplines)\n",
    "predicted_labels = list(data.chatgpt)\n",
    "mlb = MultiLabelBinarizer()\n",
    "true_label_binarized = mlb.fit_transform(true_labels)\n",
    "predicted_labels_binarized = mlb.transform(predicted_labels)\n",
    "from sklearn.metrics import classification_report\n",
    "print(classification_report(true_label_binarized, predicted_labels_binarized, target_names=mlb.classes_))"
   ]
  },
  {
   "cell_type": "code",
   "execution_count": 27,
   "id": "reserved-truck",
   "metadata": {},
   "outputs": [
    {
     "data": {
      "text/plain": [
       "1.0"
      ]
     },
     "execution_count": 27,
     "metadata": {},
     "output_type": "execute_result"
    }
   ],
   "source": [
    "from sklearn.metrics import accuracy_score\n",
    "accuracy_score(true_label_binarized, predicted_labels_binarized)"
   ]
  },
  {
   "cell_type": "code",
   "execution_count": 28,
   "id": "adolescent-wisconsin",
   "metadata": {},
   "outputs": [
    {
     "ename": "AttributeError",
     "evalue": "'MultiLabelBinarizer' object has no attribute 'classes_'",
     "output_type": "error",
     "traceback": [
      "\u001b[1;31m---------------------------------------------------------------------------\u001b[0m",
      "\u001b[1;31mAttributeError\u001b[0m                            Traceback (most recent call last)",
      "\u001b[1;32m<ipython-input-28-c3abe1761bb7>\u001b[0m in \u001b[0;36m<module>\u001b[1;34m\u001b[0m\n\u001b[1;32m----> 1\u001b[1;33m \u001b[0mmlb\u001b[0m\u001b[1;33m.\u001b[0m\u001b[0mclasses_\u001b[0m\u001b[1;33m\u001b[0m\u001b[1;33m\u001b[0m\u001b[0m\n\u001b[0m",
      "\u001b[1;31mAttributeError\u001b[0m: 'MultiLabelBinarizer' object has no attribute 'classes_'"
     ]
    }
   ],
   "source": [
    "mlb.classes_"
   ]
  },
  {
   "cell_type": "code",
   "execution_count": 29,
   "id": "external-clerk",
   "metadata": {},
   "outputs": [
    {
     "ename": "TypeError",
     "evalue": "'float' object is not iterable",
     "output_type": "error",
     "traceback": [
      "\u001b[1;31m---------------------------------------------------------------------------\u001b[0m",
      "\u001b[1;31mTypeError\u001b[0m                                 Traceback (most recent call last)",
      "\u001b[1;32m<ipython-input-29-a2d29ce43e69>\u001b[0m in \u001b[0;36m<module>\u001b[1;34m\u001b[0m\n\u001b[0;32m      6\u001b[0m \u001b[1;33m\u001b[0m\u001b[0m\n\u001b[0;32m      7\u001b[0m \u001b[1;31m# Filter both true and predicted labels\u001b[0m\u001b[1;33m\u001b[0m\u001b[1;33m\u001b[0m\u001b[1;33m\u001b[0m\u001b[0m\n\u001b[1;32m----> 8\u001b[1;33m \u001b[0mtrue_labels_filtered\u001b[0m \u001b[1;33m=\u001b[0m \u001b[0mfilter_labels\u001b[0m\u001b[1;33m(\u001b[0m\u001b[0mlist\u001b[0m\u001b[1;33m(\u001b[0m\u001b[0mdata\u001b[0m\u001b[1;33m.\u001b[0m\u001b[0mfinal_disciplines\u001b[0m\u001b[1;33m)\u001b[0m\u001b[1;33m)\u001b[0m\u001b[1;33m\u001b[0m\u001b[1;33m\u001b[0m\u001b[0m\n\u001b[0m\u001b[0;32m      9\u001b[0m \u001b[0mpredicted_labels_filtered\u001b[0m \u001b[1;33m=\u001b[0m \u001b[0mfilter_labels\u001b[0m\u001b[1;33m(\u001b[0m\u001b[0mlist\u001b[0m\u001b[1;33m(\u001b[0m\u001b[0mdata\u001b[0m\u001b[1;33m.\u001b[0m\u001b[0mchatgpt\u001b[0m\u001b[1;33m)\u001b[0m\u001b[1;33m)\u001b[0m\u001b[1;33m\u001b[0m\u001b[1;33m\u001b[0m\u001b[0m\n\u001b[0;32m     10\u001b[0m \u001b[1;33m\u001b[0m\u001b[0m\n",
      "\u001b[1;32m<ipython-input-29-a2d29ce43e69>\u001b[0m in \u001b[0;36mfilter_labels\u001b[1;34m(labels_list)\u001b[0m\n\u001b[0;32m      2\u001b[0m     \u001b[0mfiltered_labels\u001b[0m \u001b[1;33m=\u001b[0m \u001b[1;33m[\u001b[0m\u001b[1;33m]\u001b[0m\u001b[1;33m\u001b[0m\u001b[1;33m\u001b[0m\u001b[0m\n\u001b[0;32m      3\u001b[0m     \u001b[1;32mfor\u001b[0m \u001b[0mlabels\u001b[0m \u001b[1;32min\u001b[0m \u001b[0mlabels_list\u001b[0m\u001b[1;33m:\u001b[0m\u001b[1;33m\u001b[0m\u001b[1;33m\u001b[0m\u001b[0m\n\u001b[1;32m----> 4\u001b[1;33m         \u001b[0mfiltered_labels\u001b[0m\u001b[1;33m.\u001b[0m\u001b[0mappend\u001b[0m\u001b[1;33m(\u001b[0m\u001b[1;33m[\u001b[0m\u001b[0mlabel\u001b[0m \u001b[1;32mfor\u001b[0m \u001b[0mlabel\u001b[0m \u001b[1;32min\u001b[0m \u001b[0mlabels\u001b[0m \u001b[1;32mif\u001b[0m \u001b[1;32mnot\u001b[0m \u001b[0mlabel\u001b[0m\u001b[1;33m.\u001b[0m\u001b[0mstartswith\u001b[0m\u001b[1;33m(\u001b[0m\u001b[1;34m'other'\u001b[0m\u001b[1;33m)\u001b[0m\u001b[1;33m]\u001b[0m\u001b[1;33m)\u001b[0m\u001b[1;33m\u001b[0m\u001b[1;33m\u001b[0m\u001b[0m\n\u001b[0m\u001b[0;32m      5\u001b[0m     \u001b[1;32mreturn\u001b[0m \u001b[0mfiltered_labels\u001b[0m\u001b[1;33m\u001b[0m\u001b[1;33m\u001b[0m\u001b[0m\n\u001b[0;32m      6\u001b[0m \u001b[1;33m\u001b[0m\u001b[0m\n",
      "\u001b[1;31mTypeError\u001b[0m: 'float' object is not iterable"
     ]
    }
   ],
   "source": [
    "def filter_labels(labels_list):\n",
    "    filtered_labels = []\n",
    "    for labels in labels_list:\n",
    "        filtered_labels.append([label for label in labels if not label.startswith('other')])\n",
    "    return filtered_labels\n",
    "\n",
    "# Filter both true and predicted labels\n",
    "true_labels_filtered = filter_labels(list(data.final_disciplines))\n",
    "predicted_labels_filtered = filter_labels(list(data.chatgpt))\n",
    "\n",
    "# Initialize MultiLabelBinarizer\n",
    "mlb = MultiLabelBinarizer()\n",
    "\n",
    "# Transform labels\n",
    "true_label_binarized = mlb.fit_transform(true_labels_filtered)\n",
    "predicted_labels_binarized = mlb.transform(predicted_labels_filtered)\n",
    "\n",
    "# Generate and print classification report\n",
    "print(classification_report(true_label_binarized, predicted_labels_binarized, target_names=mlb.classes_))"
   ]
  },
  {
   "cell_type": "code",
   "execution_count": 20,
   "id": "dated-lighter",
   "metadata": {},
   "outputs": [
    {
     "data": {
      "text/html": [
       "<div>\n",
       "<style scoped>\n",
       "    .dataframe tbody tr th:only-of-type {\n",
       "        vertical-align: middle;\n",
       "    }\n",
       "\n",
       "    .dataframe tbody tr th {\n",
       "        vertical-align: top;\n",
       "    }\n",
       "\n",
       "    .dataframe thead th {\n",
       "        text-align: right;\n",
       "    }\n",
       "</style>\n",
       "<table border=\"1\" class=\"dataframe\">\n",
       "  <thead>\n",
       "    <tr style=\"text-align: right;\">\n",
       "      <th></th>\n",
       "      <th>ABSTRACT</th>\n",
       "      <th>final_disciplines</th>\n",
       "      <th>chatgpt</th>\n",
       "    </tr>\n",
       "  </thead>\n",
       "  <tbody>\n",
       "    <tr>\n",
       "      <th>0</th>\n",
       "      <td>This essay examines how, through narrating the...</td>\n",
       "      <td>[literature, other humanities]</td>\n",
       "      <td>[literature, economics and business]</td>\n",
       "    </tr>\n",
       "  </tbody>\n",
       "</table>\n",
       "</div>"
      ],
      "text/plain": [
       "                                            ABSTRACT  \\\n",
       "0  This essay examines how, through narrating the...   \n",
       "\n",
       "                final_disciplines                               chatgpt  \n",
       "0  [literature, other humanities]  [literature, economics and business]  "
      ]
     },
     "execution_count": 20,
     "metadata": {},
     "output_type": "execute_result"
    }
   ],
   "source": [
    "data[['ABSTRACT', 'final_disciplines', 'chatgpt']]"
   ]
  },
  {
   "cell_type": "code",
   "execution_count": null,
   "id": "copyrighted-repository",
   "metadata": {},
   "outputs": [],
   "source": []
  }
 ],
 "metadata": {
  "kernelspec": {
   "display_name": "Python 3",
   "language": "python",
   "name": "python3"
  },
  "language_info": {
   "codemirror_mode": {
    "name": "ipython",
    "version": 3
   },
   "file_extension": ".py",
   "mimetype": "text/x-python",
   "name": "python",
   "nbconvert_exporter": "python",
   "pygments_lexer": "ipython3",
   "version": "3.9.1"
  }
 },
 "nbformat": 4,
 "nbformat_minor": 5
}
