{
 "cells": [
  {
   "cell_type": "code",
   "execution_count": 2,
   "id": "fifteen-audit",
   "metadata": {},
   "outputs": [
    {
     "data": {
      "text/html": [
       "<div>\n",
       "<style scoped>\n",
       "    .dataframe tbody tr th:only-of-type {\n",
       "        vertical-align: middle;\n",
       "    }\n",
       "\n",
       "    .dataframe tbody tr th {\n",
       "        vertical-align: top;\n",
       "    }\n",
       "\n",
       "    .dataframe thead th {\n",
       "        text-align: right;\n",
       "    }\n",
       "</style>\n",
       "<table border=\"1\" class=\"dataframe\">\n",
       "  <thead>\n",
       "    <tr style=\"text-align: right;\">\n",
       "      <th></th>\n",
       "      <th>PUBID</th>\n",
       "      <th>chatgpt</th>\n",
       "    </tr>\n",
       "  </thead>\n",
       "  <tbody>\n",
       "    <tr>\n",
       "      <th>0</th>\n",
       "      <td>490689400001</td>\n",
       "      <td>[agriculture, forestry, and fisheries, animal ...</td>\n",
       "    </tr>\n",
       "    <tr>\n",
       "      <th>1</th>\n",
       "      <td>494013500001</td>\n",
       "      <td>[political science]</td>\n",
       "    </tr>\n",
       "    <tr>\n",
       "      <th>2</th>\n",
       "      <td>516167800001</td>\n",
       "      <td>[chemical engineering, agriculture, forestry, ...</td>\n",
       "    </tr>\n",
       "    <tr>\n",
       "      <th>3</th>\n",
       "      <td>524076900001</td>\n",
       "      <td>[languages and linguistics]</td>\n",
       "    </tr>\n",
       "    <tr>\n",
       "      <th>4</th>\n",
       "      <td>527207200001</td>\n",
       "      <td>[civil engineering, mechanical engineering]</td>\n",
       "    </tr>\n",
       "    <tr>\n",
       "      <th>...</th>\n",
       "      <td>...</td>\n",
       "      <td>...</td>\n",
       "    </tr>\n",
       "    <tr>\n",
       "      <th>186</th>\n",
       "      <td>603787200001</td>\n",
       "      <td>[psychology, sociology]</td>\n",
       "    </tr>\n",
       "    <tr>\n",
       "      <th>187</th>\n",
       "      <td>672107000001</td>\n",
       "      <td>[mathematics]</td>\n",
       "    </tr>\n",
       "    <tr>\n",
       "      <th>188</th>\n",
       "      <td>709228700001</td>\n",
       "      <td>[computer and information sciences]</td>\n",
       "    </tr>\n",
       "    <tr>\n",
       "      <th>189</th>\n",
       "      <td>634605700001</td>\n",
       "      <td>[archaeology]</td>\n",
       "    </tr>\n",
       "    <tr>\n",
       "      <th>190</th>\n",
       "      <td>789848900003</td>\n",
       "      <td>[biological sciences, medical engineering, cli...</td>\n",
       "    </tr>\n",
       "  </tbody>\n",
       "</table>\n",
       "<p>191 rows × 2 columns</p>\n",
       "</div>"
      ],
      "text/plain": [
       "            PUBID                                            chatgpt\n",
       "0    490689400001  [agriculture, forestry, and fisheries, animal ...\n",
       "1    494013500001                                [political science]\n",
       "2    516167800001  [chemical engineering, agriculture, forestry, ...\n",
       "3    524076900001                        [languages and linguistics]\n",
       "4    527207200001        [civil engineering, mechanical engineering]\n",
       "..            ...                                                ...\n",
       "186  603787200001                            [psychology, sociology]\n",
       "187  672107000001                                      [mathematics]\n",
       "188  709228700001                [computer and information sciences]\n",
       "189  634605700001                                      [archaeology]\n",
       "190  789848900003  [biological sciences, medical engineering, cli...\n",
       "\n",
       "[191 rows x 2 columns]"
      ]
     },
     "execution_count": 2,
     "metadata": {},
     "output_type": "execute_result"
    }
   ],
   "source": [
    "import json\n",
    "import pandas as pd\n",
    "\n",
    "# Load the JSON data\n",
    "with open('results/ChatGPT/intermediate_results/chatgpt_results_non_hierarchical.json', 'r') as file:\n",
    "    data = json.load(file)\n",
    "\n",
    "# Initialize a list to store the results\n",
    "results = []\n",
    "\n",
    "# Iterate through each PUBID and its categories\n",
    "for pubid, categories in data.items():\n",
    "    # Initialize a list to store the disciplines with a final score above 0.75\n",
    "    retained_disciplines = []\n",
    "    highest_score = 0\n",
    "    highest_discipline = None\n",
    "    \n",
    "    for discipline, score in categories.items():\n",
    "        final_score = float(score)/ 100\n",
    "        if final_score >= 0.75:\n",
    "            retained_disciplines.append(discipline)\n",
    "        # Update the highest score discipline if no discipline is above 0.75\n",
    "        if final_score > highest_score:\n",
    "            highest_score = final_score\n",
    "            highest_discipline = discipline\n",
    "                \n",
    "    # If no discipline has a final score above 0.5, add the discipline with the highest score\n",
    "    if not retained_disciplines and highest_discipline:\n",
    "        retained_disciplines.append(highest_discipline)\n",
    "    \n",
    "    # Append the result\n",
    "    results.append({'PUBID': pubid, 'chatgpt': retained_disciplines})\n",
    "\n",
    "# Convert the results to a DataFrame\n",
    "results_df = pd.DataFrame(results)\n",
    "\n",
    "results_df"
   ]
  },
  {
   "cell_type": "code",
   "execution_count": 3,
   "id": "rural-legend",
   "metadata": {},
   "outputs": [],
   "source": [
    "results_df['prediction_length'] = results_df.chatgpt.apply(len)"
   ]
  },
  {
   "cell_type": "code",
   "execution_count": 4,
   "id": "mexican-albany",
   "metadata": {},
   "outputs": [
    {
     "data": {
      "text/plain": [
       "prediction_length\n",
       "1    116\n",
       "2     33\n",
       "3     27\n",
       "5      9\n",
       "4      6\n",
       "Name: count, dtype: int64"
      ]
     },
     "execution_count": 4,
     "metadata": {},
     "output_type": "execute_result"
    }
   ],
   "source": [
    "results_df.prediction_length.value_counts()"
   ]
  },
  {
   "cell_type": "code",
   "execution_count": 6,
   "id": "certain-chair",
   "metadata": {},
   "outputs": [],
   "source": [
    "import pandas as pd\n",
    "test_data = pd.read_csv('H:/data/WoS_data/data_gpt10.csv', usecols=['PUBID', 'ABSTRACT', 'final_disciplines'], dtype=str)"
   ]
  },
  {
   "cell_type": "code",
   "execution_count": 7,
   "id": "configured-austin",
   "metadata": {},
   "outputs": [],
   "source": [
    "test_data = test_data.merge(results_df, on='PUBID')"
   ]
  },
  {
   "cell_type": "code",
   "execution_count": 8,
   "id": "lightweight-nashville",
   "metadata": {},
   "outputs": [],
   "source": [
    "test_data['final_disciplines'] = test_data.final_disciplines.str.lower()\n",
    "replace_dict = {\n",
    "    'arts (arts, history of arts, performing arts, music)':'art (arts, history of arts, performing arts, music)'\n",
    "}\n",
    "test_data['chatgpt'] = test_data.chatgpt.apply(lambda x: list(set(replace_dict.get(y,y) for y in x)))\n",
    "data = test_data"
   ]
  },
  {
   "cell_type": "code",
   "execution_count": 9,
   "id": "weighted-blackberry",
   "metadata": {},
   "outputs": [],
   "source": [
    "data['final_disciplines'] = data.final_disciplines.apply(lambda x: x.split(';'))"
   ]
  },
  {
   "cell_type": "code",
   "execution_count": 10,
   "id": "considerable-milton",
   "metadata": {},
   "outputs": [],
   "source": [
    "data['arts'] = data.chatgpt.apply(lambda x: any(el.startswith('art') for el in x))"
   ]
  },
  {
   "cell_type": "code",
   "execution_count": 11,
   "id": "positive-thermal",
   "metadata": {},
   "outputs": [
    {
     "data": {
      "text/html": [
       "<div>\n",
       "<style scoped>\n",
       "    .dataframe tbody tr th:only-of-type {\n",
       "        vertical-align: middle;\n",
       "    }\n",
       "\n",
       "    .dataframe tbody tr th {\n",
       "        vertical-align: top;\n",
       "    }\n",
       "\n",
       "    .dataframe thead th {\n",
       "        text-align: right;\n",
       "    }\n",
       "</style>\n",
       "<table border=\"1\" class=\"dataframe\">\n",
       "  <thead>\n",
       "    <tr style=\"text-align: right;\">\n",
       "      <th></th>\n",
       "      <th>PUBID</th>\n",
       "      <th>ABSTRACT</th>\n",
       "      <th>final_disciplines</th>\n",
       "      <th>chatgpt</th>\n",
       "      <th>prediction_length</th>\n",
       "      <th>arts</th>\n",
       "    </tr>\n",
       "  </thead>\n",
       "  <tbody>\n",
       "    <tr>\n",
       "      <th>4</th>\n",
       "      <td>500234900001</td>\n",
       "      <td>Glamour is usually theorized within fashion st...</td>\n",
       "      <td>[literature, physical sciences, other humaniti...</td>\n",
       "      <td>[history, art (arts, history of arts, performi...</td>\n",
       "      <td>2</td>\n",
       "      <td>True</td>\n",
       "    </tr>\n",
       "    <tr>\n",
       "      <th>7</th>\n",
       "      <td>521535000001</td>\n",
       "      <td>This paper contributes to a theoretical discus...</td>\n",
       "      <td>[other humanities, media and communications, a...</td>\n",
       "      <td>[art (arts, history of arts, performing arts, ...</td>\n",
       "      <td>1</td>\n",
       "      <td>True</td>\n",
       "    </tr>\n",
       "    <tr>\n",
       "      <th>80</th>\n",
       "      <td>683709800001</td>\n",
       "      <td>Museum staff strive to create environments ric...</td>\n",
       "      <td>[educational sciences, media and communication...</td>\n",
       "      <td>[art (arts, history of arts, performing arts, ...</td>\n",
       "      <td>3</td>\n",
       "      <td>True</td>\n",
       "    </tr>\n",
       "    <tr>\n",
       "      <th>185</th>\n",
       "      <td>827047500001</td>\n",
       "      <td>This article explores how the passages in Isai...</td>\n",
       "      <td>[religion]</td>\n",
       "      <td>[history, religion, economics and business, ph...</td>\n",
       "      <td>5</td>\n",
       "      <td>True</td>\n",
       "    </tr>\n",
       "  </tbody>\n",
       "</table>\n",
       "</div>"
      ],
      "text/plain": [
       "            PUBID                                           ABSTRACT  \\\n",
       "4    500234900001  Glamour is usually theorized within fashion st...   \n",
       "7    521535000001  This paper contributes to a theoretical discus...   \n",
       "80   683709800001  Museum staff strive to create environments ric...   \n",
       "185  827047500001  This article explores how the passages in Isai...   \n",
       "\n",
       "                                     final_disciplines  \\\n",
       "4    [literature, physical sciences, other humaniti...   \n",
       "7    [other humanities, media and communications, a...   \n",
       "80   [educational sciences, media and communication...   \n",
       "185                                         [religion]   \n",
       "\n",
       "                                               chatgpt  prediction_length  \\\n",
       "4    [history, art (arts, history of arts, performi...                  2   \n",
       "7    [art (arts, history of arts, performing arts, ...                  1   \n",
       "80   [art (arts, history of arts, performing arts, ...                  3   \n",
       "185  [history, religion, economics and business, ph...                  5   \n",
       "\n",
       "     arts  \n",
       "4    True  \n",
       "7    True  \n",
       "80   True  \n",
       "185  True  "
      ]
     },
     "execution_count": 11,
     "metadata": {},
     "output_type": "execute_result"
    }
   ],
   "source": [
    "data[data.arts]"
   ]
  },
  {
   "cell_type": "code",
   "execution_count": 12,
   "id": "systematic-timothy",
   "metadata": {},
   "outputs": [
    {
     "name": "stdout",
     "output_type": "stream",
     "text": [
      "                                                                         precision    recall  f1-score   support\n",
      "\n",
      "                                   agriculture, forestry, and fisheries       0.35      0.80      0.48        10\n",
      "                                               animal and dairy science       1.00      0.36      0.53        14\n",
      "                                                            archaeology       0.70      0.58      0.64        12\n",
      "                    art (arts, history of arts, performing arts, music)       0.50      0.14      0.22        14\n",
      "                                                         basic medicine       0.00      0.00      0.00        17\n",
      "                                                    biological sciences       0.83      0.47      0.60        32\n",
      "                                                   chemical engineering       0.36      0.73      0.48        11\n",
      "                                                      chemical sciences       0.00      0.00      0.00        30\n",
      "                                                      civil engineering       0.80      0.25      0.38        16\n",
      "                                                      clinical medicine       0.86      0.30      0.44        20\n",
      "                                      computer and information sciences       0.67      0.31      0.42        13\n",
      "                               earth and related environmental sciences       0.45      0.53      0.49        17\n",
      "                                                 economics and business       0.50      0.29      0.37        17\n",
      "                                                   educational sciences       0.67      0.60      0.63        10\n",
      "electrical engineering, electronic engineering, information engineering       0.38      0.30      0.33        10\n",
      "                                            environmental biotechnology       0.00      0.00      0.00        14\n",
      "                                              environmental engineering       0.33      0.06      0.10        18\n",
      "                                                   health biotechnology       1.00      0.30      0.46        10\n",
      "                                                        health sciences       0.33      0.10      0.15        10\n",
      "                                                                history       0.33      0.50      0.40        14\n",
      "                                               industrial biotechnology       0.50      0.17      0.25        12\n",
      "                                              languages and linguistics       1.00      0.23      0.38        13\n",
      "                                                                    law       1.00      0.09      0.17        11\n",
      "                                                             literature       0.67      0.17      0.27        12\n",
      "                                                  materials engineering       0.59      0.59      0.59        22\n",
      "                                                            mathematics       0.80      0.29      0.42        14\n",
      "                                                 mechanical engineering       0.40      0.33      0.36        12\n",
      "                                               media and communications       0.75      0.43      0.55        14\n",
      "                                                    medical engineering       0.39      0.64      0.48        11\n",
      "                                                        nano-technology       1.00      0.45      0.62        11\n",
      "                                            other agricultural sciences       0.00      0.00      0.00        12\n",
      "                                     other engineering and technologies       0.00      0.00      0.00        14\n",
      "                                                       other humanities       0.00      0.00      0.00        19\n",
      "                                                  other social sciences       0.00      0.00      0.00        11\n",
      "                                                  philosophy and ethics       0.64      0.70      0.67        10\n",
      "                                                      physical sciences       0.12      0.06      0.08        17\n",
      "                                                      political science       0.60      0.30      0.40        10\n",
      "                                                             psychology       0.55      0.40      0.46        15\n",
      "                                                               religion       1.00      0.38      0.56        13\n",
      "                                          social and economic geography       0.30      0.23      0.26        13\n",
      "                                                              sociology       0.45      0.17      0.24        30\n",
      "                                                     veterinary science       1.00      0.50      0.67        10\n",
      "\n",
      "                                                              micro avg       0.54      0.29      0.37       615\n",
      "                                                              macro avg       0.52      0.30      0.35       615\n",
      "                                                           weighted avg       0.50      0.29      0.33       615\n",
      "                                                            samples avg       0.56      0.31      0.37       615\n",
      "\n"
     ]
    },
    {
     "name": "stderr",
     "output_type": "stream",
     "text": [
      "C:\\Users\\carhiliuc\\Anaconda3\\envs\\univer\\lib\\site-packages\\sklearn\\preprocessing\\_label.py:900: UserWarning: unknown class(es) ['agricultural biotechnology'] will be ignored\n",
      "  warnings.warn(\n",
      "C:\\Users\\carhiliuc\\Anaconda3\\envs\\univer\\lib\\site-packages\\sklearn\\metrics\\_classification.py:1509: UndefinedMetricWarning: Precision is ill-defined and being set to 0.0 in labels with no predicted samples. Use `zero_division` parameter to control this behavior.\n",
      "  _warn_prf(average, modifier, f\"{metric.capitalize()} is\", len(result))\n",
      "C:\\Users\\carhiliuc\\Anaconda3\\envs\\univer\\lib\\site-packages\\sklearn\\metrics\\_classification.py:1509: UndefinedMetricWarning: Precision is ill-defined and being set to 0.0 in samples with no predicted labels. Use `zero_division` parameter to control this behavior.\n",
      "  _warn_prf(average, modifier, f\"{metric.capitalize()} is\", len(result))\n"
     ]
    }
   ],
   "source": [
    "from sklearn.preprocessing import MultiLabelBinarizer\n",
    "true_labels = list(data.final_disciplines)\n",
    "predicted_labels = list(data.chatgpt)\n",
    "mlb = MultiLabelBinarizer()\n",
    "true_label_binarized = mlb.fit_transform(true_labels)\n",
    "predicted_labels_binarized = mlb.transform(predicted_labels)\n",
    "from sklearn.metrics import classification_report\n",
    "print(classification_report(true_label_binarized, predicted_labels_binarized, target_names=mlb.classes_))"
   ]
  },
  {
   "cell_type": "code",
   "execution_count": 13,
   "id": "invalid-sympathy",
   "metadata": {},
   "outputs": [
    {
     "data": {
      "text/plain": [
       "0.02617801047120419"
      ]
     },
     "execution_count": 13,
     "metadata": {},
     "output_type": "execute_result"
    }
   ],
   "source": [
    "from sklearn.metrics import accuracy_score\n",
    "accuracy_score(true_label_binarized, predicted_labels_binarized)"
   ]
  },
  {
   "cell_type": "code",
   "execution_count": 14,
   "id": "removed-catalog",
   "metadata": {},
   "outputs": [
    {
     "name": "stdout",
     "output_type": "stream",
     "text": [
      "                                                                         precision    recall  f1-score   support\n",
      "\n",
      "                                   agriculture, forestry, and fisheries       0.35      0.80      0.48        10\n",
      "                                               animal and dairy science       1.00      0.36      0.53        14\n",
      "                                                            archaeology       0.70      0.58      0.64        12\n",
      "                    art (arts, history of arts, performing arts, music)       0.50      0.14      0.22        14\n",
      "                                                         basic medicine       0.00      0.00      0.00        17\n",
      "                                                    biological sciences       0.83      0.47      0.60        32\n",
      "                                                   chemical engineering       0.36      0.73      0.48        11\n",
      "                                                      chemical sciences       0.00      0.00      0.00        30\n",
      "                                                      civil engineering       0.80      0.25      0.38        16\n",
      "                                                      clinical medicine       0.86      0.30      0.44        20\n",
      "                                      computer and information sciences       0.67      0.31      0.42        13\n",
      "                               earth and related environmental sciences       0.45      0.53      0.49        17\n",
      "                                                 economics and business       0.50      0.29      0.37        17\n",
      "                                                   educational sciences       0.67      0.60      0.63        10\n",
      "electrical engineering, electronic engineering, information engineering       0.38      0.30      0.33        10\n",
      "                                            environmental biotechnology       0.00      0.00      0.00        14\n",
      "                                              environmental engineering       0.33      0.06      0.10        18\n",
      "                                                   health biotechnology       1.00      0.30      0.46        10\n",
      "                                                        health sciences       0.33      0.10      0.15        10\n",
      "                                                                history       0.33      0.50      0.40        14\n",
      "                                               industrial biotechnology       0.50      0.17      0.25        12\n",
      "                                              languages and linguistics       1.00      0.23      0.38        13\n",
      "                                                                    law       1.00      0.09      0.17        11\n",
      "                                                             literature       0.67      0.17      0.27        12\n",
      "                                                  materials engineering       0.59      0.59      0.59        22\n",
      "                                                            mathematics       0.80      0.29      0.42        14\n",
      "                                                 mechanical engineering       0.40      0.33      0.36        12\n",
      "                                               media and communications       0.75      0.43      0.55        14\n",
      "                                                    medical engineering       0.39      0.64      0.48        11\n",
      "                                                        nano-technology       1.00      0.45      0.62        11\n",
      "                                                  philosophy and ethics       0.64      0.70      0.67        10\n",
      "                                                      physical sciences       0.12      0.06      0.08        17\n",
      "                                                      political science       0.60      0.30      0.40        10\n",
      "                                                             psychology       0.55      0.40      0.46        15\n",
      "                                                               religion       1.00      0.38      0.56        13\n",
      "                                          social and economic geography       0.30      0.23      0.26        13\n",
      "                                                              sociology       0.45      0.17      0.24        30\n",
      "                                                     veterinary science       1.00      0.50      0.67        10\n",
      "\n",
      "                                                              micro avg       0.54      0.31      0.40       559\n",
      "                                                              macro avg       0.57      0.34      0.38       559\n",
      "                                                           weighted avg       0.55      0.31      0.37       559\n",
      "                                                            samples avg       0.56      0.34      0.39       559\n",
      "\n"
     ]
    },
    {
     "name": "stderr",
     "output_type": "stream",
     "text": [
      "C:\\Users\\carhiliuc\\Anaconda3\\envs\\univer\\lib\\site-packages\\sklearn\\preprocessing\\_label.py:900: UserWarning: unknown class(es) ['agricultural biotechnology'] will be ignored\n",
      "  warnings.warn(\n",
      "C:\\Users\\carhiliuc\\Anaconda3\\envs\\univer\\lib\\site-packages\\sklearn\\metrics\\_classification.py:1509: UndefinedMetricWarning: Precision is ill-defined and being set to 0.0 in labels with no predicted samples. Use `zero_division` parameter to control this behavior.\n",
      "  _warn_prf(average, modifier, f\"{metric.capitalize()} is\", len(result))\n",
      "C:\\Users\\carhiliuc\\Anaconda3\\envs\\univer\\lib\\site-packages\\sklearn\\metrics\\_classification.py:1509: UndefinedMetricWarning: Precision is ill-defined and being set to 0.0 in samples with no predicted labels. Use `zero_division` parameter to control this behavior.\n",
      "  _warn_prf(average, modifier, f\"{metric.capitalize()} is\", len(result))\n",
      "C:\\Users\\carhiliuc\\Anaconda3\\envs\\univer\\lib\\site-packages\\sklearn\\metrics\\_classification.py:1509: UndefinedMetricWarning: Recall is ill-defined and being set to 0.0 in samples with no true labels. Use `zero_division` parameter to control this behavior.\n",
      "  _warn_prf(average, modifier, f\"{metric.capitalize()} is\", len(result))\n"
     ]
    }
   ],
   "source": [
    "def filter_labels(labels_list):\n",
    "    filtered_labels = []\n",
    "    for labels in labels_list:\n",
    "        filtered_labels.append([label for label in labels if not label.startswith('other')])\n",
    "    return filtered_labels\n",
    "\n",
    "# Filter both true and predicted labels\n",
    "true_labels_filtered = filter_labels(list(data.final_disciplines))\n",
    "predicted_labels_filtered = filter_labels(list(data.chatgpt))\n",
    "\n",
    "# Initialize MultiLabelBinarizer\n",
    "mlb = MultiLabelBinarizer()\n",
    "\n",
    "# Transform labels\n",
    "true_label_binarized = mlb.fit_transform(true_labels_filtered)\n",
    "predicted_labels_binarized = mlb.transform(predicted_labels_filtered)\n",
    "\n",
    "# Generate and print classification report\n",
    "print(classification_report(true_label_binarized, predicted_labels_binarized, target_names=mlb.classes_))"
   ]
  }
 ],
 "metadata": {
  "kernelspec": {
   "display_name": "Python 3",
   "language": "python",
   "name": "python3"
  },
  "language_info": {
   "codemirror_mode": {
    "name": "ipython",
    "version": 3
   },
   "file_extension": ".py",
   "mimetype": "text/x-python",
   "name": "python",
   "nbconvert_exporter": "python",
   "pygments_lexer": "ipython3",
   "version": "3.9.1"
  }
 },
 "nbformat": 4,
 "nbformat_minor": 5
}
