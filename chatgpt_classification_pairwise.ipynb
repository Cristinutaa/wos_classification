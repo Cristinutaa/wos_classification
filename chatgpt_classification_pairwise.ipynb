{
 "cells": [
  {
   "cell_type": "code",
   "execution_count": 1,
   "id": "communist-renewal",
   "metadata": {},
   "outputs": [
    {
     "ename": "NameError",
     "evalue": "name 'discipline_data' is not defined",
     "output_type": "error",
     "traceback": [
      "\u001B[1;31m---------------------------------------------------------------------------\u001B[0m",
      "\u001B[1;31mNameError\u001B[0m                                 Traceback (most recent call last)",
      "\u001B[1;32m<ipython-input-1-8192ea16a951>\u001B[0m in \u001B[0;36m<module>\u001B[1;34m\u001B[0m\n\u001B[0;32m    108\u001B[0m \u001B[1;33m\u001B[0m\u001B[0m\n\u001B[0;32m    109\u001B[0m \u001B[1;31m# Process the test file and generate the result dictionary\u001B[0m\u001B[1;33m\u001B[0m\u001B[1;33m\u001B[0m\u001B[1;33m\u001B[0m\u001B[0m\n\u001B[1;32m--> 110\u001B[1;33m \u001B[0mresults\u001B[0m \u001B[1;33m=\u001B[0m \u001B[0mprocess_test_file\u001B[0m\u001B[1;33m(\u001B[0m\u001B[0mtest_file_path\u001B[0m\u001B[1;33m,\u001B[0m \u001B[0mbase_prompt_folder\u001B[0m\u001B[1;33m,\u001B[0m \u001B[0mdiscipline_data\u001B[0m\u001B[1;33m)\u001B[0m\u001B[1;33m\u001B[0m\u001B[1;33m\u001B[0m\u001B[0m\n\u001B[0m\u001B[0;32m    111\u001B[0m \u001B[1;33m\u001B[0m\u001B[0m\n\u001B[0;32m    112\u001B[0m \u001B[1;31m# Save the results to a JSON file\u001B[0m\u001B[1;33m\u001B[0m\u001B[1;33m\u001B[0m\u001B[1;33m\u001B[0m\u001B[0m\n",
      "\u001B[1;31mNameError\u001B[0m: name 'discipline_data' is not defined"
     ]
    }
   ],
   "source": [
    "# Reassembling the full script with the updated API call function\n",
    "\n",
    "# Function to make API call to GPT-3.5 Turbo with error handling and retry logic\n",
    "def gpt_pairwise_comparison_with_retry(prompt, api_key):\n",
    "    # Define the API endpoint for GPT-3.5 Turbo\n",
    "    api_url = \"https://api.openai.com/v1/engines/text-davinci-003/completions\"\n",
    "\n",
    "    # Set up the headers with your OpenAI API key\n",
    "    headers = {\n",
    "        \"Authorization\": f\"Bearer {api_key}\",\n",
    "        \"Content-Type\": \"application/json\"\n",
    "    }\n",
    "\n",
    "    # Define the data payload for the API request\n",
    "    data = {\n",
    "        \"prompt\": prompt,\n",
    "        \"max_tokens\": 50  # Adjust as needed based on your prompt\n",
    "    }\n",
    "\n",
    "    attempts = 0\n",
    "    max_attempts = 3  # Define the maximum number of attempts\n",
    "\n",
    "    while attempts < max_attempts:\n",
    "        try:\n",
    "            response = requests.post(api_url, headers=headers, json=data, timeout=60)  # 60-second timeout\n",
    "            if response.status_code == 200:\n",
    "                return response.json()['choices'][0]['text'].strip()\n",
    "            else:\n",
    "                print(f\"Error in API call: {response.status_code}. Retrying...\")\n",
    "                attempts += 1\n",
    "                time.sleep(5)  # Wait for 5 seconds before retrying\n",
    "        except requests.exceptions.Timeout:\n",
    "            print(\"Request timed out. Retrying...\")\n",
    "            attempts += 1\n",
    "        except requests.exceptions.RequestException as e:\n",
    "            print(f\"An error occurred: {e}. Retrying...\")\n",
    "            attempts += 1\n",
    "            time.sleep(5)\n",
    "\n",
    "    return None  # Return None if all attempts fail\n",
    "\n",
    "# Function to perform pairwise comparison for disciplines\n",
    "def compare_disciplines(abstract, disciplines, base_folder):\n",
    "    discipline_scores = {discipline: 0 for discipline in disciplines}\n",
    "    for discipline1, discipline2 in itertools.combinations(disciplines, 2):\n",
    "        prompt_file = f\"{discipline1}_vs_{discipline2}.txt\"\n",
    "        prompt_path = os.path.join(base_folder, prompt_file)\n",
    "        if os.path.exists(prompt_path):\n",
    "            with open(prompt_path, 'r') as file:\n",
    "                prompt = file.read().format(abstract)\n",
    "                selected_discipline = gpt_pairwise_comparison_with_retry(prompt)\n",
    "                if selected_discipline in discipline_scores:\n",
    "                    discipline_scores[selected_discipline] += 1\n",
    "    return discipline_scores\n",
    "\n",
    "# Function to perform pairwise comparison for subdisciplines\n",
    "def compare_subdisciplines(abstract, discipline, subdisciplines, base_folder):\n",
    "    subdiscipline_scores = {subdiscipline: 0 for subdiscipline in subdisciplines}\n",
    "    discipline_folder = os.path.join(base_folder, discipline)\n",
    "    for sub1, sub2 in itertools.combinations(subdisciplines, 2):\n",
    "        prompt_file = f\"{sub1}_vs_{sub2}.txt\"\n",
    "        prompt_path = os.path.join(discipline_folder, prompt_file)\n",
    "        if os.path.exists(prompt_path):\n",
    "            with open(prompt_path, 'r') as file:\n",
    "                prompt = file.read().format(abstract)\n",
    "                selected_subdiscipline = gpt_pairwise_comparison_with_retry(prompt)\n",
    "                subdiscipline = ''\n",
    "                for sd in subdiscipline_scores.keys():\n",
    "                    if selected_subdiscipline in sd:\n",
    "                        subdiscipline == sd\n",
    "                        break\n",
    "                if subdiscipline:    \n",
    "                    subdiscipline_scores[subdiscipline] += 1\n",
    "    return subdiscipline_scores\n",
    "\n",
    "# Main function to process the test file\n",
    "def process_test_file(test_file_path, base_prompt_folder, discipline_data):\n",
    "    results_dict = {}\n",
    "\n",
    "    # Read the test file\n",
    "    with open(test_file_path, mode='r') as file:\n",
    "        csv_reader = csv.DictReader(file)\n",
    "        for row in csv_reader:\n",
    "            pubid = row['PUBID']\n",
    "            abstract = row['ABSTRACT']\n",
    "\n",
    "            # Compare disciplines\n",
    "            disciplines = list(discipline_data.keys())\n",
    "            discipline_scores = compare_disciplines(abstract, disciplines, base_prompt_folder)\n",
    "\n",
    "            # Compare subdisciplines for selected disciplines\n",
    "            for discipline, score in discipline_scores.items():\n",
    "                if score >= 4 and discipline in discipline_data:\n",
    "                    subdisciplines = list(discipline_data[discipline].keys())\n",
    "                    subdiscipline_scores = compare_subdisciplines(abstract, discipline, subdisciplines, base_prompt_folder)\n",
    "                    discipline_scores[discipline] = {'score': score, 'subdisciplines': subdiscipline_scores}\n",
    "                else:\n",
    "                    discipline_scores[discipline] = {'score': score, 'subdisciplines': {}}\n",
    "\n",
    "            # Update results\n",
    "            results_dict[pubid] = discipline_scores\n",
    "\n",
    "    return results_dict\n",
    "\n",
    "# Assuming the test file and discipline data are available\n",
    "test_file_path = 'H:/data/WoS_data/data_gpt10.csv'\n",
    "base_prompt_folder = 'prompts/pairwise_comparison'\n",
    "\n",
    "# Process the test file and generate the result dictionary\n",
    "results = process_test_file(test_file_path, base_prompt_folder, discipline_data)\n",
    "\n",
    "# Save the results to a JSON file\n",
    "output_file_path = 'chatgpt_hierarchical_pairwise.json'\n",
    "with open(output_file_path, 'w') as json_file:\n",
    "    json.dump(results, json_file, indent=4)\n",
    "\n",
    "output_file_path\n"
   ]
  },
  {
   "cell_type": "code",
   "execution_count": 27,
   "id": "monthly-atmosphere",
   "metadata": {},
   "outputs": [
    {
     "name": "stderr",
     "output_type": "stream",
     "text": [
      "\r",
      "  0%|                                                                                          | 0/191 [00:00<?, ?it/s]"
     ]
    },
    {
     "name": "stdout",
     "output_type": "stream",
     "text": [
      "0 the most relevant discipline is 'electrical engineering, electronic engineering, information engineering electrical engineering, electronic engineering, information engineering mechanical engineering\n"
     ]
    },
    {
     "name": "stderr",
     "output_type": "stream",
     "text": [
      "  3%|██                                                                              | 5/191 [02:25<1:37:47, 31.54s/it]"
     ]
    },
    {
     "name": "stdout",
     "output_type": "stream",
     "text": [
      "1 HTTPSConnectionPool(host='api.openai.com', port=443): Read timed out. (read timeout=60)\n"
     ]
    },
    {
     "name": "stderr",
     "output_type": "stream",
     "text": [
      "\r",
      "  3%|██▌                                                                             | 6/191 [04:15<2:51:53, 55.75s/it]"
     ]
    },
    {
     "name": "stdout",
     "output_type": "stream",
     "text": [
      "0 industrial biotechnology mechanical engineering medical engineering\n",
      "0 this abstract is more relevant to 'biological sciences earth and related environmental sciences biological sciences\n"
     ]
    },
    {
     "name": "stderr",
     "output_type": "stream",
     "text": [
      "  4%|██▉                                                                             | 7/191 [05:42<2:30:12, 48.98s/it]\n"
     ]
    },
    {
     "ename": "KeyboardInterrupt",
     "evalue": "",
     "output_type": "error",
     "traceback": [
      "\u001B[1;31m---------------------------------------------------------------------------\u001B[0m",
      "\u001B[1;31mKeyboardInterrupt\u001B[0m                         Traceback (most recent call last)",
      "\u001B[1;32m<ipython-input-27-d729ab91a383>\u001B[0m in \u001B[0;36m<module>\u001B[1;34m\u001B[0m\n\u001B[0;32m    142\u001B[0m \u001B[1;33m\u001B[0m\u001B[0m\n\u001B[0;32m    143\u001B[0m \u001B[1;31m# Process the publications\u001B[0m\u001B[1;33m\u001B[0m\u001B[1;33m\u001B[0m\u001B[1;33m\u001B[0m\u001B[0m\n\u001B[1;32m--> 144\u001B[1;33m \u001B[0mprocess_publications\u001B[0m\u001B[1;33m(\u001B[0m\u001B[0mtest_file_path\u001B[0m\u001B[1;33m,\u001B[0m \u001B[0mbase_prompt_folder\u001B[0m\u001B[1;33m,\u001B[0m \u001B[0mdiscipline_data\u001B[0m\u001B[1;33m,\u001B[0m \u001B[0moutput_file_path\u001B[0m\u001B[1;33m,\u001B[0m \u001B[0mapi_key\u001B[0m\u001B[1;33m)\u001B[0m\u001B[1;33m\u001B[0m\u001B[1;33m\u001B[0m\u001B[0m\n\u001B[0m",
      "\u001B[1;32m<ipython-input-27-d729ab91a383>\u001B[0m in \u001B[0;36mprocess_publications\u001B[1;34m(test_file_path, base_prompt_folder, discipline_data, output_file_path, api_key)\u001B[0m\n\u001B[0;32m    120\u001B[0m                     \u001B[1;32mif\u001B[0m \u001B[0mscore\u001B[0m \u001B[1;33m>=\u001B[0m \u001B[1;36m4\u001B[0m \u001B[1;32mand\u001B[0m \u001B[0mdiscipline\u001B[0m \u001B[1;32min\u001B[0m \u001B[0mdiscipline_data\u001B[0m\u001B[1;33m:\u001B[0m\u001B[1;33m\u001B[0m\u001B[1;33m\u001B[0m\u001B[0m\n\u001B[0;32m    121\u001B[0m                         \u001B[0msubdisciplines\u001B[0m \u001B[1;33m=\u001B[0m \u001B[0mlist\u001B[0m\u001B[1;33m(\u001B[0m\u001B[0mdiscipline_data\u001B[0m\u001B[1;33m[\u001B[0m\u001B[0mdiscipline\u001B[0m\u001B[1;33m]\u001B[0m\u001B[1;33m.\u001B[0m\u001B[0mkeys\u001B[0m\u001B[1;33m(\u001B[0m\u001B[1;33m)\u001B[0m\u001B[1;33m)\u001B[0m\u001B[1;33m\u001B[0m\u001B[1;33m\u001B[0m\u001B[0m\n\u001B[1;32m--> 122\u001B[1;33m                         \u001B[0msubdiscipline_scores\u001B[0m \u001B[1;33m=\u001B[0m \u001B[0mcompare_subdisciplines\u001B[0m\u001B[1;33m(\u001B[0m\u001B[0mabstract\u001B[0m\u001B[1;33m,\u001B[0m \u001B[0mdiscipline\u001B[0m\u001B[1;33m,\u001B[0m \u001B[0msubdisciplines\u001B[0m\u001B[1;33m,\u001B[0m \u001B[0mbase_prompt_folder\u001B[0m\u001B[1;33m)\u001B[0m\u001B[1;33m\u001B[0m\u001B[1;33m\u001B[0m\u001B[0m\n\u001B[0m\u001B[0;32m    123\u001B[0m                         \u001B[0mdiscipline_scores\u001B[0m\u001B[1;33m[\u001B[0m\u001B[0mdiscipline\u001B[0m\u001B[1;33m]\u001B[0m \u001B[1;33m=\u001B[0m \u001B[1;33m{\u001B[0m\u001B[1;34m'score'\u001B[0m\u001B[1;33m:\u001B[0m \u001B[0mscore\u001B[0m\u001B[1;33m,\u001B[0m \u001B[1;34m'subdisciplines'\u001B[0m\u001B[1;33m:\u001B[0m \u001B[0msubdiscipline_scores\u001B[0m\u001B[1;33m}\u001B[0m\u001B[1;33m\u001B[0m\u001B[1;33m\u001B[0m\u001B[0m\n\u001B[0;32m    124\u001B[0m                     \u001B[1;32melse\u001B[0m\u001B[1;33m:\u001B[0m\u001B[1;33m\u001B[0m\u001B[1;33m\u001B[0m\u001B[0m\n",
      "\u001B[1;32m<ipython-input-27-d729ab91a383>\u001B[0m in \u001B[0;36mcompare_subdisciplines\u001B[1;34m(abstract, discipline, subdisciplines, base_folder)\u001B[0m\n\u001B[0;32m     81\u001B[0m         \u001B[0mprompt_file\u001B[0m \u001B[1;33m=\u001B[0m \u001B[1;34mf\"{sub1}_vs_{sub2}.txt\"\u001B[0m\u001B[1;33m\u001B[0m\u001B[1;33m\u001B[0m\u001B[0m\n\u001B[0;32m     82\u001B[0m         \u001B[0mprompt_path\u001B[0m \u001B[1;33m=\u001B[0m \u001B[0mos\u001B[0m\u001B[1;33m.\u001B[0m\u001B[0mpath\u001B[0m\u001B[1;33m.\u001B[0m\u001B[0mjoin\u001B[0m\u001B[1;33m(\u001B[0m\u001B[0mdiscipline_folder\u001B[0m\u001B[1;33m,\u001B[0m \u001B[0mprompt_file\u001B[0m\u001B[1;33m)\u001B[0m\u001B[1;33m\u001B[0m\u001B[1;33m\u001B[0m\u001B[0m\n\u001B[1;32m---> 83\u001B[1;33m         \u001B[1;32mif\u001B[0m \u001B[0mos\u001B[0m\u001B[1;33m.\u001B[0m\u001B[0mpath\u001B[0m\u001B[1;33m.\u001B[0m\u001B[0mexists\u001B[0m\u001B[1;33m(\u001B[0m\u001B[0mprompt_path\u001B[0m\u001B[1;33m)\u001B[0m\u001B[1;33m:\u001B[0m\u001B[1;33m\u001B[0m\u001B[1;33m\u001B[0m\u001B[0m\n\u001B[0m\u001B[0;32m     84\u001B[0m             \u001B[1;32mwith\u001B[0m \u001B[0mopen\u001B[0m\u001B[1;33m(\u001B[0m\u001B[0mprompt_path\u001B[0m\u001B[1;33m,\u001B[0m \u001B[1;34m'r'\u001B[0m\u001B[1;33m)\u001B[0m \u001B[1;32mas\u001B[0m \u001B[0mfile\u001B[0m\u001B[1;33m:\u001B[0m\u001B[1;33m\u001B[0m\u001B[1;33m\u001B[0m\u001B[0m\n\u001B[0;32m     85\u001B[0m                 \u001B[0mprompt\u001B[0m \u001B[1;33m=\u001B[0m \u001B[0mfile\u001B[0m\u001B[1;33m.\u001B[0m\u001B[0mread\u001B[0m\u001B[1;33m(\u001B[0m\u001B[1;33m)\u001B[0m\u001B[1;33m.\u001B[0m\u001B[0mformat\u001B[0m\u001B[1;33m(\u001B[0m\u001B[0mabstract\u001B[0m\u001B[1;33m)\u001B[0m\u001B[1;33m\u001B[0m\u001B[1;33m\u001B[0m\u001B[0m\n",
      "\u001B[1;32m~\\Anaconda3\\envs\\univer\\lib\\genericpath.py\u001B[0m in \u001B[0;36mexists\u001B[1;34m(path)\u001B[0m\n\u001B[0;32m     17\u001B[0m     \u001B[1;34m\"\"\"Test whether a path exists.  Returns False for broken symbolic links\"\"\"\u001B[0m\u001B[1;33m\u001B[0m\u001B[1;33m\u001B[0m\u001B[0m\n\u001B[0;32m     18\u001B[0m     \u001B[1;32mtry\u001B[0m\u001B[1;33m:\u001B[0m\u001B[1;33m\u001B[0m\u001B[1;33m\u001B[0m\u001B[0m\n\u001B[1;32m---> 19\u001B[1;33m         \u001B[0mos\u001B[0m\u001B[1;33m.\u001B[0m\u001B[0mstat\u001B[0m\u001B[1;33m(\u001B[0m\u001B[0mpath\u001B[0m\u001B[1;33m)\u001B[0m\u001B[1;33m\u001B[0m\u001B[1;33m\u001B[0m\u001B[0m\n\u001B[0m\u001B[0;32m     20\u001B[0m     \u001B[1;32mexcept\u001B[0m \u001B[1;33m(\u001B[0m\u001B[0mOSError\u001B[0m\u001B[1;33m,\u001B[0m \u001B[0mValueError\u001B[0m\u001B[1;33m)\u001B[0m\u001B[1;33m:\u001B[0m\u001B[1;33m\u001B[0m\u001B[1;33m\u001B[0m\u001B[0m\n\u001B[0;32m     21\u001B[0m         \u001B[1;32mreturn\u001B[0m \u001B[1;32mFalse\u001B[0m\u001B[1;33m\u001B[0m\u001B[1;33m\u001B[0m\u001B[0m\n",
      "\u001B[1;31mKeyboardInterrupt\u001B[0m: "
     ]
    }
   ],
   "source": [
    "import csv\n",
    "import itertools\n",
    "import requests\n",
    "import json\n",
    "import os\n",
    "import time\n",
    "from tqdm import tqdm\n",
    "a = ''\n",
    "b = ''\n",
    "c = ''\n",
    "# Define the function for GPT-3.5 Turbo API calls with retry logic\n",
    "def gpt_pairwise_comparison_with_retry(prompt, accepted_answers, api_key='api key'):\n",
    "    # Define the API endpoint for GPT-3.5 Turbo\n",
    "    global a,b,c\n",
    "    api_url = \"https://api.openai.com/v1/chat/completions\"\n",
    "\n",
    "    # Set up the headers with your OpenAI API key\n",
    "    headers = {\n",
    "        \"Authorization\": f\"Bearer {api_key}\",\n",
    "        \"Content-Type\": \"application/json\"\n",
    "    }\n",
    "\n",
    "    # Define the data payload for the API request\n",
    "    data = {\n",
    "        \"model\": \"gpt-3.5-turbo\",\n",
    "        \"messages\": [{\"role\": \"user\",\n",
    "                      \"content\": prompt}],\n",
    "        \"max_tokens\": 20  # Adjust as needed\n",
    "    }\n",
    "\n",
    "    attempts = 0\n",
    "    max_attempts = 10  # Maximum number of attempts\n",
    "    while attempts < max_attempts:\n",
    "        try:\n",
    "            response = requests.post(api_url, headers=headers, json=data, timeout=60)  # 60-second timeout\n",
    "            if response.status_code == 200:\n",
    "                response = response.json()['choices'][0]['message']['content'].strip(' .,\\'').lower()\n",
    "                if response in accepted_answers[0] or response in accepted_answers[1]:\n",
    "                    return response\n",
    "                else:\n",
    "                    print(attempts, response, accepted_answers[0], accepted_answers[1])\n",
    "                    attempts += 1\n",
    "                    time.sleep(5)\n",
    "            else:\n",
    "                attempts += 1\n",
    "                print('Status code {}'.format(response.status_code))\n",
    "                time.sleep(60 if str(response.status_code) == '429' else 5)  # Wait for 5 seconds before retrying\n",
    "        except requests.exceptions.Timeout as e:\n",
    "            attempts += 1  # Retry if the request times out\n",
    "            time.sleep(5)\n",
    "            print(attempts, e)\n",
    "        except requests.exceptions.RequestException as e:\n",
    "            attempts += 1\n",
    "            time.sleep(5)  # Wait for 5 seconds before retrying\n",
    "            print(attempts, e)\n",
    "    print(prompt)\n",
    "    raise Exception('max_attempts exceeded')\n",
    "    return None  # Return None if all attempts fail\n",
    "\n",
    "# Function to perform pairwise comparison for disciplines\n",
    "def compare_disciplines(abstract, disciplines, base_folder):\n",
    "    discipline_scores = {discipline: 0 for discipline in disciplines}\n",
    "    for discipline1, discipline2 in itertools.combinations(disciplines, 2):\n",
    "        prompt_file = f\"{discipline1}_vs_{discipline2}.txt\"\n",
    "        prompt_path = os.path.join(base_folder, prompt_file)\n",
    "        if os.path.exists(prompt_path):\n",
    "            with open(prompt_path, 'r') as file:\n",
    "                prompt = file.read().format(abstract)\n",
    "                selected_discipline = gpt_pairwise_comparison_with_retry(prompt, accepted_answers=(discipline1, discipline2))\n",
    "                if selected_discipline in discipline1:\n",
    "                    discipline_scores[discipline1] += 1\n",
    "                elif selected_discipline in discipline2:\n",
    "                    discipline_scores[discipline2] += 1\n",
    "    return discipline_scores\n",
    "\n",
    "# Function to perform pairwise comparison for subdisciplines\n",
    "def compare_subdisciplines(abstract, discipline, subdisciplines, base_folder):\n",
    "    subdiscipline_scores = {subdiscipline: 0 for subdiscipline in subdisciplines}\n",
    "    discipline_folder = os.path.join(base_folder, discipline)\n",
    "    for sub1, sub2 in itertools.combinations(subdisciplines, 2):\n",
    "        prompt_file = f\"{sub1}_vs_{sub2}.txt\"\n",
    "        prompt_path = os.path.join(discipline_folder, prompt_file)\n",
    "        if os.path.exists(prompt_path):\n",
    "            with open(prompt_path, 'r') as file:\n",
    "                prompt = file.read().format(abstract)\n",
    "                selected_subdiscipline = gpt_pairwise_comparison_with_retry(prompt, accepted_answers=(sub1, sub2))\n",
    "                if selected_subdiscipline in sub1:\n",
    "                    subdiscipline_scores[sub1] += 1\n",
    "                elif selected_subdiscipline in sub2:\n",
    "                    subdiscipline_scores[sub2] += 1\n",
    "    return subdiscipline_scores\n",
    "\n",
    "# Define the main processing function\n",
    "def process_publications(test_file_path, base_prompt_folder, discipline_data, output_file_path, api_key):\n",
    "    # Try to load existing results from the JSON file\n",
    "    if os.path.exists(output_file_path):\n",
    "        with open(output_file_path, 'r') as json_file:\n",
    "            results_dict = json.load(json_file)\n",
    "    else:\n",
    "        results_dict = {}\n",
    "    \n",
    "    count = 0\n",
    "    # Read the test file and process each publication\n",
    "    with open(test_file_path, mode='r') as file:\n",
    "        csv_reader = csv.DictReader(file)\n",
    "        for row in tqdm(csv_reader, total=191):\n",
    "            try:\n",
    "                pubid = row['PUBID']\n",
    "\n",
    "                # Skip processing if results already exist for this publication\n",
    "                if pubid in results_dict:\n",
    "                    continue\n",
    "                count += 1\n",
    "                abstract = row['ABSTRACT']\n",
    "                disciplines = list(discipline_data.keys())\n",
    "                discipline_scores = compare_disciplines(abstract, disciplines, base_prompt_folder)\n",
    "\n",
    "                # Compare subdisciplines for selected disciplines\n",
    "                for discipline, score in discipline_scores.items():\n",
    "                    if score >= 4 and discipline in discipline_data:\n",
    "                        subdisciplines = list(discipline_data[discipline].keys())\n",
    "                        subdiscipline_scores = compare_subdisciplines(abstract, discipline, subdisciplines, base_prompt_folder)\n",
    "                        discipline_scores[discipline] = {'score': score, 'subdisciplines': subdiscipline_scores}\n",
    "                    else:\n",
    "                        discipline_scores[discipline] = {'score': score, 'subdisciplines': {}}\n",
    "\n",
    "                # Update results\n",
    "                results_dict[pubid] = discipline_scores\n",
    "                with open(output_file_path, 'w') as json_file:\n",
    "                    json.dump(results_dict, json_file, indent=4)\n",
    "            except Exception as e:\n",
    "                print(e)\n",
    "                continue\n",
    "        print(count)\n",
    "\n",
    "# Paths and API key\n",
    "test_file_path = 'H:/data/WoS_data/data_gpt10.csv'  # Replace with the actual path\n",
    "base_prompt_folder = 'prompts/pairwise_comparison'  # Replace with the actual path\n",
    "output_file_path = 'chatgpt_hierarchical_pairwise.json'  # Replace with the actual path\n",
    "api_key = 'api-key'  # Replace with your actual API key\n",
    "discipline_data = json.load(open('discipline_structure.json', 'r'))\n",
    "\n",
    "# Process the publications\n",
    "process_publications(test_file_path, base_prompt_folder, discipline_data, output_file_path, api_key)"
   ]
  },
  {
   "cell_type": "code",
   "execution_count": 6,
   "id": "apparent-correction",
   "metadata": {},
   "outputs": [],
   "source": [
    "import json\n",
    "with open('chatgpt_hierarchical_pairwise.json', 'r') as json_file:\n",
    "    results_dict = json.load(json_file)"
   ]
  },
  {
   "cell_type": "code",
   "execution_count": 10,
   "id": "initial-international",
   "metadata": {},
   "outputs": [
    {
     "data": {
      "text/plain": [
       "20"
      ]
     },
     "execution_count": 10,
     "metadata": {},
     "output_type": "execute_result"
    }
   ],
   "source": [
    "len(results_dict.keys())"
   ]
  },
  {
   "cell_type": "code",
   "execution_count": 7,
   "id": "differential-reserve",
   "metadata": {},
   "outputs": [],
   "source": [
    "response = 'engineering and technology'\n",
    "accepted_answers = {'engineering and technology', 'medical and health sciences'}"
   ]
  },
  {
   "cell_type": "code",
   "execution_count": 8,
   "id": "southeast-assignment",
   "metadata": {},
   "outputs": [
    {
     "data": {
      "text/plain": [
       "True"
      ]
     },
     "execution_count": 8,
     "metadata": {},
     "output_type": "execute_result"
    }
   ],
   "source": [
    "any(response in x for x in accepted_answers)"
   ]
  },
  {
   "cell_type": "code",
   "execution_count": 10,
   "id": "comprehensive-elite",
   "metadata": {},
   "outputs": [
    {
     "data": {
      "text/plain": [
       "'engineering and technology'"
      ]
     },
     "execution_count": 10,
     "metadata": {},
     "output_type": "execute_result"
    }
   ],
   "source": [
    "response"
   ]
  },
  {
   "cell_type": "code",
   "execution_count": 11,
   "id": "accredited-survivor",
   "metadata": {},
   "outputs": [
    {
     "data": {
      "text/plain": [
       "{'engineering and technology', 'medical and health sciences'}"
      ]
     },
     "execution_count": 11,
     "metadata": {},
     "output_type": "execute_result"
    }
   ],
   "source": [
    "accepted_answers"
   ]
  },
  {
   "cell_type": "code",
   "execution_count": 23,
   "id": "higher-greek",
   "metadata": {},
   "outputs": [
    {
     "data": {
      "text/plain": [
       "\"'engineering and technology'\""
      ]
     },
     "execution_count": 23,
     "metadata": {},
     "output_type": "execute_result"
    }
   ],
   "source": [
    "a"
   ]
  },
  {
   "cell_type": "code",
   "execution_count": 24,
   "id": "rotary-cookbook",
   "metadata": {},
   "outputs": [
    {
     "data": {
      "text/plain": [
       "'engineering and technology'"
      ]
     },
     "execution_count": 24,
     "metadata": {},
     "output_type": "execute_result"
    }
   ],
   "source": [
    "b"
   ]
  },
  {
   "cell_type": "code",
   "execution_count": 25,
   "id": "dominican-pasta",
   "metadata": {},
   "outputs": [
    {
     "data": {
      "text/plain": [
       "'natural sciences'"
      ]
     },
     "execution_count": 25,
     "metadata": {},
     "output_type": "execute_result"
    }
   ],
   "source": [
    "c"
   ]
  },
  {
   "cell_type": "code",
   "execution_count": null,
   "id": "excited-butterfly",
   "metadata": {},
   "outputs": [],
   "source": []
  }
 ],
 "metadata": {
  "kernelspec": {
   "display_name": "Python 3",
   "language": "python",
   "name": "python3"
  },
  "language_info": {
   "codemirror_mode": {
    "name": "ipython",
    "version": 3
   },
   "file_extension": ".py",
   "mimetype": "text/x-python",
   "name": "python",
   "nbconvert_exporter": "python",
   "pygments_lexer": "ipython3",
   "version": "3.9.1"
  }
 },
 "nbformat": 4,
 "nbformat_minor": 5
}