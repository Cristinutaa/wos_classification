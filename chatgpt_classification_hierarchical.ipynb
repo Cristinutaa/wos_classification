{
 "cells": [
  {
   "cell_type": "code",
   "execution_count": 3,
   "metadata": {},
   "outputs": [
    {
     "name": "stdout",
     "output_type": "stream",
     "text": [
      "Requirement already satisfied: openai in c:\\users\\carhiliuc\\anaconda3\\envs\\univer\\lib\\site-packages (0.28.1)\n",
      "Requirement already satisfied: aiohttp in c:\\users\\carhiliuc\\anaconda3\\envs\\univer\\lib\\site-packages (from openai) (3.7.4)\n",
      "Requirement already satisfied: requests>=2.20 in c:\\users\\carhiliuc\\anaconda3\\envs\\univer\\lib\\site-packages (from openai) (2.31.0)\n",
      "Requirement already satisfied: tqdm in c:\\users\\carhiliuc\\anaconda3\\envs\\univer\\lib\\site-packages (from openai) (4.65.0)\n",
      "Requirement already satisfied: charset-normalizer<4,>=2 in c:\\users\\carhiliuc\\anaconda3\\envs\\univer\\lib\\site-packages (from requests>=2.20->openai) (3.1.0)\n",
      "Requirement already satisfied: idna<4,>=2.5 in c:\\users\\carhiliuc\\anaconda3\\envs\\univer\\lib\\site-packages (from requests>=2.20->openai) (2.10)\n",
      "Requirement already satisfied: certifi>=2017.4.17 in c:\\users\\carhiliuc\\anaconda3\\envs\\univer\\lib\\site-packages (from requests>=2.20->openai) (2023.7.22)\n",
      "Requirement already satisfied: urllib3<3,>=1.21.1 in c:\\users\\carhiliuc\\anaconda3\\envs\\univer\\lib\\site-packages (from requests>=2.20->openai) (1.26.4)\n",
      "Requirement already satisfied: multidict<7.0,>=4.5 in c:\\users\\carhiliuc\\anaconda3\\envs\\univer\\lib\\site-packages (from aiohttp->openai) (5.1.0)\n",
      "Requirement already satisfied: attrs>=17.3.0 in c:\\users\\carhiliuc\\anaconda3\\envs\\univer\\lib\\site-packages (from aiohttp->openai) (20.3.0)\n",
      "Requirement already satisfied: chardet<4.0,>=2.0 in c:\\users\\carhiliuc\\anaconda3\\envs\\univer\\lib\\site-packages (from aiohttp->openai) (3.0.4)\n",
      "Requirement already satisfied: async-timeout<4.0,>=3.0 in c:\\users\\carhiliuc\\anaconda3\\envs\\univer\\lib\\site-packages (from aiohttp->openai) (3.0.1)\n",
      "Requirement already satisfied: typing-extensions>=3.6.5 in c:\\users\\carhiliuc\\anaconda3\\envs\\univer\\lib\\site-packages (from aiohttp->openai) (4.7.1)\n",
      "Requirement already satisfied: yarl<2.0,>=1.0 in c:\\users\\carhiliuc\\anaconda3\\envs\\univer\\lib\\site-packages (from aiohttp->openai) (1.6.3)\n",
      "Requirement already satisfied: colorama in c:\\users\\carhiliuc\\anaconda3\\envs\\univer\\lib\\site-packages (from tqdm->openai) (0.4.4)\n"
     ]
    }
   ],
   "source": [
    "!pip install openai\n",
    "import openai\n",
    "from tqdm import tqdm\n",
    "import json\n",
    "import pandas as pd\n",
    "import requests"
   ]
  },
  {
   "cell_type": "code",
   "execution_count": 4,
   "metadata": {},
   "outputs": [],
   "source": [
    "tqdm.pandas()"
   ]
  },
  {
   "cell_type": "code",
   "execution_count": 5,
   "metadata": {},
   "outputs": [],
   "source": [
    "import time\n",
    "def gpt_with_retry(prompt, api_key='api-key'):\n",
    "    # Define the API endpoint for GPT-3.5 Turbo\n",
    "    api_url = \"https://api.openai.com/v1/chat/completions\"\n",
    "\n",
    "    # Set up the headers with your OpenAI API key\n",
    "    headers = {\n",
    "        \"Authorization\": f\"Bearer {api_key}\",\n",
    "        \"Content-Type\": \"application/json\"\n",
    "    }\n",
    "\n",
    "    # Define the data payload for the API request\n",
    "    data = {\n",
    "        \"model\": \"gpt-3.5-turbo\",\n",
    "        \"messages\": [{\"role\": \"user\",\n",
    "                      \"content\": prompt}],\n",
    "    }\n",
    "\n",
    "    attempts = 0\n",
    "    max_attempts = 10  # Maximum number of attempts\n",
    "    while attempts < max_attempts:\n",
    "        try:\n",
    "            response = requests.post(api_url, headers=headers, json=data, timeout=180)  # 60-second timeout\n",
    "            if response.status_code == 200:\n",
    "                response = response.json()['choices'][0]['message']['content'].strip(' .,').lower()\n",
    "                return response\n",
    "            else:\n",
    "                attempts += 1\n",
    "                print('Status code {}'.format(response.status_code))\n",
    "                time.sleep(60 if str(response.status_code) == '429' else 5)  # Wait for 5 seconds before retrying\n",
    "        except requests.exceptions.Timeout as e:\n",
    "            attempts += 1  # Retry if the request times out\n",
    "            time.sleep(5)\n",
    "            print(attempts, e)\n",
    "        except requests.exceptions.RequestException as e:\n",
    "            attempts += 1\n",
    "            time.sleep(5)  # Wait for 5 seconds before retrying\n",
    "            print(attempts, e)\n",
    "    print(prompt)\n",
    "    raise Exception('max_attempts exceeded')\n",
    "    return None  # Return None if all attempts fail"
   ]
  },
  {
   "cell_type": "code",
   "execution_count": 6,
   "metadata": {},
   "outputs": [],
   "source": [
    "test_data = pd.read_csv('H:/data/WoS_data/data_gpt50.csv', usecols=['PUBID', 'ABSTRACT', 'final_disciplines'], dtype=str)"
   ]
  },
  {
   "cell_type": "code",
   "execution_count": 7,
   "metadata": {},
   "outputs": [],
   "source": [
    "test_dict = test_data.set_index('PUBID').ABSTRACT.to_dict()"
   ]
  },
  {
   "cell_type": "code",
   "execution_count": 8,
   "metadata": {},
   "outputs": [],
   "source": [
    "initial_prompt = open('prompts/hierarchical/level0pred_description.txt', 'r').read()"
   ]
  },
  {
   "cell_type": "code",
   "execution_count": 9,
   "metadata": {},
   "outputs": [],
   "source": [
    "# To be done after the prompts are written with the structure lvl1: prompt\n",
    "lvl1 = ['natural sciences', 'engineering and technology', 'agricultural sciences', 'medical and health sciences', 'social sciences', 'humanities']\n",
    "lvl1_prompts = {key: open(f'prompts/hierarchical/description_title/{key}.txt', 'r').read() for key in lvl1}"
   ]
  },
  {
   "cell_type": "code",
   "execution_count": 10,
   "metadata": {},
   "outputs": [],
   "source": [
    "lvl12 = json.load(open('discipline_structure.json', 'r'))"
   ]
  },
  {
   "cell_type": "code",
   "execution_count": 11,
   "metadata": {},
   "outputs": [],
   "source": [
    "lvl12 = {key: list(values.keys()) for key, values in lvl12.items()}"
   ]
  },
  {
   "cell_type": "code",
   "execution_count": 12,
   "metadata": {
    "scrolled": true
   },
   "outputs": [
    {
     "data": {
      "text/plain": [
       "{'agricultural sciences': ['agriculture, forestry, and fisheries',\n",
       "  'animal and dairy science',\n",
       "  'veterinary science',\n",
       "  'agricultural biotechnology',\n",
       "  'other agricultural sciences'],\n",
       " 'engineering and technology': ['civil engineering',\n",
       "  'electrical engineering, electronic engineering, information engineering',\n",
       "  'mechanical engineering',\n",
       "  'chemical engineering',\n",
       "  'materials engineering',\n",
       "  'medical engineering',\n",
       "  'environmental engineering',\n",
       "  'environmental biotechnology',\n",
       "  'industrial biotechnology',\n",
       "  'nano-technology',\n",
       "  'other engineering and technologies'],\n",
       " 'humanities': ['history',\n",
       "  'archaeology',\n",
       "  'languages and linguistics',\n",
       "  'literature',\n",
       "  'philosophy and ethics',\n",
       "  'religion',\n",
       "  'arts (arts, history of arts, performing arts, music)',\n",
       "  'other humanities'],\n",
       " 'medical and health sciences': ['basic medicine',\n",
       "  'clinical medicine',\n",
       "  'health sciences',\n",
       "  'health biotechnology',\n",
       "  'other medical sciences'],\n",
       " 'natural sciences': ['mathematics',\n",
       "  'computer and information sciences',\n",
       "  'physical sciences',\n",
       "  'chemical sciences',\n",
       "  'earth and related environmental sciences',\n",
       "  'biological sciences',\n",
       "  'other natural sciences'],\n",
       " 'social sciences': ['psychology',\n",
       "  'economics and business',\n",
       "  'educational sciences',\n",
       "  'sociology',\n",
       "  'law',\n",
       "  'political science',\n",
       "  'social and economic geography',\n",
       "  'media and communications',\n",
       "  'other social sciences']}"
      ]
     },
     "execution_count": 12,
     "metadata": {},
     "output_type": "execute_result"
    }
   ],
   "source": [
    "lvl12"
   ]
  },
  {
   "cell_type": "code",
   "execution_count": 13,
   "metadata": {},
   "outputs": [
    {
     "data": {
      "text/plain": [
       "{'natural sciences': 'Given the following 7 classes: mathematics;computer and information sciences;physical sciences;chemical sciences;earth and related environmental sciences;biological sciences;other natural sciences \\nThe classes description and example of abstracts: \\nmathematics: Pure mathematics, Applied mathematics; Statistics and probability (this excludes applied statistics) \\n Example abstract: Polynomial interpolation and residue currents;Asymptotic comparison of some Bayesian information bounds;Asymptotic comparison of some Bayesian information bounds \\ncomputer and information sciences: Computer sciences, information science and bioinformatics (hardware development to be in Electrical Engineering, social aspect to be in Media and Communication) \\n Example abstract: Hourly Work of 3D Microstructural Visualization of Dual Phase Steels by SliceGAN;Formal concept analysis model for static code analysis;The Logic Languages of the TPTP World \\nphysical sciences: Atomic, molecular and chemical physics (physics of atoms and molecules including collision, interaction with radiation; magnetic resonances; Moessbauer effect); Condensed matter physics (including formerly solid state physics, superconductivity); Particles and fields physics; Nuclear physics; Fluids and plasma physics (including surface physics); Optics (including laser optics and quantum optics), Acoustics; Astronomy (including astrophysics, space science) \\n Example abstract: Quantum phases of two-component bosons in the extended Bose-Hubbard model;TUNABLE ELECTRON-SPIN POLARIZATION BY delta-POTENTIAL IN LAYERED SEMICONDUCTOR NANOSTRUCTURE;On stringy origin of minimal flavor violation \\nchemical sciences: Organic chemistry; Inorganic and nuclear chemistry; Physical chemistry, Polymer science, Electrochemistry (dry cells, batteries, fuel cells, corrosion metals, electrolysis); Colloid chemistry; Analytical chemistry \\n Example abstract: Phosphorylation of 2-Aryl Quinoxaline Derivatives via C-H/P-H Cross Coupling under Transition-Metal-Free Conditions;s-Tetrazine: Robust and Green Photoorganocatalyst for Aerobic Oxidation of N,N-Disubstituted Hydroxylamines to Nitrones;Tuning the sumanene receptor structure towards the development of potentiometric sensors \\nearth and related environmental sciences: Geosciences, multidisciplinary; Mineralogy; Palaeontology; Geochemistry and geophysics; Physical geography; Geology; Volcanology; Environmental sciences (social aspects to be in Social and economic geography); Meteorology and atmospheric sciences; climatic research; Oceanography, Hydrology, Water resources \\n Example abstract: Improving Estimates of Sulfur, Nitrogen, and Ozone Total Deposition through Multi-Model and Measurement-Model Fusion Approaches;Models of Climate, Geophysical Boundary Layers, and the Active Land Layer: In Memory of V. N. Lykosov;The KALKOWSKY Project- Chapter II Wobbly ooids in a stromatolite from the Yacoraite Formation (Argentina) \\nbiological sciences: Not medical or agricultural, Cell biology, Microbiology; Virology; Biochemistry and molecular biology; Biochemical research methods; Mycology; Biophysics; Genetics and heredity (medical genetics to be 3); reproductive biology (medical aspects to be 3); developmental biology; Plant sciences, botany; Zoology, Ornithology, Entomology, Behavioural sciences biology; Marine biology, freshwater biology, limnology; Ecology; Biodiversity conservation; Biology (theoretical, mathematical, thermal, cryobiology, biological rhythm), Evolutionary biology; other biological topics \\n Example abstract: Contribution to the knowledge of Chinese Gryllacrididae (Orthoptera) VI: new descriptions of Ocellarnaca Gorochov, 2004;NOTES ON THE NEST AND BREEDING OF GOELDI\\'S ANTBIRD (AKLETOS GOELDII), A BAMBOO SPECIALIST, FROM UCAYALI, PERU;Contribution to the knowledge of Chinese Gryllacrididae (Orthoptera) VI: new descriptions of Ocellarnaca Gorochov, 2004 \\nother natural sciences: Other natural sciences \\n Example abstract:  \\nReturn the most relevant classes for the FOLLOWING abstract. Return ONLY THE CLASSES separated by \"&\" in the ORDER OF RELEVANCE WITH THEIR RELEVANCE SCORE (between 0 and 100) in one line and never any aditional context: \\n{} \\nPlease, DON\\'T RETURN OTHER CLASSES, ONLY A SUBSET OF THE 7, otherwise the result is invalid!!! The results of my study depends on it.\\n DON\\'T RETURN MORE THAN FIVE RESULTS. ONLY THE MOST RELEVANT AND MAX 5 (1,2,3,4,5 RESULTS)!!!! \\nExample of answer: \"physical sciences:70&mathematics:60\" ',\n",
       " 'engineering and technology': 'Given the following 11 classes: civil engineering;electrical engineering, electronic engineering, information engineering;mechanical engineering;chemical engineering;materials engineering;medical engineering;environmental engineering;environmental biotechnology;industrial biotechnology;nano-technology;other engineering and technologies \\nThe classes description and example of abstracts: \\ncivil engineering: Civil engineering; Architecture engineering; Construction engineering, Municipal and structural engineering; Transport engineering \\n Example abstract: Action plan for model-based construction logistics planning;The mining and energy industry in Colombia: a 30-year overview;The mining and energy industry in Colombia: a 30-year overview \\nelectrical engineering, electronic engineering, information engineering: Electrical and electronic engineering; Robotics and automatic control; Automation and control systems; Communication engineering and systems; telecommunications; Computer hardware and architecture \\n Example abstract: Differentially-Driven Robots Moving in Formation-Leader-Follower Approach;Differentially-Driven Robots Moving in Formation-Leader-Follower Approach;A Proportionate Robust Diffusion Recursive Least Exponential Hyperbolic Cosine Algorithm for Distributed Estimation \\nmechanical engineering: Mechanical engineering; Applied mechanics; Thermodynamics; Aerospace engineering; Nuclear related engineering; (nuclear physics to be in Physical sciences); Audio engineering, reliability analysis \\n Example abstract: Variation of Lubricant Distribution Across the Radial Direction in a Journal Bearing;Study of Model Uncertainties Influence on the Impact Point Dispersion for a Gasodynamicaly Controlled Projectile;Effect of zeta potential in fractional pulsatile electroosmotic flow of Maxwell fluid \\nchemical engineering: Chemical engineering (plants, products); Chemical process engineering \\n Example abstract: Choosing HIPS over PRD: It is more than risk reduction;Dynamic Behavior of a Deflector Wheel Classifier during the Start-up Process and Material Change;Choosing HIPS over PRD: It is more than risk reduction \\nmaterials engineering: Materials engineering; Ceramics; Coating and films; Composites (including laminates, reinforced plastics, cermets, combined natural and synthetic fibre fabrics; filled composites); Paper and wood; textiles; including synthetic dyes, colours, fibres; (nanoscale materials to be in Nano-technology; biomaterials to be in Industrial biotechnology) \\n Example abstract: Influence of microdefects in rust layer of weathering steel on corrosion resistance from 3D observation by synchrotron X-ray micro tomography;Effect of Tensile Elastic Deformations on Magnetic Properties of Preliminarily Deformed Structural Steel Operating Under Pressure;Deformation induced grain boundary segregation and thermal stability of nanolaminated Al-Zn-Mg-Cu alloy \\nmedical engineering: Medical engineering; Medical laboratory technology (including laboratory samples analysis; diagnostic technologies); (Biomaterials to be in Industrial biotechnology [physical characteristics of living material as related to medical implants, devices, sensors]) \\n Example abstract: Method for Obtaining and Hypolipidemic Activity Assay of a Lipolytic Enzyme from Nigella sativa Seeds;On the Effect of Heterophilic Antibodies on Serum Levels of Cardiac Troponins: A Brief Descriptive Review;Novel advances in strategies and applications of artificial articular cartilage \\nenvironmental engineering: Environmental and geological engineering, geotechnics; Petroleum engineering, (fuel, oils), Energy and fuels; Remote sensing; Mining and mineral processing; Marine engineering, sea vessels; Ocean engineering \\n Example abstract: Electric Drives: Complexes of Nonlinear Electromechanical Links Identified by Nonlinear Transfer Functions and Families of Frequency Characteristics;Reducing Negative Impacts of Dormant Pyrite Copper Ore Mine on the Geosphere in the Urals;High-Rate Mining Technology Simulation Modeling \\nenvironmental biotechnology: Environmental biotechnology; Bioremediation, diagnostic biotechnologies (DNA chips and biosensing devices) in environmental management; environmental biotechnology related ethics \\n Example abstract: Can Pulsed Electric Fields Treated Algal Cells Be Used as Stationary Phase in Chromatography?;Production of natural colorants by metabolically engineered microorganisms;CDMOs Play a Critical Role in the Biopharmaceutical Ecosystem \\nindustrial biotechnology: Industrial biotechnology; Bioprocessing technologies (industrial processes relying on biological agents to drive the process) biocatalysis, fermentation; bioproducts (products that are manufactured using biological material as feedstock) biomaterials, bioplastics, biofuels, bioderived bulk and fine chemicals, bio-derived novel materials \\n Example abstract: Approaches to Biofunctionalize Polyetheretherketone for Antibacterial: A Review;Approaches to Biofunctionalize Polyetheretherketone for Antibacterial: A Review;Effective and Easy Techniques of Collagen Deposition onto Polylactide Films: DC-Discharge Plasma Treatment vs. Chemical Entrapment \\nnano-technology: Nano-materials [production and properties]; Nano-processes [applications on nano-scale]; (biomaterials to be in Industrial biotechnology) \\n Example abstract: A Detection-Service-Mobile Three-Terminal Software Platform for Point-of-Care Infectious Disease Detection System;A Detection-Service-Mobile Three-Terminal Software Platform for Point-of-Care Infectious Disease Detection System;Development of Magnetic Nanoparticles and Encapsulation Methods - An Overview \\nother engineering and technologies: Food and beverages; Other engineering and technologies \\n Example abstract: Advanced Manufacturing Configuration by Sample-Efficient Batch Bayesian Optimization;Readout electronics for the CMS Phase II Endcap Calorimeter: system overview and prototyping experience;Advanced Manufacturing Configuration by Sample-Efficient Batch Bayesian Optimization \\nReturn the most relevant classes for the FOLLOWING abstract. Return ONLY THE CLASSES separated by \"&\" in the ORDER OF RELEVANCE WITH THEIR RELEVANCE SCORE (between 0 and 100) in one line and never any aditional context: \\n{} \\nPlease, DON\\'T RETURN OTHER CLASSES, ONLY A SUBSET OF THE 11, otherwise the result is invalid!!! The results of my study depends on it.\\n DON\\'T RETURN MORE THAN FIVE RESULTS. ONLY THE MOST RELEVANT AND MAX 5 (1,2,3,4,5 RESULTS)!!!! \\nExample of answer: \"other engineering and technologies:70&medical engineering:60\" ',\n",
       " 'agricultural sciences': 'Given the following 5 classes: agriculture, forestry, and fisheries;animal and dairy science;veterinary science;agricultural biotechnology;other agricultural sciences \\nThe classes description and example of abstracts: \\nagriculture, forestry, and fisheries: Agriculture; Forestry; Fishery; Soil science; Horticulture, viticulture; Agronomy, plant breeding and plant protection \\n Example abstract: Weed Management through Imidazolinones in Pigeon Pea (Cajanus cajan L.);Academic writing, and how to write in a clear and comprehensible way;Weed Management through Imidazolinones in Pigeon Pea (Cajanus cajan L.) \\nanimal and dairy science: Animal and dairy science; Husbandry; Pets \\n Example abstract: Non-Antimicrobial Methods to Control Liver Abscesses;Metabolizable energy in corn is greater than in hybrid rye when fed to gestating sows, but exogenous enzymes did not increase energy digestibility;Metabolizable energy in corn is greater than in hybrid rye when fed to gestating sows, but exogenous enzymes did not increase energy digestibility \\nveterinary science: Veterinary science \\n Example abstract: A case of generalised cutaneous apocrine cystomatosis in a Pekingese dog;Imaging of the Urinary Tract;A case of generalised cutaneous apocrine cystomatosis in a Pekingese dog \\nagricultural biotechnology: Agricultural biotechnology and food biotechnology; GM technology (crops and livestock), livestock cloning, marker assisted selection, diagnostics (DNA chips and biosensing devices for the early/accurate detection of diseases) biomass feedstock production technologies, biopharming; agricultural biotechnology related ethics \\n Example abstract:  \\nother agricultural sciences: Other agricultural sciences \\n Example abstract: Kinetic Model Analysis of Mild Autohydrolysis of Eucalyptus Woodchips for Xylose Production;Kinetic Model Analysis of Mild Autohydrolysis of Eucalyptus Woodchips for Xylose Production;Contributions to the Mathematical Modeling of the Threshing and Separation Process in An Axial Flow Combine \\nReturn the most relevant classes for the FOLLOWING abstract. Return ONLY THE CLASSES separated by \"&\" in the ORDER OF RELEVANCE WITH THEIR RELEVANCE SCORE (between 0 and 100) in one line and never any aditional context: \\n{} \\nPlease, DON\\'T RETURN OTHER CLASSES, ONLY A SUBSET OF THE 5, otherwise the result is invalid!!! The results of my study depends on it.\\n DON\\'T RETURN MORE THAN FIVE RESULTS. ONLY THE MOST RELEVANT AND MAX 5 (1,2,3,4,5 RESULTS)!!!! \\nExample of answer: \"other agricultural sciences:70&other agricultural sciences:60\" ',\n",
       " 'medical and health sciences': 'Given the following 5 classes: basic medicine;clinical medicine;health sciences;health biotechnology;other medical sciences \\nThe classes description and example of abstracts: \\nbasic medicine: Anatomy and morphology (plant science to be biological studies); Human genetics; Immunology; Neurosciences (including psychophysiology); Pharmacology and pharmacy; Medicinal chemistry; Toxicology; Physiology (including cytology); Pathology \\n Example abstract: Structure-Based Optimization of a Fragment-like TLR8 Binding Screening Hit to an In Vivo Efficacious TLR7/8 Antagonist;An Evaluation of Self-Identified Preferences in Young Children with Behavioral Disorders;A concise review on hPXR ligand-recognizing residues and structure-based strategies to alleviate hPXR transactivation risk \\nclinical medicine: Andrology; Obstetrics and gynaecology; Paediatrics; Cardiac and Cardiovascular systems; Peripheral vascular disease; Hematology; Respiratory systems; Critical care medicine and Emergency medicine; Anaesthesiology; Orthopaedics; Surgery; Radiology, nuclear medicine and medical imaging; Transplantation; Dentistry, oral surgery and medicine; Dermatology and venereal diseases; Allergy; Rheumatology; Endocrinology and metabolism (including diabetes, hormones); Gastroenterology and hepatology; Urology and nephrology; Oncology; Ophthalmology; Otorhinolaryngology; Psychiatry; Clinical neurology; Geriatrics and gerontology; General and internal medicine; other clinical medicine subjects; Integrative and complementary medicine (alternative practice systems) \\n Example abstract: Incidental Papillary Thyroid Cancer Identified During Parathyroidectomy;Incidental Papillary Thyroid Cancer Identified During Parathyroidectomy;Cardiac Infiltration as the First Manifestation of Acute Lymphoblastic Leukemia: A Systematic Review \\nhealth sciences: Health care sciences and services (including hospital administration, health care financing); Health policy and services; Nursing; Nutrition, Dietetics; Public and environmental health; Tropical medicine; Parasitology; Infectious diseases; epidemiology; Occupational health; Sport and fitness sciences; Social biomedical sciences (includes family planning, sexual health, psycho-oncology, political and social effects of biomedical research); Medical ethics; Substance abuse \\n Example abstract: Hand cleansing and disinfectant products based on hydrogen peroxide;Improving Global Health and Nursing\\'s International Influence;Applying mucosal barrier injury laboratory-confirmed bloodstream infection criteria in patients with solid tumors and hematologic malignancies: A retrospective cohort study looking for the real source of infection \\nhealth biotechnology: Health-related biotechnology; Technologies involving the manipulation of cells, tissues, organs or the whole organism (assisted reproduction); Technologies involving identifying the functioning of DNA, proteins and enzymes and how they influence the onset of disease and maintenance of well-being (gene-based diagnostics and therapeutic interventions (pharmacogenomics, gene-based therapeutics); Biomaterials (as related to medical implants, devices, sensors); Medical biotechnology related ethics \\n Example abstract: Primary MSCs for Personalized Medicine: Ethical Challenges, Isolation and Biocompatibility Evaluation of 3D Electrospun and Printed Scaffolds \\nother medical sciences: Forensic science; Other medical sciences \\n Example abstract:  \\nReturn the most relevant classes for the FOLLOWING abstract. Return ONLY THE CLASSES separated by \"&\" in the ORDER OF RELEVANCE WITH THEIR RELEVANCE SCORE (between 0 and 100) in one line and never any aditional context: \\n{} \\nPlease, DON\\'T RETURN OTHER CLASSES, ONLY A SUBSET OF THE 5, otherwise the result is invalid!!! The results of my study depends on it.\\n DON\\'T RETURN MORE THAN FIVE RESULTS. ONLY THE MOST RELEVANT AND MAX 5 (1,2,3,4,5 RESULTS)!!!! \\nExample of answer: \"basic medicine:70&health sciences:60\" ',\n",
       " 'social sciences': 'Given the following 9 classes: psychology;economics and business;educational sciences;sociology;law;political science;social and economic geography;media and communications;other social sciences \\nThe classes description and example of abstracts: \\npsychology: Psychology (including human - machine relations); Psychology, special (including therapy for learning, speech, hearing, visual and other physical and mental disabilities) \\n Example abstract: Trauma and Stress Associated With Breast Cancer Survivors-A Natural Language Processing Study;A comparison of counselling self-efficacy among international and domestic counselling students;In the same boat? An online group career counseling with a group of young adults in the time of COVID-19 \\neconomics and business: Economics, Econometrics; Industrial relations; Business and Management \\n Example abstract: The effect of international subsidiaries on voluntary disclosure-evidence from natural disasters;The effect of international subsidiaries on voluntary disclosure-evidence from natural disasters;Strategic delegation under rational and fulfilled expectations in quantity competition \\neducational sciences: Education, general; including training, pedagogy, didactics; Education, special (to gifted persons, those with learning disabilities) \\n Example abstract: Reimagining American Education: Possible Futures Youth, families, and communities as educational leaders;Reimagining American Education: Possible Futures Youth, families, and communities as educational leaders;Pre-service teachers\\' ethical role construction in China \\nsociology: Sociology; Demography; Anthropology, ethnology; Social topics (WomenÃ\\xads and gender studies; Social issues; Family studies, Social work) \\n Example abstract: From \"Recognizing the Temple but not the Grave\" to Recognizing Both A Study of the Change of Funeral Culture of the Deang People;From \"Recognizing the Temple but not the Grave\" to Recognizing Both A Study of the Change of Funeral Culture of the Deang People;\"Conversations with You, Places of Freedom\": Writing, Desire, and Prison Intimacies \\nlaw: Law, criminology, penology \\n Example abstract: Human Dignity in Legal Argumentation: A Functional Perspective;Human Dignity in Legal Argumentation: A Functional Perspective;WHITE VIGILANTISM AND THE RACISM OF RACE-NEUTRALITY \\npolitical science: Political science; public administration; organisation theory \\n Example abstract: Public and private healthcare sectors during COVID-19: the main challenges in Lithuania;Public and private healthcare sectors during COVID-19: the main challenges in Lithuania;How to Finance Terrorism: The Italian Red Brigades (1970-1988) \\nsocial and economic geography: Environmental sciences (social aspects); Cultural and economic geography; Urban studies (Planning and development); Transport planning and social aspects of transport (transport engineering to be Civil Engineering) \\n Example abstract: Sri Lanka in 2021 Vistas on the Brink;Global studies and human geography: A view from Aotearoa New Zealand;Global studies and human geography: A view from Aotearoa New Zealand \\nmedia and communications: Journalism; Information science (social aspects); Library science; Media and socio-cultural communication \\n Example abstract: Exploring Cultural Competence: A Case Study of Two Academic Libraries;Service Philosophy Statements in Practice: Motivation, Authorship, and Impact;Sensing What\\'s New: Considering Ethics When Using Sensor Data in Journalistic Practices \\nother social sciences: Social sciences, interdisciplinary; Other social sciences \\n Example abstract: A Useful Failure: Macron\\'s Overture to Russia;A Useful Failure: Macron\\'s Overture to Russia;Political attitudes and Plog\\'s travel personality model \\nReturn the most relevant classes for the FOLLOWING abstract. Return ONLY THE CLASSES separated by \"&\" in the ORDER OF RELEVANCE WITH THEIR RELEVANCE SCORE (between 0 and 100) in one line and never any aditional context: \\n{} \\nPlease, DON\\'T RETURN OTHER CLASSES, ONLY A SUBSET OF THE 9, otherwise the result is invalid!!! The results of my study depends on it.\\n DON\\'T RETURN MORE THAN FIVE RESULTS. ONLY THE MOST RELEVANT AND MAX 5 (1,2,3,4,5 RESULTS)!!!! \\nExample of answer: \"political science:70&educational sciences:60\" ',\n",
       " 'humanities': 'Given the following 8 classes: history;archaeology;languages and linguistics;literature;philosophy and ethics;religion;arts (arts, history of arts, performing arts, music);other humanities \\nThe classes description and example of abstracts: \\nhistory: History (history of science and technology to be in Educational Sciences, history of specific sciences to be under the respective headings) \\n Example abstract: The economic space of cities: an analysis of leather tanners in eighteenth- and nineteenth-century Rome;Navigating Family Welfare and Dwelling Space for Mercantile Migrants in Venice, 1550-1700;Navigating Family Welfare and Dwelling Space for Mercantile Migrants in Venice, 1550-1700 \\narchaeology: Archaeology \\n Example abstract: The Function of the Iron Age Site of Khirbet Qeiyafa;Sustaining Tangible Neighborhood Change through African American Archaeology in Easton, Maryland: Evaluating The Hill Community Project;Two Pre-Islamic Places of Worship in the Tourism Landscape of the UAE \\nlanguages and linguistics: General language studies; Specific languages; Linguistics \\n Example abstract: Geocentric directional systems in Australia: a typology;The landscape of non-canonical \\'only\\' in German;Mica preposing as focus fronting \\nliterature: General literature studies; Literary theory; Specific literatures \\n Example abstract: Carl Akeley\\'s \\'lost\\' decorative taxidermy and anthropomorphic groups The European connection;Hecataeus and the Origin of Wine A Note on F-15 Fowler;Carl Akeley\\'s \\'lost\\' decorative taxidermy and anthropomorphic groups The European connection \\nphilosophy and ethics: Philosophy, History and philosophy of science and technology; Ethics (except ethics related to specific subfields) \\n Example abstract: Action and Rationalization;The arch-grammar of the representation of lifeworld in the Indian collection Ocean of the Streams of Story;The arch-grammar of the representation of lifeworld in the Indian collection Ocean of the Streams of Story \\nreligion: Theology; Religious studies \\n Example abstract: A Blemished Offering: Economy, Eucharist, and the Limits of Epiphanic Conversion;A Blemished Offering: Economy, Eucharist, and the Limits of Epiphanic Conversion;A Blemished Offering: Economy, Eucharist, and the Limits of Epiphanic Conversion \\narts (arts, history of arts, performing arts, music): Arts, Art history; Architectural design; Performing arts studies (Musicology, Theater science, Dramaturgy); Folklore studies; Studies on Film, Radio and Television \\n Example abstract: Jiimaan, That Teaching Sister: Practices of Archival Care;Identity in Diversity: Programmatic Pictures of the Enlightenment;A Costume Analysis of the Film \\'Lost in Translation\\' (Coppola, 2003) \\nother humanities: Other humanities \\n Example abstract: Adaptation as augmentation: performing writing as a means of survival;Carle Van Loo at the 1737 Salon;Adaptation as augmentation: performing writing as a means of survival \\nReturn the most relevant classes for the FOLLOWING abstract. Return ONLY THE CLASSES separated by \"&\" in the ORDER OF RELEVANCE WITH THEIR RELEVANCE SCORE (between 0 and 100) in one line and never any aditional context: \\n{} \\nPlease, DON\\'T RETURN OTHER CLASSES, ONLY A SUBSET OF THE 8, otherwise the result is invalid!!! The results of my study depends on it.\\n DON\\'T RETURN MORE THAN FIVE RESULTS. ONLY THE MOST RELEVANT AND MAX 5 (1,2,3,4,5 RESULTS)!!!! \\nExample of answer: \"history:70&history:60\" '}"
      ]
     },
     "execution_count": 13,
     "metadata": {},
     "output_type": "execute_result"
    }
   ],
   "source": [
    "lvl1_prompts "
   ]
  },
  {
   "cell_type": "code",
   "execution_count": 14,
   "metadata": {},
   "outputs": [],
   "source": [
    "failure = {}"
   ]
  },
  {
   "cell_type": "code",
   "execution_count": 15,
   "metadata": {},
   "outputs": [],
   "source": [
    "import re\n",
    "def check_result_structure(result):\n",
    "    pattern = re.compile(\"^(([a-z,\\-()\\s]+):\\s?[0-9]*\\s?&?)+$\")\n",
    "    return bool(pattern.match(result))\n",
    "def get_check_results(level, answer, previous_level=''):\n",
    "    if not check_result_structure(answer):\n",
    "        return False\n",
    "    values = [x for x in answer.split('&') if int(x.split(':')[1].strip()) > 50]\n",
    "    if level == 0 and all(x.split(':')[0].strip() in lvl1 for x in values):\n",
    "        return {item.split(':')[0].strip(): {'score': item.split(':')[1].strip(), 'disciplines': {}} for item in values}\n",
    "    if level == 1 and all(any(x.split(':')[0].strip() in y for y in lvl12[previous_level]) for x in values):\n",
    "        return {y: x.split(':')[1].strip() for x in values for y in lvl12[previous_level] if x.split(':')[0] in y}\n",
    "    return False"
   ]
  },
  {
   "cell_type": "code",
   "execution_count": 16,
   "metadata": {},
   "outputs": [
    {
     "data": {
      "text/plain": [
       "False"
      ]
     },
     "execution_count": 16,
     "metadata": {},
     "output_type": "execute_result"
    }
   ],
   "source": [
    "get_check_results(1, 'medical engineering:100&materials engineering:90&chemical engineering:80&nano-technology:70&kitten engineering:60', previous_level='engineering and technology')"
   ]
  },
  {
   "cell_type": "code",
   "execution_count": 22,
   "metadata": {
    "scrolled": true
   },
   "outputs": [
    {
     "name": "stderr",
     "output_type": "stream",
     "text": [
      "\r",
      "  0%|                                                                                         | 0/1569 [00:00<?, ?it/s]"
     ]
    },
    {
     "name": "stdout",
     "output_type": "stream",
     "text": [
      "Manual input required. Current answer: social sciences:80&psychology:70&medical and health sciences:60&psychology:50&natural sciences:40. Possible answers: ['natural sciences', 'engineering and technology', 'agricultural sciences', 'medical and health sciences', 'social sciences', 'humanities']\n",
      "Please enter the corrected format: social sciences:80&medical and health sciences:60&natural sciences:40\n"
     ]
    },
    {
     "name": "stderr",
     "output_type": "stream",
     "text": [
      "\r",
      "  0%|▎                                                                              | 6/1569 [00:44<3:13:18,  7.42s/it]"
     ]
    },
    {
     "name": "stdout",
     "output_type": "stream",
     "text": [
      "Manual input required. Current answer: law:80&social sciences:70&social sciences:60&psychology:40&humanities:30. Possible answers: ['natural sciences', 'engineering and technology', 'agricultural sciences', 'medical and health sciences', 'social sciences', 'humanities']\n",
      "Please enter the corrected format: social sciences:70&humanities:30\n"
     ]
    },
    {
     "name": "stderr",
     "output_type": "stream",
     "text": [
      "100%|██████████████████████████████████████████████████████████████████████████████| 1569/1569 [01:15<00:00, 20.91it/s]\n"
     ]
    }
   ],
   "source": [
    "from tqdm import tqdm\n",
    "import json\n",
    "\n",
    "results_path = 'results/ChatGPT/intermediate_results/chatgpt_results_hierarchical2_description_title50.json'\n",
    "manual_input = False  # Change to True to allow manual correction of the gpt-3.5-turbo response\n",
    "\n",
    "# Load existing results or initialize an empty dictionary if the file doesn't exist\n",
    "try:\n",
    "    with open(results_path, 'r') as file:\n",
    "        results = json.load(file)\n",
    "except FileNotFoundError:\n",
    "    results = {}\n",
    "\n",
    "for code, abstract in tqdm(test_dict.items()):\n",
    "    if code in results:\n",
    "        continue\n",
    "\n",
    "    try:\n",
    "        # Predict the level 1\n",
    "        prompt = initial_prompt.format(abstract)\n",
    "        answer = gpt_with_retry(prompt)\n",
    "        attempts = 0\n",
    "        answer_temp = answer\n",
    "        # Check initial answer's structure and belonging\n",
    "        answer = get_check_results(0, answer)\n",
    "        while not answer and attempts < 5:\n",
    "            answer = gpt_with_retry(prompt)\n",
    "            answer = get_check_results(0, answer)\n",
    "            attempts += 1\n",
    "        \n",
    "        if attempts == 5:  # Skip to the next pair if the condition isn't met after 5 attempts\n",
    "            if manual_input:\n",
    "                    print(f\"Manual input required. Current answer: {answer_temp}. Possible answers: {lvl1}\")\n",
    "                    # Allow the user to input the correct format\n",
    "                    corrected_answer = input(\"Please enter the corrected format: \")\n",
    "                    answer = get_check_results(0, corrected_answer)\n",
    "            else:\n",
    "                    continue\n",
    "        discipline_set = answer\n",
    "\n",
    "        # For each level 1 selected, predict level 2\n",
    "        for ans in list(discipline_set.keys()):\n",
    "            new_prompt = lvl1_prompts[ans].format(abstract)\n",
    "            final_answer = gpt_with_retry(new_prompt)\n",
    "            final_attempts = 0\n",
    "            final_answer_temp = final_answer\n",
    "            final_answer = get_check_results(1, final_answer, ans)\n",
    "            # Check final answer's structure and belonging\n",
    "            while not final_answer and final_attempts < 10:\n",
    "                final_answer = gpt_with_retry(new_prompt)\n",
    "                final_answer = get_check_results(1, final_answer, ans)\n",
    "                final_attempts += 1\n",
    "            \n",
    "            if final_attempts < 10:\n",
    "                discipline_set[ans]['disciplines'] = final_answer\n",
    "            else:\n",
    "                if manual_input:\n",
    "                    print(f\"Manual input required for {ans}. Current answer: {final_answer_temp}. Possible answers: {lvl12[ans]}\")\n",
    "                    # Allow the user to input the correct format\n",
    "                    corrected_answer = input(\"Please enter the corrected format: \")\n",
    "                    discipline_set[ans]['disciplines'] = {x.split(':')[0].strip(): x.split(':')[1].strip() for x in corrected_answer.split('&') if x.split(':')[0].strip() in lvl12[ans]}\n",
    "                else:\n",
    "                    print(f\"Max attempts reached for {ans}.\")\n",
    "                    raise Exception('Max attempts reached for a discipline')  # If final answer doesn't meet criteria after max attempts\n",
    "\n",
    "        results[code] = discipline_set  # Update results for this code-abstract pair\n",
    "\n",
    "        # Save after processing each pair\n",
    "        with open(results_path, 'w+') as f:\n",
    "            json.dump(results, f, indent=4)\n",
    "\n",
    "    except Exception as e:\n",
    "        print(f\"Error processing {code}: {e}\")"
   ]
  }
 ],
 "metadata": {
  "kernelspec": {
   "display_name": "Python 3",
   "language": "python",
   "name": "python3"
  },
  "language_info": {
   "codemirror_mode": {
    "name": "ipython",
    "version": 3
   },
   "file_extension": ".py",
   "mimetype": "text/x-python",
   "name": "python",
   "nbconvert_exporter": "python",
   "pygments_lexer": "ipython3",
   "version": "3.9.1"
  }
 },
 "nbformat": 4,
 "nbformat_minor": 4
}
