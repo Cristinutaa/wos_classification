{
 "cells": [
  {
   "cell_type": "code",
   "execution_count": 1,
   "metadata": {},
   "outputs": [
    {
     "name": "stdout",
     "output_type": "stream",
     "text": [
      "Requirement already satisfied: openai in c:\\users\\carhiliuc\\anaconda3\\envs\\univer\\lib\\site-packages (0.28.1)\n",
      "Requirement already satisfied: aiohttp in c:\\users\\carhiliuc\\anaconda3\\envs\\univer\\lib\\site-packages (from openai) (3.7.4)\n",
      "Requirement already satisfied: requests>=2.20 in c:\\users\\carhiliuc\\anaconda3\\envs\\univer\\lib\\site-packages (from openai) (2.31.0)\n",
      "Requirement already satisfied: tqdm in c:\\users\\carhiliuc\\anaconda3\\envs\\univer\\lib\\site-packages (from openai) (4.65.0)\n",
      "Requirement already satisfied: charset-normalizer<4,>=2 in c:\\users\\carhiliuc\\anaconda3\\envs\\univer\\lib\\site-packages (from requests>=2.20->openai) (3.1.0)\n",
      "Requirement already satisfied: idna<4,>=2.5 in c:\\users\\carhiliuc\\anaconda3\\envs\\univer\\lib\\site-packages (from requests>=2.20->openai) (2.10)\n",
      "Requirement already satisfied: urllib3<3,>=1.21.1 in c:\\users\\carhiliuc\\anaconda3\\envs\\univer\\lib\\site-packages (from requests>=2.20->openai) (1.26.4)\n",
      "Requirement already satisfied: certifi>=2017.4.17 in c:\\users\\carhiliuc\\anaconda3\\envs\\univer\\lib\\site-packages (from requests>=2.20->openai) (2023.7.22)\n",
      "Requirement already satisfied: typing-extensions>=3.6.5 in c:\\users\\carhiliuc\\anaconda3\\envs\\univer\\lib\\site-packages (from aiohttp->openai) (4.7.1)\n",
      "Requirement already satisfied: attrs>=17.3.0 in c:\\users\\carhiliuc\\anaconda3\\envs\\univer\\lib\\site-packages (from aiohttp->openai) (20.3.0)\n",
      "Requirement already satisfied: chardet<4.0,>=2.0 in c:\\users\\carhiliuc\\anaconda3\\envs\\univer\\lib\\site-packages (from aiohttp->openai) (3.0.4)\n",
      "Requirement already satisfied: async-timeout<4.0,>=3.0 in c:\\users\\carhiliuc\\anaconda3\\envs\\univer\\lib\\site-packages (from aiohttp->openai) (3.0.1)\n",
      "Requirement already satisfied: multidict<7.0,>=4.5 in c:\\users\\carhiliuc\\anaconda3\\envs\\univer\\lib\\site-packages (from aiohttp->openai) (5.1.0)\n",
      "Requirement already satisfied: yarl<2.0,>=1.0 in c:\\users\\carhiliuc\\anaconda3\\envs\\univer\\lib\\site-packages (from aiohttp->openai) (1.6.3)\n",
      "Requirement already satisfied: colorama in c:\\users\\carhiliuc\\anaconda3\\envs\\univer\\lib\\site-packages (from tqdm->openai) (0.4.4)\n"
     ]
    }
   ],
   "source": [
    "!pip install openai\n",
    "import openai\n",
    "from tqdm import tqdm\n",
    "import json\n",
    "import pandas as pd\n",
    "import requests"
   ]
  },
  {
   "cell_type": "code",
   "execution_count": 2,
   "metadata": {},
   "outputs": [],
   "source": [
    "tqdm.pandas()"
   ]
  },
  {
   "cell_type": "code",
   "execution_count": 3,
   "metadata": {},
   "outputs": [],
   "source": [
    "openai.api_key = \"api key\"\n",
    "model_names = {'ChatGPT': 'gpt-3.5-turbo',\n",
    "               'GPT-4': 'gpt-4',\n",
    "               'InstructGPT': 'text-davinci-003'}\n",
    "_MODEL = 'ChatGPT'\n",
    "_MODEL_NAME = model_names[_MODEL]\n",
    "_MAX_NUM_TOKENS = 4096\n",
    "max_input_tokens = 3800\n",
    "api_url = \"https://api.openai.com/v1/chat/completions\""
   ]
  },
  {
   "cell_type": "code",
   "execution_count": 4,
   "metadata": {},
   "outputs": [],
   "source": [
    "def chatgpt_annotate(prompt):\n",
    "\n",
    "\n",
    "    # prompting the model API until we have an output in the desired dictionary format\n",
    "\n",
    "    # first prompting the model API until it returns an output\n",
    "    while True:\n",
    "        try:\n",
    "            response = openai.ChatCompletion.create(\n",
    "                                model=_MODEL_NAME,\n",
    "                                messages=[{\"role\": \"user\", \"content\": prompt}],\n",
    "                            )\n",
    "            break\n",
    "        except Exception as e:\n",
    "            # If an error occurs, this typically means that the API is overloaded\n",
    "            # wait for 5 seconds and try again\n",
    "            print(e)\n",
    "            print(\"API overloaded, trying again in 5 seconds...\")\n",
    "            time.sleep(5)\n",
    "            continue\n",
    "\n",
    "    response = response[\"choices\"][0][\"message\"][\"content\"]\n",
    "\n",
    "    return response"
   ]
  },
  {
   "cell_type": "code",
   "execution_count": 5,
   "metadata": {},
   "outputs": [],
   "source": [
    "import time\n",
    "def gpt_pairwise_comparison_with_retry(prompt, api_key='api-key'):\n",
    "    # Define the API endpoint for GPT-3.5 Turbo\n",
    "    api_url = \"https://api.openai.com/v1/chat/completions\"\n",
    "\n",
    "    # Set up the headers with your OpenAI API key\n",
    "    headers = {\n",
    "        \"Authorization\": f\"Bearer {api_key}\",\n",
    "        \"Content-Type\": \"application/json\"\n",
    "    }\n",
    "\n",
    "    # Define the data payload for the API request\n",
    "    data = {\n",
    "        \"model\": \"gpt-3.5-turbo\",\n",
    "        \"messages\": [{\"role\": \"user\",\n",
    "                      \"content\": prompt}],\n",
    "    }\n",
    "\n",
    "    attempts = 0\n",
    "    max_attempts = 10  # Maximum number of attempts\n",
    "    while attempts < max_attempts:\n",
    "        try:\n",
    "            response = requests.post(api_url, headers=headers, json=data, timeout=180)  # 60-second timeout\n",
    "            if response.status_code == 200:\n",
    "                response = response.json()['choices'][0]['message']['content'].strip(' .,').lower()\n",
    "                return response\n",
    "            else:\n",
    "                attempts += 1\n",
    "                print('Status code {}'.format(response.status_code))\n",
    "                time.sleep(60 if str(response.status_code) == '429' else 5)  # Wait for 5 seconds before retrying\n",
    "        except requests.exceptions.Timeout as e:\n",
    "            attempts += 1  # Retry if the request times out\n",
    "            time.sleep(5)\n",
    "            print(attempts, e)\n",
    "        except requests.exceptions.RequestException as e:\n",
    "            attempts += 1\n",
    "            time.sleep(5)  # Wait for 5 seconds before retrying\n",
    "            print(attempts, e)\n",
    "    print(prompt)\n",
    "    raise Exception('max_attempts exceeded')\n",
    "    return None  # Return None if all attempts fail"
   ]
  },
  {
   "cell_type": "code",
   "execution_count": 6,
   "metadata": {},
   "outputs": [],
   "source": [
    "test_data = pd.read_csv('H:/data/WoS_data/data_gpt50.csv', usecols=['PUBID', 'ABSTRACT', 'final_disciplines'], dtype=str)"
   ]
  },
  {
   "cell_type": "code",
   "execution_count": 7,
   "metadata": {},
   "outputs": [],
   "source": [
    "test_dict = test_data.set_index('PUBID').ABSTRACT.to_dict()"
   ]
  },
  {
   "cell_type": "code",
   "execution_count": 8,
   "metadata": {},
   "outputs": [],
   "source": [
    "initial_prompt = open('prompts/hierarchical/level0pred_description.txt', 'r').read()"
   ]
  },
  {
   "cell_type": "code",
   "execution_count": 9,
   "metadata": {},
   "outputs": [],
   "source": [
    "# To be done after the prompts are written with the structure lvl1: prompt\n",
    "lvl1 = ['natural sciences', 'engineering and technology', 'agricultural sciences', 'medical and health sciences', 'social sciences', 'humanities']\n",
    "lvl1_prompts = {key: open(f'prompts/hierarchical/description_title/{key}.txt', 'r').read() for key in lvl1}"
   ]
  },
  {
   "cell_type": "code",
   "execution_count": 10,
   "metadata": {},
   "outputs": [],
   "source": [
    "lvl12 = json.load(open('discipline_structure.json', 'r'))"
   ]
  },
  {
   "cell_type": "code",
   "execution_count": 11,
   "metadata": {},
   "outputs": [],
   "source": [
    "lvl12 = {key: list(values.keys()) for key, values in lvl12.items()}"
   ]
  },
  {
   "cell_type": "code",
   "execution_count": 12,
   "metadata": {
    "scrolled": true
   },
   "outputs": [
    {
     "data": {
      "text/plain": [
       "{'agricultural sciences': ['agriculture, forestry, and fisheries',\n",
       "  'animal and dairy science',\n",
       "  'veterinary science',\n",
       "  'agricultural biotechnology',\n",
       "  'other agricultural sciences'],\n",
       " 'engineering and technology': ['civil engineering',\n",
       "  'electrical engineering, electronic engineering, information engineering',\n",
       "  'mechanical engineering',\n",
       "  'chemical engineering',\n",
       "  'materials engineering',\n",
       "  'medical engineering',\n",
       "  'environmental engineering',\n",
       "  'environmental biotechnology',\n",
       "  'industrial biotechnology',\n",
       "  'nano-technology',\n",
       "  'other engineering and technologies'],\n",
       " 'humanities': ['history',\n",
       "  'archaeology',\n",
       "  'languages and linguistics',\n",
       "  'literature',\n",
       "  'philosophy and ethics',\n",
       "  'religion',\n",
       "  'arts (arts, history of arts, performing arts, music)',\n",
       "  'other humanities'],\n",
       " 'medical and health sciences': ['basic medicine',\n",
       "  'clinical medicine',\n",
       "  'health sciences',\n",
       "  'health biotechnology',\n",
       "  'other medical sciences'],\n",
       " 'natural sciences': ['mathematics',\n",
       "  'computer and information sciences',\n",
       "  'physical sciences',\n",
       "  'chemical sciences',\n",
       "  'earth and related environmental sciences',\n",
       "  'biological sciences',\n",
       "  'other natural sciences'],\n",
       " 'social sciences': ['psychology',\n",
       "  'economics and business',\n",
       "  'educational sciences',\n",
       "  'sociology',\n",
       "  'law',\n",
       "  'political science',\n",
       "  'social and economic geography',\n",
       "  'media and communications',\n",
       "  'other social sciences']}"
      ]
     },
     "execution_count": 12,
     "metadata": {},
     "output_type": "execute_result"
    }
   ],
   "source": [
    "lvl12"
   ]
  },
  {
   "cell_type": "code",
   "execution_count": 13,
   "metadata": {},
   "outputs": [
    {
     "data": {
      "text/plain": [
       "{'natural sciences': 'Given the following 7 classes: mathematics;computer and information sciences;physical sciences;chemical sciences;earth and related environmental sciences;biological sciences;other natural sciences \\nThe classes description and example of abstracts: \\nmathematics: Pure mathematics, Applied mathematics; Statistics and probability (this excludes applied statistics) \\n Example abstract: Mean convergence theorems using hybrid methods to find common fixed points for noncommutative nonlinear mappings in Hilbert spaces;Estimating the scale parameter of an exponential distribution under progressive type II censoring;Estimating the scale parameter of an exponential distribution under progressive type II censoring \\ncomputer and information sciences: Computer sciences, information science and bioinformatics (hardware development to be in Electrical Engineering, social aspect to be in Media and Communication) \\n Example abstract: Hourly Work of 3D Microstructural Visualization of Dual Phase Steels by SliceGAN;Hourly Work of 3D Microstructural Visualization of Dual Phase Steels by SliceGAN;Uncertain regression model with moving average time series errors \\nphysical sciences: Atomic, molecular and chemical physics (physics of atoms and molecules including collision, interaction with radiation; magnetic resonances; Moessbauer effect); Condensed matter physics (including formerly solid state physics, superconductivity); Particles and fields physics; Nuclear physics; Fluids and plasma physics (including surface physics); Optics (including laser optics and quantum optics), Acoustics; Astronomy (including astrophysics, space science) \\n Example abstract: On stringy origin of minimal flavor violation;Quantum phases of two-component bosons in the extended Bose-Hubbard model;Characterization of Laser-Induced Ionization Dynamics in Solid Dielectrics \\nchemical sciences: Organic chemistry; Inorganic and nuclear chemistry; Physical chemistry, Polymer science, Electrochemistry (dry cells, batteries, fuel cells, corrosion metals, electrolysis); Colloid chemistry; Analytical chemistry \\n Example abstract: Enantioselective synthesis of coumarins catalyzed by an isosteviol-derived tertiary amine-squaramide catalyst;Enantioselective synthesis of coumarins catalyzed by an isosteviol-derived tertiary amine-squaramide catalyst;s-Tetrazine: Robust and Green Photoorganocatalyst for Aerobic Oxidation of N,N-Disubstituted Hydroxylamines to Nitrones \\nearth and related environmental sciences: Geosciences, multidisciplinary; Mineralogy; Palaeontology; Geochemistry and geophysics; Physical geography; Geology; Volcanology; Environmental sciences (social aspects to be in Social and economic geography); Meteorology and atmospheric sciences; climatic research; Oceanography, Hydrology, Water resources \\n Example abstract: Models of Climate, Geophysical Boundary Layers, and the Active Land Layer: In Memory of V. N. Lykosov;The Curious Relationship Between COVID-19 Lockdowns and Urban Heat Islands;Models of Climate, Geophysical Boundary Layers, and the Active Land Layer: In Memory of V. N. Lykosov \\nbiological sciences: Not medical or agricultural, Cell biology, Microbiology; Virology; Biochemistry and molecular biology; Biochemical research methods; Mycology; Biophysics; Genetics and heredity (medical genetics to be 3); reproductive biology (medical aspects to be 3); developmental biology; Plant sciences, botany; Zoology, Ornithology, Entomology, Behavioural sciences biology; Marine biology, freshwater biology, limnology; Ecology; Biodiversity conservation; Biology (theoretical, mathematical, thermal, cryobiology, biological rhythm), Evolutionary biology; other biological topics \\n Example abstract: A new species of Utivarachna Kishida, 1940 from Fanjing Mountain Nature Reserve, Guizhou, China (Araneae: Trachelidae);Rosalydia, a new genus of Neocoelidiinae (Hemiptera: Cicadellidae) from Brazilian Amazon, with description of three new species;NOTES ON THE NEST AND BREEDING OF GOELDI\\'S ANTBIRD (AKLETOS GOELDII), A BAMBOO SPECIALIST, FROM UCAYALI, PERU \\nother natural sciences: Other natural sciences \\n Example abstract:  \\nReturn the most relevant classes for the FOLLOWING abstract. Return ONLY THE CLASSES separated by \"&\" in the ORDER OF RELEVANCE WITH THEIR RELEVANCE SCORE  in one line and never any aditional context: \\n{} \\nPlease, DON\\'T RETURN OTHER CLASSES, ONLY A SUBSET OF THE 7, otherwise the result is invalid!!! The results of my study depends on it.\\n DON\\'T RETURN MORE THAN FIVE RESULTS. ONLY THE MOST RELEVANT AND MAX 5 (1,2,3,4,5 RESULTS)!!!! \\nExample of answer: \"computer and information sciences:70&physical sciences:60\" ',\n",
       " 'engineering and technology': 'Given the following 11 classes: civil engineering;electrical engineering, electronic engineering, information engineering;mechanical engineering;chemical engineering;materials engineering;medical engineering;environmental engineering;environmental biotechnology;industrial biotechnology;nano-technology;other engineering and technologies \\nThe classes description and example of abstracts: \\ncivil engineering: Civil engineering; Architecture engineering; Construction engineering, Municipal and structural engineering; Transport engineering \\n Example abstract: Water pressure on consolidation barriers - measurements in situ;The history of transmission of Russian translatology in China;The mining and energy industry in Colombia: a 30-year overview \\nelectrical engineering, electronic engineering, information engineering: Electrical and electronic engineering; Robotics and automatic control; Automation and control systems; Communication engineering and systems; telecommunications; Computer hardware and architecture \\n Example abstract: A Proportionate Robust Diffusion Recursive Least Exponential Hyperbolic Cosine Algorithm for Distributed Estimation;Multi-Source Detection Performance of Some Linear Sparse Arrays;A Proportionate Robust Diffusion Recursive Least Exponential Hyperbolic Cosine Algorithm for Distributed Estimation \\nmechanical engineering: Mechanical engineering; Applied mechanics; Thermodynamics; Aerospace engineering; Nuclear related engineering; (nuclear physics to be in Physical sciences); Audio engineering, reliability analysis \\n Example abstract: Asymptotic Motion of a Satellite under the Action of Sdot Magnetic Attitude Control;Effect of zeta potential in fractional pulsatile electroosmotic flow of Maxwell fluid;Effect of zeta potential in fractional pulsatile electroosmotic flow of Maxwell fluid \\nchemical engineering: Chemical engineering (plants, products); Chemical process engineering \\n Example abstract: Temperature Distribution in Fluidized Beds of Porous Particles with LiquidInjection;Dynamic Behavior of a Deflector Wheel Classifier during the Start-up Process and Material Change;The Correlation for Effective Distribution Coefficient with Initial Impurity Concentration and Growth Rate for Acrylic Acid in Melt Crystallization \\nmaterials engineering: Materials engineering; Ceramics; Coating and films; Composites (including laminates, reinforced plastics, cermets, combined natural and synthetic fibre fabrics; filled composites); Paper and wood; textiles; including synthetic dyes, colours, fibres; (nanoscale materials to be in Nano-technology; biomaterials to be in Industrial biotechnology) \\n Example abstract: Deformation induced grain boundary segregation and thermal stability of nanolaminated Al-Zn-Mg-Cu alloy;Wear Resistance of Detonation Coatings with Amorphous Structure Under Conditions of Friction Against Nonrigidly Fixed Abrasive Particles;Wear Resistance of Detonation Coatings with Amorphous Structure Under Conditions of Friction Against Nonrigidly Fixed Abrasive Particles \\nmedical engineering: Medical engineering; Medical laboratory technology (including laboratory samples analysis; diagnostic technologies); (Biomaterials to be in Industrial biotechnology [physical characteristics of living material as related to medical implants, devices, sensors]) \\n Example abstract: Digital volume correlation for the characterization of musculoskeletal tissues: Current challenges and future developments;On the Effect of Heterophilic Antibodies on Serum Levels of Cardiac Troponins: A Brief Descriptive Review;Novel advances in strategies and applications of artificial articular cartilage \\nenvironmental engineering: Environmental and geological engineering, geotechnics; Petroleum engineering, (fuel, oils), Energy and fuels; Remote sensing; Mining and mineral processing; Marine engineering, sea vessels; Ocean engineering \\n Example abstract: High-Rate Mining Technology Simulation Modeling;Reducing Negative Impacts of Dormant Pyrite Copper Ore Mine on the Geosphere in the Urals;Reducing Negative Impacts of Dormant Pyrite Copper Ore Mine on the Geosphere in the Urals \\nenvironmental biotechnology: Environmental biotechnology; Bioremediation, diagnostic biotechnologies (DNA chips and biosensing devices) in environmental management; environmental biotechnology related ethics \\n Example abstract: Holistic Process Models: A Bayesian Predictive Ensemble Method for Single and Coupled Unit Operation Models;Can Pulsed Electric Fields Treated Algal Cells Be Used as Stationary Phase in Chromatography?;Holistic Process Models: A Bayesian Predictive Ensemble Method for Single and Coupled Unit Operation Models \\nindustrial biotechnology: Industrial biotechnology; Bioprocessing technologies (industrial processes relying on biological agents to drive the process) biocatalysis, fermentation; bioproducts (products that are manufactured using biological material as feedstock) biomaterials, bioplastics, biofuels, bioderived bulk and fine chemicals, bio-derived novel materials \\n Example abstract: The 3D Bioprinted Scaffolds for Wound Healing;Approaches to Biofunctionalize Polyetheretherketone for Antibacterial: A Review;The 3D Bioprinted Scaffolds for Wound Healing \\nnano-technology: Nano-materials [production and properties]; Nano-processes [applications on nano-scale]; (biomaterials to be in Industrial biotechnology) \\n Example abstract: A Detection-Service-Mobile Three-Terminal Software Platform for Point-of-Care Infectious Disease Detection System;Low-Area Four-Channel Controlled Dielectric Breakdown System Design for Point-of-Care Applications;Deterministic Lateral Displacement (DLD) Analysis Tool Utilizing Machine Learning towards High-Throughput Separation \\nother engineering and technologies: Food and beverages; Other engineering and technologies \\n Example abstract: Measurement of the Parameters of the Forward Scintillator Wall of the BM@N Experiment;Advanced Manufacturing Configuration by Sample-Efficient Batch Bayesian Optimization;ASSESSING THE SUSTAINABILITY OF MANUFACTURING PROCESSES IN THE MANUFACTURE OF TRANSPORT EQUIPMENT, BASED ON FUZZY GREY RELATIONAL ANALYSIS \\nReturn the most relevant classes for the FOLLOWING abstract. Return ONLY THE CLASSES separated by \"&\" in the ORDER OF RELEVANCE WITH THEIR RELEVANCE SCORE  in one line and never any aditional context: \\n{} \\nPlease, DON\\'T RETURN OTHER CLASSES, ONLY A SUBSET OF THE 11, otherwise the result is invalid!!! The results of my study depends on it.\\n DON\\'T RETURN MORE THAN FIVE RESULTS. ONLY THE MOST RELEVANT AND MAX 5 (1,2,3,4,5 RESULTS)!!!! \\nExample of answer: \"civil engineering:70&civil engineering:60\" ',\n",
       " 'agricultural sciences': 'Given the following 5 classes: agriculture, forestry, and fisheries;animal and dairy science;veterinary science;agricultural biotechnology;other agricultural sciences \\nThe classes description and example of abstracts: \\nagriculture, forestry, and fisheries: Agriculture; Forestry; Fishery; Soil science; Horticulture, viticulture; Agronomy, plant breeding and plant protection \\n Example abstract: Method for extracting nematode cysts of the family Heteroderidae from sandy loam soil;Weed Management through Imidazolinones in Pigeon Pea (Cajanus cajan L.);Models for the Economic Impacts of Forest Disturbances: A Systematic Review \\nanimal and dairy science: Animal and dairy science; Husbandry; Pets \\n Example abstract: Tomato pomace waste as safe feed additive for poultry health and production - a review;Tomato pomace waste as safe feed additive for poultry health and production - a review;Tomato pomace waste as safe feed additive for poultry health and production - a review \\nveterinary science: Veterinary science \\n Example abstract: Administering analgesia to birds: NSAIDs, opioids and other agents;Performing bronchoalveolar lavage in horses in the field;Administering analgesia to birds: NSAIDs, opioids and other agents \\nagricultural biotechnology: Agricultural biotechnology and food biotechnology; GM technology (crops and livestock), livestock cloning, marker assisted selection, diagnostics (DNA chips and biosensing devices for the early/accurate detection of diseases) biomass feedstock production technologies, biopharming; agricultural biotechnology related ethics \\n Example abstract:  \\nother agricultural sciences: Other agricultural sciences \\n Example abstract: Kinetic Model Analysis of Mild Autohydrolysis of Eucalyptus Woodchips for Xylose Production;Kinetic Model Analysis of Mild Autohydrolysis of Eucalyptus Woodchips for Xylose Production;Contributions to the Mathematical Modeling of the Threshing and Separation Process in An Axial Flow Combine \\nReturn the most relevant classes for the FOLLOWING abstract. Return ONLY THE CLASSES separated by \"&\" in the ORDER OF RELEVANCE WITH THEIR RELEVANCE SCORE  in one line and never any aditional context: \\n{} \\nPlease, DON\\'T RETURN OTHER CLASSES, ONLY A SUBSET OF THE 5, otherwise the result is invalid!!! The results of my study depends on it.\\n DON\\'T RETURN MORE THAN FIVE RESULTS. ONLY THE MOST RELEVANT AND MAX 5 (1,2,3,4,5 RESULTS)!!!! \\nExample of answer: \"veterinary science:70&agricultural biotechnology:60\" ',\n",
       " 'medical and health sciences': 'Given the following 5 classes: basic medicine;clinical medicine;health sciences;health biotechnology;other medical sciences \\nThe classes description and example of abstracts: \\nbasic medicine: Anatomy and morphology (plant science to be biological studies); Human genetics; Immunology; Neurosciences (including psychophysiology); Pharmacology and pharmacy; Medicinal chemistry; Toxicology; Physiology (including cytology); Pathology \\n Example abstract: An Evaluation of Self-Identified Preferences in Young Children with Behavioral Disorders;MS and GTO proprioceptor subtypes in the molecular genetic era: Opportunities for new advances and perspectives;Marketing and Consulting in Organizational Behavior Management \\nclinical medicine: Andrology; Obstetrics and gynaecology; Paediatrics; Cardiac and Cardiovascular systems; Peripheral vascular disease; Hematology; Respiratory systems; Critical care medicine and Emergency medicine; Anaesthesiology; Orthopaedics; Surgery; Radiology, nuclear medicine and medical imaging; Transplantation; Dentistry, oral surgery and medicine; Dermatology and venereal diseases; Allergy; Rheumatology; Endocrinology and metabolism (including diabetes, hormones); Gastroenterology and hepatology; Urology and nephrology; Oncology; Ophthalmology; Otorhinolaryngology; Psychiatry; Clinical neurology; Geriatrics and gerontology; General and internal medicine; other clinical medicine subjects; Integrative and complementary medicine (alternative practice systems) \\n Example abstract: Incidental Papillary Thyroid Cancer Identified During Parathyroidectomy;Early Detection and Successful Management of Acute Mesenteric Ischaemia in Symptomatic COVID-19 Patient;Incidental Papillary Thyroid Cancer Identified During Parathyroidectomy \\nhealth sciences: Health care sciences and services (including hospital administration, health care financing); Health policy and services; Nursing; Nutrition, Dietetics; Public and environmental health; Tropical medicine; Parasitology; Infectious diseases; epidemiology; Occupational health; Sport and fitness sciences; Social biomedical sciences (includes family planning, sexual health, psycho-oncology, political and social effects of biomedical research); Medical ethics; Substance abuse \\n Example abstract: Improving Global Health and Nursing\\'s International Influence;Introducing the Strategy for Patient Oriented Research (SPOR) Evidence Alliance: a partnership between researchers, patients and health system decision-makers to support rapid-learning and responsive health systems in Canada and beyond;Introducing the Strategy for Patient Oriented Research (SPOR) Evidence Alliance: a partnership between researchers, patients and health system decision-makers to support rapid-learning and responsive health systems in Canada and beyond \\nhealth biotechnology: Health-related biotechnology; Technologies involving the manipulation of cells, tissues, organs or the whole organism (assisted reproduction); Technologies involving identifying the functioning of DNA, proteins and enzymes and how they influence the onset of disease and maintenance of well-being (gene-based diagnostics and therapeutic interventions (pharmacogenomics, gene-based therapeutics); Biomaterials (as related to medical implants, devices, sensors); Medical biotechnology related ethics \\n Example abstract: Primary MSCs for Personalized Medicine: Ethical Challenges, Isolation and Biocompatibility Evaluation of 3D Electrospun and Printed Scaffolds \\nother medical sciences: Forensic science; Other medical sciences \\n Example abstract:  \\nReturn the most relevant classes for the FOLLOWING abstract. Return ONLY THE CLASSES separated by \"&\" in the ORDER OF RELEVANCE WITH THEIR RELEVANCE SCORE  in one line and never any aditional context: \\n{} \\nPlease, DON\\'T RETURN OTHER CLASSES, ONLY A SUBSET OF THE 5, otherwise the result is invalid!!! The results of my study depends on it.\\n DON\\'T RETURN MORE THAN FIVE RESULTS. ONLY THE MOST RELEVANT AND MAX 5 (1,2,3,4,5 RESULTS)!!!! \\nExample of answer: \"basic medicine:70&clinical medicine:60\" ',\n",
       " 'social sciences': 'Given the following 9 classes: psychology;economics and business;educational sciences;sociology;law;political science;social and economic geography;media and communications;other social sciences \\nThe classes description and example of abstracts: \\npsychology: Psychology (including human - machine relations); Psychology, special (including therapy for learning, speech, hearing, visual and other physical and mental disabilities) \\n Example abstract: A comparison of counselling self-efficacy among international and domestic counselling students;In the same boat? An online group career counseling with a group of young adults in the time of COVID-19;Trauma and Stress Associated With Breast Cancer Survivors-A Natural Language Processing Study \\neconomics and business: Economics, Econometrics; Industrial relations; Business and Management \\n Example abstract: Strategic delegation under rational and fulfilled expectations in quantity competition;If the bitcoin market grows, size matters;Media bias with asymmetric media quality \\neducational sciences: Education, general; including training, pedagogy, didactics; Education, special (to gifted persons, those with learning disabilities) \\n Example abstract: Language of instruction in education in Africa: How new questions help generate new answers;Supporting Newcomer English Learners During Remote Learning;Language of instruction in education in Africa: How new questions help generate new answers \\nsociology: Sociology; Demography; Anthropology, ethnology; Social topics (WomenÃ\\xads and gender studies; Social issues; Family studies, Social work) \\n Example abstract: Evaluating the evaluators: What have we learned from \"neutral assessments\" of the Canadian federal evaluation function?;From \"Recognizing the Temple but not the Grave\" to Recognizing Both A Study of the Change of Funeral Culture of the Deang People;\"Conversations with You, Places of Freedom\": Writing, Desire, and Prison Intimacies \\nlaw: Law, criminology, penology \\n Example abstract: Human Dignity in Legal Argumentation: A Functional Perspective;REMARKS ON TECHNOLOGICAL NEUTRALITY IN COPYRIGHT LAW AS A SUBJECT MATTER PROBLEM: LESSONS FROM CANADA;A UNIFIED UNDERSTANDING OF SHIP NATIONALITY IN PEACE AND WAR \\npolitical science: Political science; public administration; organisation theory \\n Example abstract: Learning to Predict Proliferation;Learning to Predict Proliferation;Learning to Predict Proliferation \\nsocial and economic geography: Environmental sciences (social aspects); Cultural and economic geography; Urban studies (Planning and development); Transport planning and social aspects of transport (transport engineering to be Civil Engineering) \\n Example abstract: Frontier politics in the family empire and party empire: the position of Hainan in the Chinese State;Frontier politics in the family empire and party empire: the position of Hainan in the Chinese State;\"A Difficult Balancing Act\": What Planning Involves \\nmedia and communications: Journalism; Information science (social aspects); Library science; Media and socio-cultural communication \\n Example abstract: Sensing What\\'s New: Considering Ethics When Using Sensor Data in Journalistic Practices;Exploring Cultural Competence: A Case Study of Two Academic Libraries;The Impact of the Academic Library on Students\\' Success, in Their Own Words \\nother social sciences: Social sciences, interdisciplinary; Other social sciences \\n Example abstract: Kalidasa and the Bastard Son An Attempt to Read Kalidasa\\'s Na?akas Politically;Kalidasa and the Bastard Son An Attempt to Read Kalidasa\\'s Na?akas Politically;A Useful Failure: Macron\\'s Overture to Russia \\nReturn the most relevant classes for the FOLLOWING abstract. Return ONLY THE CLASSES separated by \"&\" in the ORDER OF RELEVANCE WITH THEIR RELEVANCE SCORE  in one line and never any aditional context: \\n{} \\nPlease, DON\\'T RETURN OTHER CLASSES, ONLY A SUBSET OF THE 9, otherwise the result is invalid!!! The results of my study depends on it.\\n DON\\'T RETURN MORE THAN FIVE RESULTS. ONLY THE MOST RELEVANT AND MAX 5 (1,2,3,4,5 RESULTS)!!!! \\nExample of answer: \"psychology:70&economics and business:60\" ',\n",
       " 'humanities': 'Given the following 8 classes: history;archaeology;languages and linguistics;literature;philosophy and ethics;religion;arts (arts, history of arts, performing arts, music);other humanities \\nThe classes description and example of abstracts: \\nhistory: History (history of science and technology to be in Educational Sciences, history of specific sciences to be under the respective headings) \\n Example abstract: The economic space of cities: an analysis of leather tanners in eighteenth- and nineteenth-century Rome;Navigating Family Welfare and Dwelling Space for Mercantile Migrants in Venice, 1550-1700;THOU HALLOW THE SABBATH DAY. THE SYNODAL REGULATIONS OF WORKON HOLY DAYS (XVI-XVIII CENTURIES) \\narchaeology: Archaeology \\n Example abstract: A Compact in the Rough: Beauty and Material Culture of Agrarian Women in Postbellum South Carolina;Two Pre-Islamic Places of Worship in the Tourism Landscape of the UAE;A Compact in the Rough: Beauty and Material Culture of Agrarian Women in Postbellum South Carolina \\nlanguages and linguistics: General language studies; Specific languages; Linguistics \\n Example abstract: The landscape of non-canonical \\'only\\' in German;Mica preposing as focus fronting;STRUCTURAL CASE ASSIGNMENT, THEMATIC ROLES AND INFORMATION STRUCTURE \\nliterature: General literature studies; Literary theory; Specific literatures \\n Example abstract: Hecataeus and the Origin of Wine A Note on F-15 Fowler;BAUDELAIRE AND THE DRAMA OF MISUNDERSTANDING;Narrative and ethics. An analysis of the usage of literary tradition by Aristotle \\nphilosophy and ethics: Philosophy, History and philosophy of science and technology; Ethics (except ethics related to specific subfields) \\n Example abstract: Causal Accounts of Harming;Causal Accounts of Harming;Action and Rationalization \\nreligion: Theology; Religious studies \\n Example abstract: A repentant sinner: representing the self in Nikephoros Ouranos\\' catanyctic alphabet;A repentant sinner: representing the self in Nikephoros Ouranos\\' catanyctic alphabet;A repentant sinner: representing the self in Nikephoros Ouranos\\' catanyctic alphabet \\narts (arts, history of arts, performing arts, music): Arts, Art history; Architectural design; Performing arts studies (Musicology, Theater science, Dramaturgy); Folklore studies; Studies on Film, Radio and Television \\n Example abstract: Jiimaan, That Teaching Sister: Practices of Archival Care;Highways through the void: chase sequences and the built environment;Ruptures and Wrong-Footings Destabilizing Disciplinary Cultures \\nother humanities: Other humanities \\n Example abstract: Sheltering refugees: ephemeral architecture and mass migration in early modern Venice;Nineteenth Century Color Printing for Visual Instruction;Sheltering refugees: ephemeral architecture and mass migration in early modern Venice \\nReturn the most relevant classes for the FOLLOWING abstract. Return ONLY THE CLASSES separated by \"&\" in the ORDER OF RELEVANCE WITH THEIR RELEVANCE SCORE  in one line and never any aditional context: \\n{} \\nPlease, DON\\'T RETURN OTHER CLASSES, ONLY A SUBSET OF THE 8, otherwise the result is invalid!!! The results of my study depends on it.\\n DON\\'T RETURN MORE THAN FIVE RESULTS. ONLY THE MOST RELEVANT AND MAX 5 (1,2,3,4,5 RESULTS)!!!! \\nExample of answer: \"arts (arts, history of arts, performing arts, music):70&history:60\" '}"
      ]
     },
     "execution_count": 13,
     "metadata": {},
     "output_type": "execute_result"
    }
   ],
   "source": [
    "lvl1_prompts "
   ]
  },
  {
   "cell_type": "code",
   "execution_count": 14,
   "metadata": {},
   "outputs": [],
   "source": [
    "failure = {}"
   ]
  },
  {
   "cell_type": "code",
   "execution_count": 15,
   "metadata": {},
   "outputs": [],
   "source": [
    "import re\n",
    "def check_result_structure(result):\n",
    "    pattern = re.compile(\"^(([a-z,\\-()\\s]+):\\s?[0-9]*\\s?&?)+$\")\n",
    "    return bool(pattern.match(result))\n",
    "def get_check_results(level, answer, previous_level=''):\n",
    "    if not check_result_structure(answer):\n",
    "        return False\n",
    "    values = [x for x in answer.split('&') if int(x.split(':')[1].strip()) > 50]\n",
    "    if level == 0 and all(x.split(':')[0].strip() in lvl1 for x in values):\n",
    "        return {item.split(':')[0].strip(): {'score': item.split(':')[1].strip(), 'disciplines': {}} for item in values}\n",
    "    if level == 1 and all(any(x.split(':')[0].strip() in y for y in lvl12[previous_level]) for x in values):\n",
    "        return {y: x.split(':')[1].strip() for x in values for y in lvl12[previous_level] if x.split(':')[0] in y}\n",
    "    return False"
   ]
  },
  {
   "cell_type": "code",
   "execution_count": 16,
   "metadata": {},
   "outputs": [
    {
     "data": {
      "text/plain": [
       "False"
      ]
     },
     "execution_count": 16,
     "metadata": {},
     "output_type": "execute_result"
    }
   ],
   "source": [
    "get_check_results(1, 'medical engineering:100&materials engineering:90&chemical engineering:80&nano-technology:70&kitten engineering:60', previous_level='engineering and technology')"
   ]
  },
  {
   "cell_type": "code",
   "execution_count": 22,
   "metadata": {
    "scrolled": true
   },
   "outputs": [
    {
     "name": "stderr",
     "output_type": "stream",
     "text": [
      "\r",
      "  0%|                                                                                         | 0/1569 [00:00<?, ?it/s]"
     ]
    },
    {
     "name": "stdout",
     "output_type": "stream",
     "text": [
      "Manual input required. Current answer: social sciences:80&psychology:70&medical and health sciences:60&psychology:50&natural sciences:40. Possible answers: ['natural sciences', 'engineering and technology', 'agricultural sciences', 'medical and health sciences', 'social sciences', 'humanities']\n",
      "Please enter the corrected format: social sciences:80&medical and health sciences:60&natural sciences:40\n"
     ]
    },
    {
     "name": "stderr",
     "output_type": "stream",
     "text": [
      "\r",
      "  0%|▎                                                                              | 6/1569 [00:44<3:13:18,  7.42s/it]"
     ]
    },
    {
     "name": "stdout",
     "output_type": "stream",
     "text": [
      "Manual input required. Current answer: law:80&social sciences:70&social sciences:60&psychology:40&humanities:30. Possible answers: ['natural sciences', 'engineering and technology', 'agricultural sciences', 'medical and health sciences', 'social sciences', 'humanities']\n",
      "Please enter the corrected format: social sciences:70&humanities:30\n"
     ]
    },
    {
     "name": "stderr",
     "output_type": "stream",
     "text": [
      "100%|██████████████████████████████████████████████████████████████████████████████| 1569/1569 [01:15<00:00, 20.91it/s]\n"
     ]
    }
   ],
   "source": [
    "from tqdm import tqdm\n",
    "import json\n",
    "\n",
    "results_path = 'results_subsample/chatgpt_results_hierarchical2_description_title50.json'\n",
    "manual_input = True  # Set to False to raise an error instead\n",
    "\n",
    "# Load existing results or initialize an empty dictionary if the file doesn't exist\n",
    "try:\n",
    "    with open(results_path, 'r') as file:\n",
    "        results = json.load(file)\n",
    "except FileNotFoundError:\n",
    "    results = {}\n",
    "\n",
    "for code, abstract in tqdm(test_dict.items()):\n",
    "    if code in results:\n",
    "        continue\n",
    "\n",
    "    try:\n",
    "        prompt = initial_prompt.format(abstract)\n",
    "        answer = gpt_pairwise_comparison_with_retry(prompt)\n",
    "        attempts = 0\n",
    "        answer_temp = answer\n",
    "        # Check initial answer's structure and belonging\n",
    "        answer = get_check_results(0, answer)\n",
    "        while not answer and attempts < 5:\n",
    "            answer = gpt_pairwise_comparison_with_retry(prompt)\n",
    "            answer = get_check_results(0, answer)\n",
    "            attempts += 1\n",
    "        \n",
    "        if attempts == 5:  # Skip to the next pair if the condition isn't met after 5 attempts\n",
    "            if manual_input:\n",
    "                    print(f\"Manual input required. Current answer: {answer_temp}. Possible answers: {lvl1}\")\n",
    "                    # Allow the user to input the correct format\n",
    "                    corrected_answer = input(\"Please enter the corrected format: \")\n",
    "                    answer = get_check_results(0, corrected_answer)\n",
    "            else:\n",
    "                    continue\n",
    "\n",
    "\n",
    "        # Assuming answer passed the checks, process it\n",
    "        discipline_set = answer\n",
    "\n",
    "        for ans in list(discipline_set.keys()):\n",
    "            new_prompt = lvl1_prompts[ans].format(abstract)\n",
    "            final_answer = gpt_pairwise_comparison_with_retry(new_prompt)\n",
    "            final_attempts = 0\n",
    "            final_answer_temp = final_answer\n",
    "            final_answer = get_check_results(1, final_answer, ans)\n",
    "            # Check final answer's structure and belonging\n",
    "            while not final_answer and final_attempts < 10:\n",
    "                final_answer = gpt_pairwise_comparison_with_retry(new_prompt)\n",
    "                final_answer = get_check_results(1, final_answer, ans)\n",
    "                final_attempts += 1\n",
    "            \n",
    "            if final_attempts < 10:\n",
    "                discipline_set[ans]['disciplines'] = final_answer\n",
    "            else:\n",
    "                if manual_input:\n",
    "                    print(f\"Manual input required for {ans}. Current answer: {final_answer_temp}. Possible answers: {lvl12[ans]}\")\n",
    "                    # Allow the user to input the correct format\n",
    "                    corrected_answer = input(\"Please enter the corrected format: \")\n",
    "                    discipline_set[ans]['disciplines'] = {x.split(':')[0].strip(): x.split(':')[1].strip() for x in corrected_answer.split('&') if x.split(':')[0].strip() in lvl12[ans]}\n",
    "                else:\n",
    "                    print(f\"Max attempts reached for {ans}.\")\n",
    "                    raise Exception('Max attempts reached for a discipline')  # If final answer doesn't meet criteria after max attempts\n",
    "\n",
    "        results[code] = discipline_set  # Update results for this code-abstract pair\n",
    "\n",
    "        # Save after processing each pair\n",
    "        with open(results_path, 'w+') as f:\n",
    "            json.dump(results, f, indent=4)\n",
    "\n",
    "    except Exception as e:\n",
    "        print(f\"Error processing {code}: {e}\")"
   ]
  },
  {
   "cell_type": "code",
   "execution_count": null,
   "metadata": {},
   "outputs": [],
   "source": [
    "set(results.keys()).issubset(set(test_dict.keys()))"
   ]
  },
  {
   "cell_type": "code",
   "execution_count": null,
   "metadata": {},
   "outputs": [],
   "source": [
    "test_data[test_data.PUBID.isin(set(test_dict.keys()) - set(results.keys()))]"
   ]
  },
  {
   "cell_type": "code",
   "execution_count": null,
   "metadata": {},
   "outputs": [],
   "source": [
    "test_data"
   ]
  },
  {
   "cell_type": "code",
   "execution_count": null,
   "metadata": {},
   "outputs": [],
   "source": [
    "failure"
   ]
  },
  {
   "cell_type": "code",
   "execution_count": null,
   "metadata": {},
   "outputs": [],
   "source": [
    "check_result_structure('media and communications:80&other social sciences:70&economics and business:60')"
   ]
  },
  {
   "cell_type": "code",
   "execution_count": null,
   "metadata": {},
   "outputs": [],
   "source": [
    "lvl1_prompts['engineering and technology']"
   ]
  },
  {
   "cell_type": "code",
   "execution_count": null,
   "metadata": {},
   "outputs": [],
   "source": [
    "prompt"
   ]
  },
  {
   "cell_type": "code",
   "execution_count": null,
   "metadata": {},
   "outputs": [],
   "source": [
    "file_path = 'results_subsample/chatgpt_results_hierarchical2_description_abstract.json'\n",
    "\n",
    "with open(file_path, 'r') as file:\n",
    "    json_data = json.load(file)"
   ]
  },
  {
   "cell_type": "code",
   "execution_count": null,
   "metadata": {},
   "outputs": [],
   "source": [
    "analysis_result = {\n",
    "    \"type\": type(json_data).__name__,\n",
    "    \"keys\": list(json_data.keys()) if isinstance(json_data, dict) else \"N/A\"\n",
    "}"
   ]
  },
  {
   "cell_type": "code",
   "execution_count": null,
   "metadata": {},
   "outputs": [],
   "source": [
    "analysis_result"
   ]
  },
  {
   "cell_type": "code",
   "execution_count": null,
   "metadata": {},
   "outputs": [],
   "source": []
  }
 ],
 "metadata": {
  "kernelspec": {
   "display_name": "Python 3",
   "language": "python",
   "name": "python3"
  },
  "language_info": {
   "codemirror_mode": {
    "name": "ipython",
    "version": 3
   },
   "file_extension": ".py",
   "mimetype": "text/x-python",
   "name": "python",
   "nbconvert_exporter": "python",
   "pygments_lexer": "ipython3",
   "version": "3.9.1"
  }
 },
 "nbformat": 4,
 "nbformat_minor": 4
}