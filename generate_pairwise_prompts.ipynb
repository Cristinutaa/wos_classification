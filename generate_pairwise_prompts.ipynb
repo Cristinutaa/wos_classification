{
 "cells": [
  {
   "cell_type": "code",
   "execution_count": 4,
   "id": "wrapped-consent",
   "metadata": {},
   "outputs": [],
   "source": [
    "import json\n",
    "\n",
    "file_path = 'discipline_structure.json'"
   ]
  },
  {
   "cell_type": "code",
   "execution_count": 12,
   "id": "sweet-rachel",
   "metadata": {},
   "outputs": [],
   "source": [
    "import itertools\n",
    "import os\n",
    "import json\n",
    "\n",
    "# Load the data from the JSON file\n",
    "file_path = 'discipline_structure.json'\n",
    "with open(file_path, 'r') as file:\n",
    "    discipline_data = json.load(file)\n",
    "\n",
    "# Function to create prompts for pairwise comparison at the discipline level\n",
    "def create_discipline_prompts(disciplines, folder):\n",
    "    for discipline1, discipline2 in itertools.combinations(disciplines.keys(), 2):\n",
    "        # Generate the description as a list of subdisciplines for each discipline\n",
    "        description1 = \"; \".join(disciplines[discipline1].keys())\n",
    "        description2 = \"; \".join(disciplines[discipline2].keys())\n",
    "\n",
    "        # Create the prompt with a placeholder for the abstract\n",
    "        prompt = (f\"Given the abstract '{{}}' and the disciplines '{discipline1}' and '{discipline2}', \"\n",
    "                  f\"with the descriptions:\\n'{description1}' (for {discipline1}) and\\n'{description2}' (for {discipline2}), \"\n",
    "                  f\"which one is more relevant? Choose only one and only write your choice, no additional information. Choose only between '{discipline1}' and '{discipline2}'\")\n",
    "\n",
    "        # Write the prompt to a file\n",
    "        filename = f\"{discipline1}_vs_{discipline2}.txt\"\n",
    "        filepath = os.path.join(folder, filename)\n",
    "        with open(filepath, 'w') as file:\n",
    "            file.write(prompt)\n",
    "\n",
    "# Function to create prompts for pairwise comparison at the subdiscipline level\n",
    "def create_subdiscipline_prompts(disciplines, base_folder):\n",
    "    for discipline, subdisciplines in disciplines.items():\n",
    "        discipline_folder = os.path.join(base_folder, discipline)\n",
    "        os.makedirs(discipline_folder, exist_ok=True)\n",
    "\n",
    "        for sub1, sub2 in itertools.combinations(subdisciplines.keys(), 2):\n",
    "            # Use the descriptions of the subdisciplines\n",
    "            description1 = subdisciplines[sub1]['description'] if 'description' in subdisciplines[sub1] else 'No description available'\n",
    "            description2 = subdisciplines[sub2]['description'] if 'description' in subdisciplines[sub2] else 'No description available'\n",
    "\n",
    "            # Create the prompt\n",
    "            prompt = (f\"Given the abstract '{{}}' and the disciplines '{sub1}' and '{sub2}', \"\n",
    "                      f\"with the descriptions:\\n'{description1}' (for {sub1}) and\\n'{description2}' (for {sub2}), \"\n",
    "                      f\"which one is more relevant? Choose only one and only write your choice, no additional information. Choose only between '{sub1}' and '{sub2}'\")\n",
    "\n",
    "            # Write the prompt to a file\n",
    "            filename = f\"{sub1}_vs_{sub2}.txt\"\n",
    "            filepath = os.path.join(discipline_folder, filename)\n",
    "            with open(filepath, 'w') as file:\n",
    "                file.write(prompt)\n",
    "\n",
    "# Create the base folder for prompts\n",
    "base_prompt_folder = 'prompts/pairwise_comparison'\n",
    "os.makedirs(base_prompt_folder, exist_ok=True)\n",
    "\n",
    "# Create prompts for disciplines\n",
    "create_discipline_prompts(discipline_data, base_prompt_folder)\n",
    "\n",
    "# Create prompts for subdisciplines within each discipline\n",
    "create_subdiscipline_prompts(discipline_data, base_prompt_folder)\n"
   ]
  },
  {
   "cell_type": "code",
   "execution_count": null,
   "id": "bigger-economics",
   "metadata": {},
   "outputs": [],
   "source": []
  }
 ],
 "metadata": {
  "kernelspec": {
   "display_name": "Python 3",
   "language": "python",
   "name": "python3"
  },
  "language_info": {
   "codemirror_mode": {
    "name": "ipython",
    "version": 3
   },
   "file_extension": ".py",
   "mimetype": "text/x-python",
   "name": "python",
   "nbconvert_exporter": "python",
   "pygments_lexer": "ipython3",
   "version": "3.9.1"
  }
 },
 "nbformat": 4,
 "nbformat_minor": 5
}
